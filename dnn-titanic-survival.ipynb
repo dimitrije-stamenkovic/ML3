{
 "cells": [
  {
   "cell_type": "code",
   "execution_count": 1,
   "id": "2f27f258",
   "metadata": {
    "_cell_guid": "b1076dfc-b9ad-4769-8c92-a6c4dae69d19",
    "_uuid": "8f2839f25d086af736a60e9eeb907d3b93b6e0e5",
    "execution": {
     "iopub.execute_input": "2023-02-23T18:57:24.873947Z",
     "iopub.status.busy": "2023-02-23T18:57:24.873344Z",
     "iopub.status.idle": "2023-02-23T18:57:39.830400Z",
     "shell.execute_reply": "2023-02-23T18:57:39.829331Z"
    },
    "papermill": {
     "duration": 14.972412,
     "end_time": "2023-02-23T18:57:39.833002",
     "exception": false,
     "start_time": "2023-02-23T18:57:24.860590",
     "status": "completed"
    },
    "tags": []
   },
   "outputs": [
    {
     "name": "stdout",
     "output_type": "stream",
     "text": [
      "/bin/bash: /opt/conda/lib/libtinfo.so.6: no version information available (required by /bin/bash)\r\n",
      "Collecting lazypredict\r\n",
      "  Downloading lazypredict-0.2.12-py2.py3-none-any.whl (12 kB)\r\n",
      "Requirement already satisfied: tqdm in /opt/conda/lib/python3.7/site-packages (from lazypredict) (4.64.1)\r\n",
      "Requirement already satisfied: xgboost in /opt/conda/lib/python3.7/site-packages (from lazypredict) (1.6.2)\r\n",
      "Requirement already satisfied: joblib in /opt/conda/lib/python3.7/site-packages (from lazypredict) (1.0.1)\r\n",
      "Requirement already satisfied: click in /opt/conda/lib/python3.7/site-packages (from lazypredict) (8.1.3)\r\n",
      "Requirement already satisfied: pandas in /opt/conda/lib/python3.7/site-packages (from lazypredict) (1.3.5)\r\n",
      "Requirement already satisfied: scikit-learn in /opt/conda/lib/python3.7/site-packages (from lazypredict) (1.0.2)\r\n",
      "Requirement already satisfied: lightgbm in /opt/conda/lib/python3.7/site-packages (from lazypredict) (3.3.2)\r\n",
      "Requirement already satisfied: importlib-metadata in /opt/conda/lib/python3.7/site-packages (from click->lazypredict) (6.0.0)\r\n",
      "Requirement already satisfied: numpy in /opt/conda/lib/python3.7/site-packages (from lightgbm->lazypredict) (1.21.6)\r\n",
      "Requirement already satisfied: scipy in /opt/conda/lib/python3.7/site-packages (from lightgbm->lazypredict) (1.7.3)\r\n",
      "Requirement already satisfied: wheel in /opt/conda/lib/python3.7/site-packages (from lightgbm->lazypredict) (0.37.1)\r\n",
      "Requirement already satisfied: threadpoolctl>=2.0.0 in /opt/conda/lib/python3.7/site-packages (from scikit-learn->lazypredict) (3.1.0)\r\n",
      "Requirement already satisfied: python-dateutil>=2.7.3 in /opt/conda/lib/python3.7/site-packages (from pandas->lazypredict) (2.8.2)\r\n",
      "Requirement already satisfied: pytz>=2017.3 in /opt/conda/lib/python3.7/site-packages (from pandas->lazypredict) (2022.2.1)\r\n",
      "Requirement already satisfied: six>=1.5 in /opt/conda/lib/python3.7/site-packages (from python-dateutil>=2.7.3->pandas->lazypredict) (1.16.0)\r\n",
      "Requirement already satisfied: typing-extensions>=3.6.4 in /opt/conda/lib/python3.7/site-packages (from importlib-metadata->click->lazypredict) (4.1.1)\r\n",
      "Requirement already satisfied: zipp>=0.5 in /opt/conda/lib/python3.7/site-packages (from importlib-metadata->click->lazypredict) (3.8.1)\r\n",
      "Installing collected packages: lazypredict\r\n",
      "Successfully installed lazypredict-0.2.12\r\n",
      "\u001b[33mWARNING: Running pip as the 'root' user can result in broken permissions and conflicting behaviour with the system package manager. It is recommended to use a virtual environment instead: https://pip.pypa.io/warnings/venv\u001b[0m\u001b[33m\r\n",
      "\u001b[0m"
     ]
    },
    {
     "data": {
      "text/html": [
       "<style type='text/css'>\n",
       ".datatable table.frame { margin-bottom: 0; }\n",
       ".datatable table.frame thead { border-bottom: none; }\n",
       ".datatable table.frame tr.coltypes td {  color: #FFFFFF;  line-height: 6px;  padding: 0 0.5em;}\n",
       ".datatable .bool    { background: #DDDD99; }\n",
       ".datatable .object  { background: #565656; }\n",
       ".datatable .int     { background: #5D9E5D; }\n",
       ".datatable .float   { background: #4040CC; }\n",
       ".datatable .str     { background: #CC4040; }\n",
       ".datatable .time    { background: #40CC40; }\n",
       ".datatable .row_index {  background: var(--jp-border-color3);  border-right: 1px solid var(--jp-border-color0);  color: var(--jp-ui-font-color3);  font-size: 9px;}\n",
       ".datatable .frame tbody td { text-align: left; }\n",
       ".datatable .frame tr.coltypes .row_index {  background: var(--jp-border-color0);}\n",
       ".datatable th:nth-child(2) { padding-left: 12px; }\n",
       ".datatable .hellipsis {  color: var(--jp-cell-editor-border-color);}\n",
       ".datatable .vellipsis {  background: var(--jp-layout-color0);  color: var(--jp-cell-editor-border-color);}\n",
       ".datatable .na {  color: var(--jp-cell-editor-border-color);  font-size: 80%;}\n",
       ".datatable .sp {  opacity: 0.25;}\n",
       ".datatable .footer { font-size: 9px; }\n",
       ".datatable .frame_dimensions {  background: var(--jp-border-color3);  border-top: 1px solid var(--jp-border-color0);  color: var(--jp-ui-font-color3);  display: inline-block;  opacity: 0.6;  padding: 1px 10px 1px 5px;}\n",
       "</style>\n"
      ],
      "text/plain": [
       "<IPython.core.display.HTML object>"
      ]
     },
     "metadata": {},
     "output_type": "display_data"
    }
   ],
   "source": [
    "!pip install lazypredict\n",
    "\n",
    "import numpy as np # linear algebra\n",
    "import pandas as pd # data processing, CSV file I/O (e.g. pd.read_csv)\n",
    "import seaborn as sns\n",
    "import matplotlib.pyplot as plt\n",
    "from sklearn.preprocessing import LabelEncoder\n",
    "from sklearn.model_selection import train_test_split\n",
    "from sklearn.preprocessing import StandardScaler\n",
    "\n",
    "from lazypredict.Supervised import LazyClassifier\n"
   ]
  },
  {
   "cell_type": "code",
   "execution_count": 2,
   "id": "79c5a348",
   "metadata": {
    "execution": {
     "iopub.execute_input": "2023-02-23T18:57:39.850791Z",
     "iopub.status.busy": "2023-02-23T18:57:39.850462Z",
     "iopub.status.idle": "2023-02-23T18:57:39.874411Z",
     "shell.execute_reply": "2023-02-23T18:57:39.873491Z"
    },
    "papermill": {
     "duration": 0.035476,
     "end_time": "2023-02-23T18:57:39.876904",
     "exception": false,
     "start_time": "2023-02-23T18:57:39.841428",
     "status": "completed"
    },
    "tags": []
   },
   "outputs": [],
   "source": [
    "train = pd.read_csv('/kaggle/input/titanic/train.csv').copy()\n",
    "test = pd.read_csv('/kaggle/input/titanic/test.csv').copy()"
   ]
  },
  {
   "cell_type": "code",
   "execution_count": 3,
   "id": "663223ac",
   "metadata": {
    "execution": {
     "iopub.execute_input": "2023-02-23T18:57:39.895712Z",
     "iopub.status.busy": "2023-02-23T18:57:39.894190Z",
     "iopub.status.idle": "2023-02-23T18:57:39.913557Z",
     "shell.execute_reply": "2023-02-23T18:57:39.912647Z"
    },
    "papermill": {
     "duration": 0.030399,
     "end_time": "2023-02-23T18:57:39.915595",
     "exception": false,
     "start_time": "2023-02-23T18:57:39.885196",
     "status": "completed"
    },
    "tags": []
   },
   "outputs": [
    {
     "data": {
      "text/html": [
       "<div>\n",
       "<style scoped>\n",
       "    .dataframe tbody tr th:only-of-type {\n",
       "        vertical-align: middle;\n",
       "    }\n",
       "\n",
       "    .dataframe tbody tr th {\n",
       "        vertical-align: top;\n",
       "    }\n",
       "\n",
       "    .dataframe thead th {\n",
       "        text-align: right;\n",
       "    }\n",
       "</style>\n",
       "<table border=\"1\" class=\"dataframe\">\n",
       "  <thead>\n",
       "    <tr style=\"text-align: right;\">\n",
       "      <th></th>\n",
       "      <th>PassengerId</th>\n",
       "      <th>Survived</th>\n",
       "      <th>Pclass</th>\n",
       "      <th>Name</th>\n",
       "      <th>Sex</th>\n",
       "      <th>Age</th>\n",
       "      <th>SibSp</th>\n",
       "      <th>Parch</th>\n",
       "      <th>Ticket</th>\n",
       "      <th>Fare</th>\n",
       "      <th>Cabin</th>\n",
       "      <th>Embarked</th>\n",
       "    </tr>\n",
       "  </thead>\n",
       "  <tbody>\n",
       "    <tr>\n",
       "      <th>0</th>\n",
       "      <td>1</td>\n",
       "      <td>0</td>\n",
       "      <td>3</td>\n",
       "      <td>Braund, Mr. Owen Harris</td>\n",
       "      <td>male</td>\n",
       "      <td>22.00</td>\n",
       "      <td>1</td>\n",
       "      <td>0</td>\n",
       "      <td>A/5 21171</td>\n",
       "      <td>7.25</td>\n",
       "      <td>NaN</td>\n",
       "      <td>S</td>\n",
       "    </tr>\n",
       "    <tr>\n",
       "      <th>1</th>\n",
       "      <td>2</td>\n",
       "      <td>1</td>\n",
       "      <td>1</td>\n",
       "      <td>Cumings, Mrs. John Bradley (Florence Briggs Th...</td>\n",
       "      <td>female</td>\n",
       "      <td>38.00</td>\n",
       "      <td>1</td>\n",
       "      <td>0</td>\n",
       "      <td>PC 17599</td>\n",
       "      <td>71.28</td>\n",
       "      <td>C85</td>\n",
       "      <td>C</td>\n",
       "    </tr>\n",
       "    <tr>\n",
       "      <th>2</th>\n",
       "      <td>3</td>\n",
       "      <td>1</td>\n",
       "      <td>3</td>\n",
       "      <td>Heikkinen, Miss. Laina</td>\n",
       "      <td>female</td>\n",
       "      <td>26.00</td>\n",
       "      <td>0</td>\n",
       "      <td>0</td>\n",
       "      <td>STON/O2. 3101282</td>\n",
       "      <td>7.92</td>\n",
       "      <td>NaN</td>\n",
       "      <td>S</td>\n",
       "    </tr>\n",
       "    <tr>\n",
       "      <th>3</th>\n",
       "      <td>4</td>\n",
       "      <td>1</td>\n",
       "      <td>1</td>\n",
       "      <td>Futrelle, Mrs. Jacques Heath (Lily May Peel)</td>\n",
       "      <td>female</td>\n",
       "      <td>35.00</td>\n",
       "      <td>1</td>\n",
       "      <td>0</td>\n",
       "      <td>113803</td>\n",
       "      <td>53.10</td>\n",
       "      <td>C123</td>\n",
       "      <td>S</td>\n",
       "    </tr>\n",
       "    <tr>\n",
       "      <th>4</th>\n",
       "      <td>5</td>\n",
       "      <td>0</td>\n",
       "      <td>3</td>\n",
       "      <td>Allen, Mr. William Henry</td>\n",
       "      <td>male</td>\n",
       "      <td>35.00</td>\n",
       "      <td>0</td>\n",
       "      <td>0</td>\n",
       "      <td>373450</td>\n",
       "      <td>8.05</td>\n",
       "      <td>NaN</td>\n",
       "      <td>S</td>\n",
       "    </tr>\n",
       "  </tbody>\n",
       "</table>\n",
       "</div>"
      ],
      "text/plain": [
       "   PassengerId  Survived  Pclass  \\\n",
       "0            1         0       3   \n",
       "1            2         1       1   \n",
       "2            3         1       3   \n",
       "3            4         1       1   \n",
       "4            5         0       3   \n",
       "\n",
       "                                                Name     Sex   Age  SibSp  \\\n",
       "0                            Braund, Mr. Owen Harris    male 22.00      1   \n",
       "1  Cumings, Mrs. John Bradley (Florence Briggs Th...  female 38.00      1   \n",
       "2                             Heikkinen, Miss. Laina  female 26.00      0   \n",
       "3       Futrelle, Mrs. Jacques Heath (Lily May Peel)  female 35.00      1   \n",
       "4                           Allen, Mr. William Henry    male 35.00      0   \n",
       "\n",
       "   Parch            Ticket  Fare Cabin Embarked  \n",
       "0      0         A/5 21171  7.25   NaN        S  \n",
       "1      0          PC 17599 71.28   C85        C  \n",
       "2      0  STON/O2. 3101282  7.92   NaN        S  \n",
       "3      0            113803 53.10  C123        S  \n",
       "4      0            373450  8.05   NaN        S  "
      ]
     },
     "execution_count": 3,
     "metadata": {},
     "output_type": "execute_result"
    }
   ],
   "source": [
    "train.head()"
   ]
  },
  {
   "cell_type": "code",
   "execution_count": 4,
   "id": "cafba4a4",
   "metadata": {
    "execution": {
     "iopub.execute_input": "2023-02-23T18:57:39.933267Z",
     "iopub.status.busy": "2023-02-23T18:57:39.932960Z",
     "iopub.status.idle": "2023-02-23T18:57:39.938722Z",
     "shell.execute_reply": "2023-02-23T18:57:39.937807Z"
    },
    "papermill": {
     "duration": 0.01675,
     "end_time": "2023-02-23T18:57:39.940700",
     "exception": false,
     "start_time": "2023-02-23T18:57:39.923950",
     "status": "completed"
    },
    "tags": []
   },
   "outputs": [
    {
     "data": {
      "text/plain": [
       "(891, 12)"
      ]
     },
     "execution_count": 4,
     "metadata": {},
     "output_type": "execute_result"
    }
   ],
   "source": [
    "train.shape"
   ]
  },
  {
   "cell_type": "code",
   "execution_count": 5,
   "id": "c4e8630e",
   "metadata": {
    "execution": {
     "iopub.execute_input": "2023-02-23T18:57:39.959529Z",
     "iopub.status.busy": "2023-02-23T18:57:39.958033Z",
     "iopub.status.idle": "2023-02-23T18:57:39.968527Z",
     "shell.execute_reply": "2023-02-23T18:57:39.967660Z"
    },
    "papermill": {
     "duration": 0.021648,
     "end_time": "2023-02-23T18:57:39.970667",
     "exception": false,
     "start_time": "2023-02-23T18:57:39.949019",
     "status": "completed"
    },
    "tags": []
   },
   "outputs": [
    {
     "data": {
      "text/plain": [
       "PassengerId      0\n",
       "Survived         0\n",
       "Pclass           0\n",
       "Name             0\n",
       "Sex              0\n",
       "Age            177\n",
       "SibSp            0\n",
       "Parch            0\n",
       "Ticket           0\n",
       "Fare             0\n",
       "Cabin          687\n",
       "Embarked         2\n",
       "dtype: int64"
      ]
     },
     "execution_count": 5,
     "metadata": {},
     "output_type": "execute_result"
    }
   ],
   "source": [
    "train.isna().sum()"
   ]
  },
  {
   "cell_type": "code",
   "execution_count": 6,
   "id": "4524ba95",
   "metadata": {
    "execution": {
     "iopub.execute_input": "2023-02-23T18:57:39.990386Z",
     "iopub.status.busy": "2023-02-23T18:57:39.988828Z",
     "iopub.status.idle": "2023-02-23T18:57:40.470683Z",
     "shell.execute_reply": "2023-02-23T18:57:40.469590Z"
    },
    "papermill": {
     "duration": 0.494266,
     "end_time": "2023-02-23T18:57:40.473401",
     "exception": false,
     "start_time": "2023-02-23T18:57:39.979135",
     "status": "completed"
    },
    "tags": []
   },
   "outputs": [
    {
     "data": {
      "image/png": "[encoded data removed]",
      "text/plain": [
       "<Figure size 1200x600 with 1 Axes>"
      ]
     },
     "metadata": {},
     "output_type": "display_data"
    }
   ],
   "source": [
    "PLOT_SIZE = (12, 6)\n",
    "sns.set_theme(palette=\"pastel\")\n",
    "plt.figure(figsize=PLOT_SIZE)\n",
    "h = sns.histplot(data=train, x=\"Age\", hue=\"Survived\", kde=True)"
   ]
  },
  {
   "cell_type": "code",
   "execution_count": 7,
   "id": "38e90e02",
   "metadata": {
    "execution": {
     "iopub.execute_input": "2023-02-23T18:57:40.492977Z",
     "iopub.status.busy": "2023-02-23T18:57:40.492354Z",
     "iopub.status.idle": "2023-02-23T18:57:40.992481Z",
     "shell.execute_reply": "2023-02-23T18:57:40.991481Z"
    },
    "papermill": {
     "duration": 0.512624,
     "end_time": "2023-02-23T18:57:40.995079",
     "exception": false,
     "start_time": "2023-02-23T18:57:40.482455",
     "status": "completed"
    },
    "tags": []
   },
   "outputs": [
    {
     "data": {
      "image/png": "[encoded data removed]",
      "text/plain": [
       "<Figure size 1200x600 with 1 Axes>"
      ]
     },
     "metadata": {},
     "output_type": "display_data"
    }
   ],
   "source": [
    "plt.figure(figsize=PLOT_SIZE)\n",
    "h = sns.histplot(data=train, x=\"Age\", hue=\"Pclass\", kde=True).set_title(\"Count age by 'class'\")"
   ]
  },
  {
   "cell_type": "code",
   "execution_count": 8,
   "id": "845e48e5",
   "metadata": {
    "execution": {
     "iopub.execute_input": "2023-02-23T18:57:41.016358Z",
     "iopub.status.busy": "2023-02-23T18:57:41.016033Z",
     "iopub.status.idle": "2023-02-23T18:57:41.027891Z",
     "shell.execute_reply": "2023-02-23T18:57:41.026822Z"
    },
    "papermill": {
     "duration": 0.025386,
     "end_time": "2023-02-23T18:57:41.030490",
     "exception": false,
     "start_time": "2023-02-23T18:57:41.005104",
     "status": "completed"
    },
    "tags": []
   },
   "outputs": [
    {
     "data": {
      "text/html": [
       "<div>\n",
       "<style scoped>\n",
       "    .dataframe tbody tr th:only-of-type {\n",
       "        vertical-align: middle;\n",
       "    }\n",
       "\n",
       "    .dataframe tbody tr th {\n",
       "        vertical-align: top;\n",
       "    }\n",
       "\n",
       "    .dataframe thead th {\n",
       "        text-align: right;\n",
       "    }\n",
       "</style>\n",
       "<table border=\"1\" class=\"dataframe\">\n",
       "  <thead>\n",
       "    <tr style=\"text-align: right;\">\n",
       "      <th></th>\n",
       "      <th>Number</th>\n",
       "    </tr>\n",
       "    <tr>\n",
       "      <th>Pclass</th>\n",
       "      <th></th>\n",
       "    </tr>\n",
       "  </thead>\n",
       "  <tbody>\n",
       "    <tr>\n",
       "      <th>1</th>\n",
       "      <td>216</td>\n",
       "    </tr>\n",
       "    <tr>\n",
       "      <th>2</th>\n",
       "      <td>184</td>\n",
       "    </tr>\n",
       "    <tr>\n",
       "      <th>3</th>\n",
       "      <td>491</td>\n",
       "    </tr>\n",
       "  </tbody>\n",
       "</table>\n",
       "</div>"
      ],
      "text/plain": [
       "        Number\n",
       "Pclass        \n",
       "1          216\n",
       "2          184\n",
       "3          491"
      ]
     },
     "execution_count": 8,
     "metadata": {},
     "output_type": "execute_result"
    }
   ],
   "source": [
    "train.groupby([\"Pclass\"])[\"PassengerId\"].agg([\"count\"]).rename(columns={\"count\":\"Number\"})"
   ]
  },
  {
   "cell_type": "code",
   "execution_count": 9,
   "id": "d6eb2e65",
   "metadata": {
    "execution": {
     "iopub.execute_input": "2023-02-23T18:57:41.052339Z",
     "iopub.status.busy": "2023-02-23T18:57:41.051987Z",
     "iopub.status.idle": "2023-02-23T18:57:41.067142Z",
     "shell.execute_reply": "2023-02-23T18:57:41.065965Z"
    },
    "papermill": {
     "duration": 0.028964,
     "end_time": "2023-02-23T18:57:41.069545",
     "exception": false,
     "start_time": "2023-02-23T18:57:41.040581",
     "status": "completed"
    },
    "tags": []
   },
   "outputs": [
    {
     "data": {
      "text/html": [
       "<div>\n",
       "<style scoped>\n",
       "    .dataframe tbody tr th:only-of-type {\n",
       "        vertical-align: middle;\n",
       "    }\n",
       "\n",
       "    .dataframe tbody tr th {\n",
       "        vertical-align: top;\n",
       "    }\n",
       "\n",
       "    .dataframe thead th {\n",
       "        text-align: right;\n",
       "    }\n",
       "</style>\n",
       "<table border=\"1\" class=\"dataframe\">\n",
       "  <thead>\n",
       "    <tr style=\"text-align: right;\">\n",
       "      <th></th>\n",
       "      <th></th>\n",
       "      <th>count</th>\n",
       "    </tr>\n",
       "    <tr>\n",
       "      <th>Sex</th>\n",
       "      <th>Pclass</th>\n",
       "      <th></th>\n",
       "    </tr>\n",
       "  </thead>\n",
       "  <tbody>\n",
       "    <tr>\n",
       "      <th rowspan=\"3\" valign=\"top\">female</th>\n",
       "      <th>1</th>\n",
       "      <td>94</td>\n",
       "    </tr>\n",
       "    <tr>\n",
       "      <th>2</th>\n",
       "      <td>76</td>\n",
       "    </tr>\n",
       "    <tr>\n",
       "      <th>3</th>\n",
       "      <td>144</td>\n",
       "    </tr>\n",
       "    <tr>\n",
       "      <th rowspan=\"3\" valign=\"top\">male</th>\n",
       "      <th>1</th>\n",
       "      <td>122</td>\n",
       "    </tr>\n",
       "    <tr>\n",
       "      <th>2</th>\n",
       "      <td>108</td>\n",
       "    </tr>\n",
       "    <tr>\n",
       "      <th>3</th>\n",
       "      <td>347</td>\n",
       "    </tr>\n",
       "  </tbody>\n",
       "</table>\n",
       "</div>"
      ],
      "text/plain": [
       "               count\n",
       "Sex    Pclass       \n",
       "female 1          94\n",
       "       2          76\n",
       "       3         144\n",
       "male   1         122\n",
       "       2         108\n",
       "       3         347"
      ]
     },
     "execution_count": 9,
     "metadata": {},
     "output_type": "execute_result"
    }
   ],
   "source": [
    "train.groupby([\"Sex\",\"Pclass\"])[\"Pclass\"].agg([\"count\"])"
   ]
  },
  {
   "cell_type": "code",
   "execution_count": 10,
   "id": "f67ea047",
   "metadata": {
    "execution": {
     "iopub.execute_input": "2023-02-23T18:57:41.091717Z",
     "iopub.status.busy": "2023-02-23T18:57:41.091382Z",
     "iopub.status.idle": "2023-02-23T18:57:41.105913Z",
     "shell.execute_reply": "2023-02-23T18:57:41.104894Z"
    },
    "papermill": {
     "duration": 0.027941,
     "end_time": "2023-02-23T18:57:41.108156",
     "exception": false,
     "start_time": "2023-02-23T18:57:41.080215",
     "status": "completed"
    },
    "tags": []
   },
   "outputs": [
    {
     "data": {
      "text/html": [
       "<div>\n",
       "<style scoped>\n",
       "    .dataframe tbody tr th:only-of-type {\n",
       "        vertical-align: middle;\n",
       "    }\n",
       "\n",
       "    .dataframe tbody tr th {\n",
       "        vertical-align: top;\n",
       "    }\n",
       "\n",
       "    .dataframe thead th {\n",
       "        text-align: right;\n",
       "    }\n",
       "</style>\n",
       "<table border=\"1\" class=\"dataframe\">\n",
       "  <thead>\n",
       "    <tr style=\"text-align: right;\">\n",
       "      <th></th>\n",
       "      <th>All</th>\n",
       "      <th>Survived</th>\n",
       "      <th>Dead</th>\n",
       "    </tr>\n",
       "    <tr>\n",
       "      <th>Pclass</th>\n",
       "      <th></th>\n",
       "      <th></th>\n",
       "      <th></th>\n",
       "    </tr>\n",
       "  </thead>\n",
       "  <tbody>\n",
       "    <tr>\n",
       "      <th>1</th>\n",
       "      <td>216</td>\n",
       "      <td>136</td>\n",
       "      <td>80</td>\n",
       "    </tr>\n",
       "    <tr>\n",
       "      <th>2</th>\n",
       "      <td>184</td>\n",
       "      <td>87</td>\n",
       "      <td>97</td>\n",
       "    </tr>\n",
       "    <tr>\n",
       "      <th>3</th>\n",
       "      <td>491</td>\n",
       "      <td>119</td>\n",
       "      <td>372</td>\n",
       "    </tr>\n",
       "  </tbody>\n",
       "</table>\n",
       "</div>"
      ],
      "text/plain": [
       "        All  Survived  Dead\n",
       "Pclass                     \n",
       "1       216       136    80\n",
       "2       184        87    97\n",
       "3       491       119   372"
      ]
     },
     "execution_count": 10,
     "metadata": {},
     "output_type": "execute_result"
    }
   ],
   "source": [
    "classes_grouped = train.groupby([\"Pclass\"])[\"Survived\"].agg([\"count\", \"sum\"])\n",
    "classes_grouped[\"sub\"] = classes_grouped[\"count\"] - classes_grouped[\"sum\"]\n",
    "\n",
    "classes_grouped.rename(columns={\"count\" : \"All\",\n",
    "                                \"sum\" : \"Survived\",\n",
    "                                \"sub\" : \"Dead\"})"
   ]
  },
  {
   "cell_type": "code",
   "execution_count": 11,
   "id": "903783b6",
   "metadata": {
    "execution": {
     "iopub.execute_input": "2023-02-23T18:57:41.130802Z",
     "iopub.status.busy": "2023-02-23T18:57:41.129812Z",
     "iopub.status.idle": "2023-02-23T18:57:41.366778Z",
     "shell.execute_reply": "2023-02-23T18:57:41.365770Z"
    },
    "papermill": {
     "duration": 0.25116,
     "end_time": "2023-02-23T18:57:41.369742",
     "exception": false,
     "start_time": "2023-02-23T18:57:41.118582",
     "status": "completed"
    },
    "tags": []
   },
   "outputs": [
    {
     "data": {
      "image/png": "[encoded data removed]",
      "text/plain": [
       "<Figure size 1200x600 with 1 Axes>"
      ]
     },
     "metadata": {},
     "output_type": "display_data"
    }
   ],
   "source": [
    "plt.figure(figsize=PLOT_SIZE)\n",
    "c = sns.countplot(data=train, x=\"Sex\", hue=\"Survived\")"
   ]
  },
  {
   "cell_type": "markdown",
   "id": "65526f0b",
   "metadata": {
    "papermill": {
     "duration": 0.010336,
     "end_time": "2023-02-23T18:57:41.391313",
     "exception": false,
     "start_time": "2023-02-23T18:57:41.380977",
     "status": "completed"
    },
    "tags": []
   },
   "source": [
    "Predprocesiranje"
   ]
  },
  {
   "cell_type": "code",
   "execution_count": 12,
   "id": "ddde7541",
   "metadata": {
    "execution": {
     "iopub.execute_input": "2023-02-23T18:57:41.413836Z",
     "iopub.status.busy": "2023-02-23T18:57:41.413462Z",
     "iopub.status.idle": "2023-02-23T18:57:41.425315Z",
     "shell.execute_reply": "2023-02-23T18:57:41.424304Z"
    },
    "papermill": {
     "duration": 0.025618,
     "end_time": "2023-02-23T18:57:41.427410",
     "exception": false,
     "start_time": "2023-02-23T18:57:41.401792",
     "status": "completed"
    },
    "tags": []
   },
   "outputs": [
    {
     "data": {
      "text/plain": [
       "0      Mr\n",
       "1     Mrs\n",
       "2    Miss\n",
       "3     Mrs\n",
       "4      Mr\n",
       "Name: Title, dtype: object"
      ]
     },
     "execution_count": 12,
     "metadata": {},
     "output_type": "execute_result"
    }
   ],
   "source": [
    "def get_title(text):\n",
    "    for word in text.split():\n",
    "        if \".\" in word:\n",
    "            return word[:-1]\n",
    "        \n",
    "        \n",
    "train[\"Title\"] = train[\"Name\"].map(get_title)\n",
    "train[\"Title\"].head()"
   ]
  },
  {
   "cell_type": "code",
   "execution_count": 13,
   "id": "28cc1ae1",
   "metadata": {
    "execution": {
     "iopub.execute_input": "2023-02-23T18:57:41.450175Z",
     "iopub.status.busy": "2023-02-23T18:57:41.449354Z",
     "iopub.status.idle": "2023-02-23T18:57:41.463741Z",
     "shell.execute_reply": "2023-02-23T18:57:41.462762Z"
    },
    "papermill": {
     "duration": 0.02787,
     "end_time": "2023-02-23T18:57:41.465725",
     "exception": false,
     "start_time": "2023-02-23T18:57:41.437855",
     "status": "completed"
    },
    "tags": []
   },
   "outputs": [
    {
     "data": {
      "text/html": [
       "<div>\n",
       "<style scoped>\n",
       "    .dataframe tbody tr th:only-of-type {\n",
       "        vertical-align: middle;\n",
       "    }\n",
       "\n",
       "    .dataframe tbody tr th {\n",
       "        vertical-align: top;\n",
       "    }\n",
       "\n",
       "    .dataframe thead th {\n",
       "        text-align: right;\n",
       "    }\n",
       "</style>\n",
       "<table border=\"1\" class=\"dataframe\">\n",
       "  <thead>\n",
       "    <tr style=\"text-align: right;\">\n",
       "      <th></th>\n",
       "      <th>All</th>\n",
       "      <th>Survived</th>\n",
       "      <th>Dead</th>\n",
       "    </tr>\n",
       "    <tr>\n",
       "      <th>Title</th>\n",
       "      <th></th>\n",
       "      <th></th>\n",
       "      <th></th>\n",
       "    </tr>\n",
       "  </thead>\n",
       "  <tbody>\n",
       "    <tr>\n",
       "      <th>Mr</th>\n",
       "      <td>517</td>\n",
       "      <td>81</td>\n",
       "      <td>436</td>\n",
       "    </tr>\n",
       "    <tr>\n",
       "      <th>Miss</th>\n",
       "      <td>182</td>\n",
       "      <td>127</td>\n",
       "      <td>55</td>\n",
       "    </tr>\n",
       "    <tr>\n",
       "      <th>Mrs</th>\n",
       "      <td>125</td>\n",
       "      <td>99</td>\n",
       "      <td>26</td>\n",
       "    </tr>\n",
       "    <tr>\n",
       "      <th>Master</th>\n",
       "      <td>40</td>\n",
       "      <td>23</td>\n",
       "      <td>17</td>\n",
       "    </tr>\n",
       "    <tr>\n",
       "      <th>Dr</th>\n",
       "      <td>7</td>\n",
       "      <td>3</td>\n",
       "      <td>4</td>\n",
       "    </tr>\n",
       "    <tr>\n",
       "      <th>Rev</th>\n",
       "      <td>6</td>\n",
       "      <td>0</td>\n",
       "      <td>6</td>\n",
       "    </tr>\n",
       "    <tr>\n",
       "      <th>Major</th>\n",
       "      <td>2</td>\n",
       "      <td>1</td>\n",
       "      <td>1</td>\n",
       "    </tr>\n",
       "    <tr>\n",
       "      <th>Col</th>\n",
       "      <td>2</td>\n",
       "      <td>1</td>\n",
       "      <td>1</td>\n",
       "    </tr>\n",
       "    <tr>\n",
       "      <th>Mlle</th>\n",
       "      <td>2</td>\n",
       "      <td>2</td>\n",
       "      <td>0</td>\n",
       "    </tr>\n",
       "    <tr>\n",
       "      <th>Mme</th>\n",
       "      <td>1</td>\n",
       "      <td>1</td>\n",
       "      <td>0</td>\n",
       "    </tr>\n",
       "    <tr>\n",
       "      <th>Ms</th>\n",
       "      <td>1</td>\n",
       "      <td>1</td>\n",
       "      <td>0</td>\n",
       "    </tr>\n",
       "    <tr>\n",
       "      <th>Capt</th>\n",
       "      <td>1</td>\n",
       "      <td>0</td>\n",
       "      <td>1</td>\n",
       "    </tr>\n",
       "    <tr>\n",
       "      <th>Lady</th>\n",
       "      <td>1</td>\n",
       "      <td>1</td>\n",
       "      <td>0</td>\n",
       "    </tr>\n",
       "    <tr>\n",
       "      <th>Jonkheer</th>\n",
       "      <td>1</td>\n",
       "      <td>0</td>\n",
       "      <td>1</td>\n",
       "    </tr>\n",
       "    <tr>\n",
       "      <th>Don</th>\n",
       "      <td>1</td>\n",
       "      <td>0</td>\n",
       "      <td>1</td>\n",
       "    </tr>\n",
       "    <tr>\n",
       "      <th>Countess</th>\n",
       "      <td>1</td>\n",
       "      <td>1</td>\n",
       "      <td>0</td>\n",
       "    </tr>\n",
       "    <tr>\n",
       "      <th>Sir</th>\n",
       "      <td>1</td>\n",
       "      <td>1</td>\n",
       "      <td>0</td>\n",
       "    </tr>\n",
       "  </tbody>\n",
       "</table>\n",
       "</div>"
      ],
      "text/plain": [
       "          All  Survived  Dead\n",
       "Title                        \n",
       "Mr        517        81   436\n",
       "Miss      182       127    55\n",
       "Mrs       125        99    26\n",
       "Master     40        23    17\n",
       "Dr          7         3     4\n",
       "Rev         6         0     6\n",
       "Major       2         1     1\n",
       "Col         2         1     1\n",
       "Mlle        2         2     0\n",
       "Mme         1         1     0\n",
       "Ms          1         1     0\n",
       "Capt        1         0     1\n",
       "Lady        1         1     0\n",
       "Jonkheer    1         0     1\n",
       "Don         1         0     1\n",
       "Countess    1         1     0\n",
       "Sir         1         1     0"
      ]
     },
     "execution_count": 13,
     "metadata": {},
     "output_type": "execute_result"
    }
   ],
   "source": [
    "grouped_titles_sum = train.groupby([\"Title\"])[\"Survived\"].agg([\"count\", \"sum\"])\n",
    "grouped_titles_sum[\"Dead\"] = grouped_titles_sum[\"count\"] - grouped_titles_sum[\"sum\"]\n",
    "\n",
    "grouped_titles_sum.rename(columns={\"sum\" : \"Survived\",\n",
    "                                   \"count\" : \"All\"}).sort_values(by=\"All\", ascending=False)"
   ]
  },
  {
   "cell_type": "code",
   "execution_count": 14,
   "id": "21064918",
   "metadata": {
    "execution": {
     "iopub.execute_input": "2023-02-23T18:57:41.489079Z",
     "iopub.status.busy": "2023-02-23T18:57:41.488471Z",
     "iopub.status.idle": "2023-02-23T18:57:41.494000Z",
     "shell.execute_reply": "2023-02-23T18:57:41.493011Z"
    },
    "papermill": {
     "duration": 0.019327,
     "end_time": "2023-02-23T18:57:41.496042",
     "exception": false,
     "start_time": "2023-02-23T18:57:41.476715",
     "status": "completed"
    },
    "tags": []
   },
   "outputs": [],
   "source": [
    "titles = [\"Miss\", \"Mrs\", \"Mr\", \"Master\"]\n",
    "train[\"Title\"] = train[\"Title\"].map(lambda x: x if x in titles else \"Other\")"
   ]
  },
  {
   "cell_type": "code",
   "execution_count": 15,
   "id": "510276d4",
   "metadata": {
    "execution": {
     "iopub.execute_input": "2023-02-23T18:57:41.519177Z",
     "iopub.status.busy": "2023-02-23T18:57:41.518357Z",
     "iopub.status.idle": "2023-02-23T18:57:41.791233Z",
     "shell.execute_reply": "2023-02-23T18:57:41.790322Z"
    },
    "papermill": {
     "duration": 0.2867,
     "end_time": "2023-02-23T18:57:41.793380",
     "exception": false,
     "start_time": "2023-02-23T18:57:41.506680",
     "status": "completed"
    },
    "tags": []
   },
   "outputs": [
    {
     "data": {
      "image/png": "[encoded data removed]",
      "text/plain": [
       "<Figure size 1200x600 with 1 Axes>"
      ]
     },
     "metadata": {},
     "output_type": "display_data"
    }
   ],
   "source": [
    "plt.figure(figsize=PLOT_SIZE)\n",
    "c = sns.countplot(data=train, x=\"Title\", hue=\"Survived\")"
   ]
  },
  {
   "cell_type": "code",
   "execution_count": 16,
   "id": "f21afafd",
   "metadata": {
    "execution": {
     "iopub.execute_input": "2023-02-23T18:57:41.817799Z",
     "iopub.status.busy": "2023-02-23T18:57:41.816941Z",
     "iopub.status.idle": "2023-02-23T18:57:41.824748Z",
     "shell.execute_reply": "2023-02-23T18:57:41.823800Z"
    },
    "papermill": {
     "duration": 0.021927,
     "end_time": "2023-02-23T18:57:41.826801",
     "exception": false,
     "start_time": "2023-02-23T18:57:41.804874",
     "status": "completed"
    },
    "tags": []
   },
   "outputs": [],
   "source": [
    "# Parch == Parents and children (indicator of family members)\n",
    "train[\"HasFamily\"] = train[\"Parch\"].map(lambda x: 1 if x != 0 else 0)\n",
    "# sSibsp == Siblings and spouse (again indicates family members)\n",
    "train[\"HasSib\"] = train[\"SibSp\"].map(lambda x: 1 if x != 0 else 0)"
   ]
  },
  {
   "cell_type": "code",
   "execution_count": 17,
   "id": "0d7d9d58",
   "metadata": {
    "execution": {
     "iopub.execute_input": "2023-02-23T18:57:41.850730Z",
     "iopub.status.busy": "2023-02-23T18:57:41.849889Z",
     "iopub.status.idle": "2023-02-23T18:57:41.856563Z",
     "shell.execute_reply": "2023-02-23T18:57:41.855667Z"
    },
    "papermill": {
     "duration": 0.021027,
     "end_time": "2023-02-23T18:57:41.858882",
     "exception": false,
     "start_time": "2023-02-23T18:57:41.837855",
     "status": "completed"
    },
    "tags": []
   },
   "outputs": [],
   "source": [
    "train[\"FarePerFamily\"] = train[\"Fare\"] / (train[\"Parch\"]+1)\n",
    "train[\"FarePerSib\"] = train[\"Fare\"] / (train[\"SibSp\"]+1)"
   ]
  },
  {
   "cell_type": "code",
   "execution_count": 18,
   "id": "b0d4945b",
   "metadata": {
    "execution": {
     "iopub.execute_input": "2023-02-23T18:57:41.882577Z",
     "iopub.status.busy": "2023-02-23T18:57:41.881796Z",
     "iopub.status.idle": "2023-02-23T18:57:41.897381Z",
     "shell.execute_reply": "2023-02-23T18:57:41.896280Z"
    },
    "papermill": {
     "duration": 0.029485,
     "end_time": "2023-02-23T18:57:41.899419",
     "exception": false,
     "start_time": "2023-02-23T18:57:41.869934",
     "status": "completed"
    },
    "tags": []
   },
   "outputs": [
    {
     "data": {
      "text/html": [
       "<div>\n",
       "<style scoped>\n",
       "    .dataframe tbody tr th:only-of-type {\n",
       "        vertical-align: middle;\n",
       "    }\n",
       "\n",
       "    .dataframe tbody tr th {\n",
       "        vertical-align: top;\n",
       "    }\n",
       "\n",
       "    .dataframe thead th {\n",
       "        text-align: right;\n",
       "    }\n",
       "</style>\n",
       "<table border=\"1\" class=\"dataframe\">\n",
       "  <thead>\n",
       "    <tr style=\"text-align: right;\">\n",
       "      <th></th>\n",
       "      <th>PassengerId</th>\n",
       "      <th>Survived</th>\n",
       "      <th>Pclass</th>\n",
       "      <th>Name</th>\n",
       "      <th>Sex</th>\n",
       "      <th>Age</th>\n",
       "      <th>SibSp</th>\n",
       "      <th>Parch</th>\n",
       "      <th>Ticket</th>\n",
       "      <th>Fare</th>\n",
       "      <th>Cabin</th>\n",
       "      <th>Embarked</th>\n",
       "      <th>Title</th>\n",
       "      <th>HasFamily</th>\n",
       "      <th>HasSib</th>\n",
       "      <th>FarePerFamily</th>\n",
       "      <th>FarePerSib</th>\n",
       "    </tr>\n",
       "  </thead>\n",
       "  <tbody>\n",
       "    <tr>\n",
       "      <th>0</th>\n",
       "      <td>1</td>\n",
       "      <td>0</td>\n",
       "      <td>3</td>\n",
       "      <td>Braund, Mr. Owen Harris</td>\n",
       "      <td>male</td>\n",
       "      <td>22.00</td>\n",
       "      <td>1</td>\n",
       "      <td>0</td>\n",
       "      <td>A/5 21171</td>\n",
       "      <td>7.25</td>\n",
       "      <td>NaN</td>\n",
       "      <td>S</td>\n",
       "      <td>Mr</td>\n",
       "      <td>0</td>\n",
       "      <td>1</td>\n",
       "      <td>7.25</td>\n",
       "      <td>3.62</td>\n",
       "    </tr>\n",
       "    <tr>\n",
       "      <th>1</th>\n",
       "      <td>2</td>\n",
       "      <td>1</td>\n",
       "      <td>1</td>\n",
       "      <td>Cumings, Mrs. John Bradley (Florence Briggs Th...</td>\n",
       "      <td>female</td>\n",
       "      <td>38.00</td>\n",
       "      <td>1</td>\n",
       "      <td>0</td>\n",
       "      <td>PC 17599</td>\n",
       "      <td>71.28</td>\n",
       "      <td>C85</td>\n",
       "      <td>C</td>\n",
       "      <td>Mrs</td>\n",
       "      <td>0</td>\n",
       "      <td>1</td>\n",
       "      <td>71.28</td>\n",
       "      <td>35.64</td>\n",
       "    </tr>\n",
       "    <tr>\n",
       "      <th>2</th>\n",
       "      <td>3</td>\n",
       "      <td>1</td>\n",
       "      <td>3</td>\n",
       "      <td>Heikkinen, Miss. Laina</td>\n",
       "      <td>female</td>\n",
       "      <td>26.00</td>\n",
       "      <td>0</td>\n",
       "      <td>0</td>\n",
       "      <td>STON/O2. 3101282</td>\n",
       "      <td>7.92</td>\n",
       "      <td>NaN</td>\n",
       "      <td>S</td>\n",
       "      <td>Miss</td>\n",
       "      <td>0</td>\n",
       "      <td>0</td>\n",
       "      <td>7.92</td>\n",
       "      <td>7.92</td>\n",
       "    </tr>\n",
       "    <tr>\n",
       "      <th>3</th>\n",
       "      <td>4</td>\n",
       "      <td>1</td>\n",
       "      <td>1</td>\n",
       "      <td>Futrelle, Mrs. Jacques Heath (Lily May Peel)</td>\n",
       "      <td>female</td>\n",
       "      <td>35.00</td>\n",
       "      <td>1</td>\n",
       "      <td>0</td>\n",
       "      <td>113803</td>\n",
       "      <td>53.10</td>\n",
       "      <td>C123</td>\n",
       "      <td>S</td>\n",
       "      <td>Mrs</td>\n",
       "      <td>0</td>\n",
       "      <td>1</td>\n",
       "      <td>53.10</td>\n",
       "      <td>26.55</td>\n",
       "    </tr>\n",
       "    <tr>\n",
       "      <th>4</th>\n",
       "      <td>5</td>\n",
       "      <td>0</td>\n",
       "      <td>3</td>\n",
       "      <td>Allen, Mr. William Henry</td>\n",
       "      <td>male</td>\n",
       "      <td>35.00</td>\n",
       "      <td>0</td>\n",
       "      <td>0</td>\n",
       "      <td>373450</td>\n",
       "      <td>8.05</td>\n",
       "      <td>NaN</td>\n",
       "      <td>S</td>\n",
       "      <td>Mr</td>\n",
       "      <td>0</td>\n",
       "      <td>0</td>\n",
       "      <td>8.05</td>\n",
       "      <td>8.05</td>\n",
       "    </tr>\n",
       "  </tbody>\n",
       "</table>\n",
       "</div>"
      ],
      "text/plain": [
       "   PassengerId  Survived  Pclass  \\\n",
       "0            1         0       3   \n",
       "1            2         1       1   \n",
       "2            3         1       3   \n",
       "3            4         1       1   \n",
       "4            5         0       3   \n",
       "\n",
       "                                                Name     Sex   Age  SibSp  \\\n",
       "0                            Braund, Mr. Owen Harris    male 22.00      1   \n",
       "1  Cumings, Mrs. John Bradley (Florence Briggs Th...  female 38.00      1   \n",
       "2                             Heikkinen, Miss. Laina  female 26.00      0   \n",
       "3       Futrelle, Mrs. Jacques Heath (Lily May Peel)  female 35.00      1   \n",
       "4                           Allen, Mr. William Henry    male 35.00      0   \n",
       "\n",
       "   Parch            Ticket  Fare Cabin Embarked Title  HasFamily  HasSib  \\\n",
       "0      0         A/5 21171  7.25   NaN        S    Mr          0       1   \n",
       "1      0          PC 17599 71.28   C85        C   Mrs          0       1   \n",
       "2      0  STON/O2. 3101282  7.92   NaN        S  Miss          0       0   \n",
       "3      0            113803 53.10  C123        S   Mrs          0       1   \n",
       "4      0            373450  8.05   NaN        S    Mr          0       0   \n",
       "\n",
       "   FarePerFamily  FarePerSib  \n",
       "0           7.25        3.62  \n",
       "1          71.28       35.64  \n",
       "2           7.92        7.92  \n",
       "3          53.10       26.55  \n",
       "4           8.05        8.05  "
      ]
     },
     "execution_count": 18,
     "metadata": {},
     "output_type": "execute_result"
    }
   ],
   "source": [
    "train.head()"
   ]
  },
  {
   "cell_type": "code",
   "execution_count": 19,
   "id": "37c3c360",
   "metadata": {
    "execution": {
     "iopub.execute_input": "2023-02-23T18:57:41.924140Z",
     "iopub.status.busy": "2023-02-23T18:57:41.923315Z",
     "iopub.status.idle": "2023-02-23T18:57:41.928483Z",
     "shell.execute_reply": "2023-02-23T18:57:41.927645Z"
    },
    "papermill": {
     "duration": 0.019369,
     "end_time": "2023-02-23T18:57:41.930451",
     "exception": false,
     "start_time": "2023-02-23T18:57:41.911082",
     "status": "completed"
    },
    "tags": []
   },
   "outputs": [],
   "source": [
    "del train[\"Cabin\"]"
   ]
  },
  {
   "cell_type": "code",
   "execution_count": 20,
   "id": "30804a80",
   "metadata": {
    "execution": {
     "iopub.execute_input": "2023-02-23T18:57:41.954839Z",
     "iopub.status.busy": "2023-02-23T18:57:41.954003Z",
     "iopub.status.idle": "2023-02-23T18:57:41.960105Z",
     "shell.execute_reply": "2023-02-23T18:57:41.959247Z"
    },
    "papermill": {
     "duration": 0.020375,
     "end_time": "2023-02-23T18:57:41.962104",
     "exception": false,
     "start_time": "2023-02-23T18:57:41.941729",
     "status": "completed"
    },
    "tags": []
   },
   "outputs": [],
   "source": [
    "train[\"Age\"] = train[\"Age\"].fillna(train[\"Age\"].median())"
   ]
  },
  {
   "cell_type": "code",
   "execution_count": 21,
   "id": "c942b5d1",
   "metadata": {
    "execution": {
     "iopub.execute_input": "2023-02-23T18:57:41.987350Z",
     "iopub.status.busy": "2023-02-23T18:57:41.985564Z",
     "iopub.status.idle": "2023-02-23T18:57:41.995812Z",
     "shell.execute_reply": "2023-02-23T18:57:41.994952Z"
    },
    "papermill": {
     "duration": 0.024721,
     "end_time": "2023-02-23T18:57:41.998011",
     "exception": false,
     "start_time": "2023-02-23T18:57:41.973290",
     "status": "completed"
    },
    "tags": []
   },
   "outputs": [],
   "source": [
    "train = train.dropna()"
   ]
  },
  {
   "cell_type": "code",
   "execution_count": 22,
   "id": "b76eea9c",
   "metadata": {
    "execution": {
     "iopub.execute_input": "2023-02-23T18:57:42.022812Z",
     "iopub.status.busy": "2023-02-23T18:57:42.021968Z",
     "iopub.status.idle": "2023-02-23T18:57:42.037301Z",
     "shell.execute_reply": "2023-02-23T18:57:42.036401Z"
    },
    "papermill": {
     "duration": 0.029498,
     "end_time": "2023-02-23T18:57:42.039175",
     "exception": false,
     "start_time": "2023-02-23T18:57:42.009677",
     "status": "completed"
    },
    "tags": []
   },
   "outputs": [
    {
     "data": {
      "text/html": [
       "<div>\n",
       "<style scoped>\n",
       "    .dataframe tbody tr th:only-of-type {\n",
       "        vertical-align: middle;\n",
       "    }\n",
       "\n",
       "    .dataframe tbody tr th {\n",
       "        vertical-align: top;\n",
       "    }\n",
       "\n",
       "    .dataframe thead th {\n",
       "        text-align: right;\n",
       "    }\n",
       "</style>\n",
       "<table border=\"1\" class=\"dataframe\">\n",
       "  <thead>\n",
       "    <tr style=\"text-align: right;\">\n",
       "      <th></th>\n",
       "      <th>PassengerId</th>\n",
       "      <th>Survived</th>\n",
       "      <th>Pclass</th>\n",
       "      <th>Name</th>\n",
       "      <th>Sex</th>\n",
       "      <th>Age</th>\n",
       "      <th>SibSp</th>\n",
       "      <th>Parch</th>\n",
       "      <th>Ticket</th>\n",
       "      <th>Fare</th>\n",
       "      <th>Embarked</th>\n",
       "      <th>Title</th>\n",
       "      <th>HasFamily</th>\n",
       "      <th>HasSib</th>\n",
       "      <th>FarePerFamily</th>\n",
       "      <th>FarePerSib</th>\n",
       "    </tr>\n",
       "  </thead>\n",
       "  <tbody>\n",
       "    <tr>\n",
       "      <th>0</th>\n",
       "      <td>1</td>\n",
       "      <td>0</td>\n",
       "      <td>3</td>\n",
       "      <td>Braund, Mr. Owen Harris</td>\n",
       "      <td>male</td>\n",
       "      <td>22.00</td>\n",
       "      <td>1</td>\n",
       "      <td>0</td>\n",
       "      <td>A/5 21171</td>\n",
       "      <td>7.25</td>\n",
       "      <td>S</td>\n",
       "      <td>Mr</td>\n",
       "      <td>0</td>\n",
       "      <td>1</td>\n",
       "      <td>7.25</td>\n",
       "      <td>3.62</td>\n",
       "    </tr>\n",
       "    <tr>\n",
       "      <th>1</th>\n",
       "      <td>2</td>\n",
       "      <td>1</td>\n",
       "      <td>1</td>\n",
       "      <td>Cumings, Mrs. John Bradley (Florence Briggs Th...</td>\n",
       "      <td>female</td>\n",
       "      <td>38.00</td>\n",
       "      <td>1</td>\n",
       "      <td>0</td>\n",
       "      <td>PC 17599</td>\n",
       "      <td>71.28</td>\n",
       "      <td>C</td>\n",
       "      <td>Mrs</td>\n",
       "      <td>0</td>\n",
       "      <td>1</td>\n",
       "      <td>71.28</td>\n",
       "      <td>35.64</td>\n",
       "    </tr>\n",
       "    <tr>\n",
       "      <th>2</th>\n",
       "      <td>3</td>\n",
       "      <td>1</td>\n",
       "      <td>3</td>\n",
       "      <td>Heikkinen, Miss. Laina</td>\n",
       "      <td>female</td>\n",
       "      <td>26.00</td>\n",
       "      <td>0</td>\n",
       "      <td>0</td>\n",
       "      <td>STON/O2. 3101282</td>\n",
       "      <td>7.92</td>\n",
       "      <td>S</td>\n",
       "      <td>Miss</td>\n",
       "      <td>0</td>\n",
       "      <td>0</td>\n",
       "      <td>7.92</td>\n",
       "      <td>7.92</td>\n",
       "    </tr>\n",
       "    <tr>\n",
       "      <th>3</th>\n",
       "      <td>4</td>\n",
       "      <td>1</td>\n",
       "      <td>1</td>\n",
       "      <td>Futrelle, Mrs. Jacques Heath (Lily May Peel)</td>\n",
       "      <td>female</td>\n",
       "      <td>35.00</td>\n",
       "      <td>1</td>\n",
       "      <td>0</td>\n",
       "      <td>113803</td>\n",
       "      <td>53.10</td>\n",
       "      <td>S</td>\n",
       "      <td>Mrs</td>\n",
       "      <td>0</td>\n",
       "      <td>1</td>\n",
       "      <td>53.10</td>\n",
       "      <td>26.55</td>\n",
       "    </tr>\n",
       "    <tr>\n",
       "      <th>4</th>\n",
       "      <td>5</td>\n",
       "      <td>0</td>\n",
       "      <td>3</td>\n",
       "      <td>Allen, Mr. William Henry</td>\n",
       "      <td>male</td>\n",
       "      <td>35.00</td>\n",
       "      <td>0</td>\n",
       "      <td>0</td>\n",
       "      <td>373450</td>\n",
       "      <td>8.05</td>\n",
       "      <td>S</td>\n",
       "      <td>Mr</td>\n",
       "      <td>0</td>\n",
       "      <td>0</td>\n",
       "      <td>8.05</td>\n",
       "      <td>8.05</td>\n",
       "    </tr>\n",
       "  </tbody>\n",
       "</table>\n",
       "</div>"
      ],
      "text/plain": [
       "   PassengerId  Survived  Pclass  \\\n",
       "0            1         0       3   \n",
       "1            2         1       1   \n",
       "2            3         1       3   \n",
       "3            4         1       1   \n",
       "4            5         0       3   \n",
       "\n",
       "                                                Name     Sex   Age  SibSp  \\\n",
       "0                            Braund, Mr. Owen Harris    male 22.00      1   \n",
       "1  Cumings, Mrs. John Bradley (Florence Briggs Th...  female 38.00      1   \n",
       "2                             Heikkinen, Miss. Laina  female 26.00      0   \n",
       "3       Futrelle, Mrs. Jacques Heath (Lily May Peel)  female 35.00      1   \n",
       "4                           Allen, Mr. William Henry    male 35.00      0   \n",
       "\n",
       "   Parch            Ticket  Fare Embarked Title  HasFamily  HasSib  \\\n",
       "0      0         A/5 21171  7.25        S    Mr          0       1   \n",
       "1      0          PC 17599 71.28        C   Mrs          0       1   \n",
       "2      0  STON/O2. 3101282  7.92        S  Miss          0       0   \n",
       "3      0            113803 53.10        S   Mrs          0       1   \n",
       "4      0            373450  8.05        S    Mr          0       0   \n",
       "\n",
       "   FarePerFamily  FarePerSib  \n",
       "0           7.25        3.62  \n",
       "1          71.28       35.64  \n",
       "2           7.92        7.92  \n",
       "3          53.10       26.55  \n",
       "4           8.05        8.05  "
      ]
     },
     "execution_count": 22,
     "metadata": {},
     "output_type": "execute_result"
    }
   ],
   "source": [
    "train.head()"
   ]
  },
  {
   "cell_type": "code",
   "execution_count": 23,
   "id": "06d1eb58",
   "metadata": {
    "execution": {
     "iopub.execute_input": "2023-02-23T18:57:42.064174Z",
     "iopub.status.busy": "2023-02-23T18:57:42.063344Z",
     "iopub.status.idle": "2023-02-23T18:57:42.953428Z",
     "shell.execute_reply": "2023-02-23T18:57:42.952554Z"
    },
    "papermill": {
     "duration": 0.905815,
     "end_time": "2023-02-23T18:57:42.956609",
     "exception": false,
     "start_time": "2023-02-23T18:57:42.050794",
     "status": "completed"
    },
    "tags": []
   },
   "outputs": [
    {
     "data": {
      "image/png": "[encoded data removed]",
      "text/plain": [
       "<Figure size 1200x600 with 2 Axes>"
      ]
     },
     "metadata": {},
     "output_type": "display_data"
    }
   ],
   "source": [
    "plt.figure(figsize=PLOT_SIZE)\n",
    "h = sns.heatmap(train.corr(), annot=True)"
   ]
  },
  {
   "cell_type": "code",
   "execution_count": 24,
   "id": "4f00e449",
   "metadata": {
    "execution": {
     "iopub.execute_input": "2023-02-23T18:57:42.985711Z",
     "iopub.status.busy": "2023-02-23T18:57:42.985087Z",
     "iopub.status.idle": "2023-02-23T18:57:42.994173Z",
     "shell.execute_reply": "2023-02-23T18:57:42.993314Z"
    },
    "papermill": {
     "duration": 0.025967,
     "end_time": "2023-02-23T18:57:42.996258",
     "exception": false,
     "start_time": "2023-02-23T18:57:42.970291",
     "status": "completed"
    },
    "tags": []
   },
   "outputs": [],
   "source": [
    "lab_encoder_sex = LabelEncoder()\n",
    "lab_encoder_embarked = LabelEncoder()\n",
    "lab_encoder_title = LabelEncoder()\n",
    "train.loc[:,\"Sex\"] = lab_encoder_sex.fit_transform(train[\"Sex\"])\n",
    "train.loc[:,\"Embarked\"] = lab_encoder_embarked.fit_transform(train[\"Embarked\"])\n",
    "train.loc[:,\"Title\"] = lab_encoder_title.fit_transform(train[\"Title\"])"
   ]
  },
  {
   "cell_type": "code",
   "execution_count": 25,
   "id": "5922ba1a",
   "metadata": {
    "execution": {
     "iopub.execute_input": "2023-02-23T18:57:43.024315Z",
     "iopub.status.busy": "2023-02-23T18:57:43.024005Z",
     "iopub.status.idle": "2023-02-23T18:57:43.030915Z",
     "shell.execute_reply": "2023-02-23T18:57:43.030050Z"
    },
    "papermill": {
     "duration": 0.023163,
     "end_time": "2023-02-23T18:57:43.032863",
     "exception": false,
     "start_time": "2023-02-23T18:57:43.009700",
     "status": "completed"
    },
    "tags": []
   },
   "outputs": [],
   "source": [
    "label = train[\"Survived\"]\n",
    "train = train.drop([\"PassengerId\", \"Survived\", \"Name\", \"Ticket\"], axis=1)"
   ]
  },
  {
   "cell_type": "code",
   "execution_count": 26,
   "id": "49667efc",
   "metadata": {
    "execution": {
     "iopub.execute_input": "2023-02-23T18:57:43.061109Z",
     "iopub.status.busy": "2023-02-23T18:57:43.060278Z",
     "iopub.status.idle": "2023-02-23T18:57:43.072773Z",
     "shell.execute_reply": "2023-02-23T18:57:43.071792Z"
    },
    "papermill": {
     "duration": 0.028824,
     "end_time": "2023-02-23T18:57:43.074864",
     "exception": false,
     "start_time": "2023-02-23T18:57:43.046040",
     "status": "completed"
    },
    "tags": []
   },
   "outputs": [
    {
     "data": {
      "text/html": [
       "<div>\n",
       "<style scoped>\n",
       "    .dataframe tbody tr th:only-of-type {\n",
       "        vertical-align: middle;\n",
       "    }\n",
       "\n",
       "    .dataframe tbody tr th {\n",
       "        vertical-align: top;\n",
       "    }\n",
       "\n",
       "    .dataframe thead th {\n",
       "        text-align: right;\n",
       "    }\n",
       "</style>\n",
       "<table border=\"1\" class=\"dataframe\">\n",
       "  <thead>\n",
       "    <tr style=\"text-align: right;\">\n",
       "      <th></th>\n",
       "      <th>Pclass</th>\n",
       "      <th>Sex</th>\n",
       "      <th>Age</th>\n",
       "      <th>SibSp</th>\n",
       "      <th>Parch</th>\n",
       "      <th>Fare</th>\n",
       "      <th>Embarked</th>\n",
       "      <th>Title</th>\n",
       "      <th>HasFamily</th>\n",
       "      <th>HasSib</th>\n",
       "      <th>FarePerFamily</th>\n",
       "      <th>FarePerSib</th>\n",
       "    </tr>\n",
       "  </thead>\n",
       "  <tbody>\n",
       "    <tr>\n",
       "      <th>0</th>\n",
       "      <td>3</td>\n",
       "      <td>1</td>\n",
       "      <td>22.00</td>\n",
       "      <td>1</td>\n",
       "      <td>0</td>\n",
       "      <td>7.25</td>\n",
       "      <td>2</td>\n",
       "      <td>2</td>\n",
       "      <td>0</td>\n",
       "      <td>1</td>\n",
       "      <td>7.25</td>\n",
       "      <td>3.62</td>\n",
       "    </tr>\n",
       "    <tr>\n",
       "      <th>1</th>\n",
       "      <td>1</td>\n",
       "      <td>0</td>\n",
       "      <td>38.00</td>\n",
       "      <td>1</td>\n",
       "      <td>0</td>\n",
       "      <td>71.28</td>\n",
       "      <td>0</td>\n",
       "      <td>3</td>\n",
       "      <td>0</td>\n",
       "      <td>1</td>\n",
       "      <td>71.28</td>\n",
       "      <td>35.64</td>\n",
       "    </tr>\n",
       "    <tr>\n",
       "      <th>2</th>\n",
       "      <td>3</td>\n",
       "      <td>0</td>\n",
       "      <td>26.00</td>\n",
       "      <td>0</td>\n",
       "      <td>0</td>\n",
       "      <td>7.92</td>\n",
       "      <td>2</td>\n",
       "      <td>1</td>\n",
       "      <td>0</td>\n",
       "      <td>0</td>\n",
       "      <td>7.92</td>\n",
       "      <td>7.92</td>\n",
       "    </tr>\n",
       "    <tr>\n",
       "      <th>3</th>\n",
       "      <td>1</td>\n",
       "      <td>0</td>\n",
       "      <td>35.00</td>\n",
       "      <td>1</td>\n",
       "      <td>0</td>\n",
       "      <td>53.10</td>\n",
       "      <td>2</td>\n",
       "      <td>3</td>\n",
       "      <td>0</td>\n",
       "      <td>1</td>\n",
       "      <td>53.10</td>\n",
       "      <td>26.55</td>\n",
       "    </tr>\n",
       "    <tr>\n",
       "      <th>4</th>\n",
       "      <td>3</td>\n",
       "      <td>1</td>\n",
       "      <td>35.00</td>\n",
       "      <td>0</td>\n",
       "      <td>0</td>\n",
       "      <td>8.05</td>\n",
       "      <td>2</td>\n",
       "      <td>2</td>\n",
       "      <td>0</td>\n",
       "      <td>0</td>\n",
       "      <td>8.05</td>\n",
       "      <td>8.05</td>\n",
       "    </tr>\n",
       "  </tbody>\n",
       "</table>\n",
       "</div>"
      ],
      "text/plain": [
       "   Pclass  Sex   Age  SibSp  Parch  Fare  Embarked  Title  HasFamily  HasSib  \\\n",
       "0       3    1 22.00      1      0  7.25         2      2          0       1   \n",
       "1       1    0 38.00      1      0 71.28         0      3          0       1   \n",
       "2       3    0 26.00      0      0  7.92         2      1          0       0   \n",
       "3       1    0 35.00      1      0 53.10         2      3          0       1   \n",
       "4       3    1 35.00      0      0  8.05         2      2          0       0   \n",
       "\n",
       "   FarePerFamily  FarePerSib  \n",
       "0           7.25        3.62  \n",
       "1          71.28       35.64  \n",
       "2           7.92        7.92  \n",
       "3          53.10       26.55  \n",
       "4           8.05        8.05  "
      ]
     },
     "execution_count": 26,
     "metadata": {},
     "output_type": "execute_result"
    }
   ],
   "source": [
    "train.head()"
   ]
  },
  {
   "cell_type": "code",
   "execution_count": 27,
   "id": "8054c526",
   "metadata": {
    "execution": {
     "iopub.execute_input": "2023-02-23T18:57:43.103174Z",
     "iopub.status.busy": "2023-02-23T18:57:43.102865Z",
     "iopub.status.idle": "2023-02-23T18:57:43.110159Z",
     "shell.execute_reply": "2023-02-23T18:57:43.109291Z"
    },
    "papermill": {
     "duration": 0.023834,
     "end_time": "2023-02-23T18:57:43.112098",
     "exception": false,
     "start_time": "2023-02-23T18:57:43.088264",
     "status": "completed"
    },
    "tags": []
   },
   "outputs": [],
   "source": [
    "X_train, X_test, y_train, y_test = train_test_split(train, label, test_size=0.3)"
   ]
  },
  {
   "cell_type": "code",
   "execution_count": 28,
   "id": "0f9debff",
   "metadata": {
    "execution": {
     "iopub.execute_input": "2023-02-23T18:57:43.141014Z",
     "iopub.status.busy": "2023-02-23T18:57:43.140204Z",
     "iopub.status.idle": "2023-02-23T18:57:43.150248Z",
     "shell.execute_reply": "2023-02-23T18:57:43.149375Z"
    },
    "papermill": {
     "duration": 0.02691,
     "end_time": "2023-02-23T18:57:43.152244",
     "exception": false,
     "start_time": "2023-02-23T18:57:43.125334",
     "status": "completed"
    },
    "tags": []
   },
   "outputs": [],
   "source": [
    "scaler = StandardScaler()\n",
    "X_train_s = scaler.fit_transform(X_train)\n",
    "X_test_s = scaler.transform(X_test)"
   ]
  },
  {
   "cell_type": "code",
   "execution_count": 29,
   "id": "66f42237",
   "metadata": {
    "execution": {
     "iopub.execute_input": "2023-02-23T18:57:43.181071Z",
     "iopub.status.busy": "2023-02-23T18:57:43.180207Z",
     "iopub.status.idle": "2023-02-23T18:57:44.539911Z",
     "shell.execute_reply": "2023-02-23T18:57:44.539109Z"
    },
    "papermill": {
     "duration": 1.376696,
     "end_time": "2023-02-23T18:57:44.542347",
     "exception": false,
     "start_time": "2023-02-23T18:57:43.165651",
     "status": "completed"
    },
    "tags": []
   },
   "outputs": [
    {
     "name": "stderr",
     "output_type": "stream",
     "text": [
      "100%|██████████| 29/29 [00:01<00:00, 21.62it/s]\n"
     ]
    }
   ],
   "source": [
    "reg = LazyClassifier(verbose=0,ignore_warnings=True, custom_metric=None)\n",
    "models, predictions = reg.fit(X_train_s, X_test_s, y_train, y_test)"
   ]
  },
  {
   "cell_type": "code",
   "execution_count": 30,
   "id": "7e72c2db",
   "metadata": {
    "execution": {
     "iopub.execute_input": "2023-02-23T18:57:44.574919Z",
     "iopub.status.busy": "2023-02-23T18:57:44.574262Z",
     "iopub.status.idle": "2023-02-23T18:57:44.588597Z",
     "shell.execute_reply": "2023-02-23T18:57:44.587674Z"
    },
    "papermill": {
     "duration": 0.032091,
     "end_time": "2023-02-23T18:57:44.590553",
     "exception": false,
     "start_time": "2023-02-23T18:57:44.558462",
     "status": "completed"
    },
    "tags": []
   },
   "outputs": [
    {
     "data": {
      "text/html": [
       "<div>\n",
       "<style scoped>\n",
       "    .dataframe tbody tr th:only-of-type {\n",
       "        vertical-align: middle;\n",
       "    }\n",
       "\n",
       "    .dataframe tbody tr th {\n",
       "        vertical-align: top;\n",
       "    }\n",
       "\n",
       "    .dataframe thead th {\n",
       "        text-align: right;\n",
       "    }\n",
       "</style>\n",
       "<table border=\"1\" class=\"dataframe\">\n",
       "  <thead>\n",
       "    <tr style=\"text-align: right;\">\n",
       "      <th></th>\n",
       "      <th>Accuracy</th>\n",
       "      <th>Balanced Accuracy</th>\n",
       "      <th>ROC AUC</th>\n",
       "      <th>F1 Score</th>\n",
       "      <th>Time Taken</th>\n",
       "    </tr>\n",
       "    <tr>\n",
       "      <th>Model</th>\n",
       "      <th></th>\n",
       "      <th></th>\n",
       "      <th></th>\n",
       "      <th></th>\n",
       "      <th></th>\n",
       "    </tr>\n",
       "  </thead>\n",
       "  <tbody>\n",
       "    <tr>\n",
       "      <th>NuSVC</th>\n",
       "      <td>0.84</td>\n",
       "      <td>0.81</td>\n",
       "      <td>0.81</td>\n",
       "      <td>0.84</td>\n",
       "      <td>0.03</td>\n",
       "    </tr>\n",
       "    <tr>\n",
       "      <th>SVC</th>\n",
       "      <td>0.84</td>\n",
       "      <td>0.81</td>\n",
       "      <td>0.81</td>\n",
       "      <td>0.84</td>\n",
       "      <td>0.03</td>\n",
       "    </tr>\n",
       "    <tr>\n",
       "      <th>AdaBoostClassifier</th>\n",
       "      <td>0.83</td>\n",
       "      <td>0.80</td>\n",
       "      <td>0.80</td>\n",
       "      <td>0.83</td>\n",
       "      <td>0.10</td>\n",
       "    </tr>\n",
       "    <tr>\n",
       "      <th>RandomForestClassifier</th>\n",
       "      <td>0.81</td>\n",
       "      <td>0.79</td>\n",
       "      <td>0.79</td>\n",
       "      <td>0.81</td>\n",
       "      <td>0.19</td>\n",
       "    </tr>\n",
       "    <tr>\n",
       "      <th>LGBMClassifier</th>\n",
       "      <td>0.82</td>\n",
       "      <td>0.79</td>\n",
       "      <td>0.79</td>\n",
       "      <td>0.82</td>\n",
       "      <td>0.09</td>\n",
       "    </tr>\n",
       "    <tr>\n",
       "      <th>ExtraTreesClassifier</th>\n",
       "      <td>0.81</td>\n",
       "      <td>0.79</td>\n",
       "      <td>0.79</td>\n",
       "      <td>0.81</td>\n",
       "      <td>0.15</td>\n",
       "    </tr>\n",
       "    <tr>\n",
       "      <th>XGBClassifier</th>\n",
       "      <td>0.81</td>\n",
       "      <td>0.78</td>\n",
       "      <td>0.78</td>\n",
       "      <td>0.81</td>\n",
       "      <td>0.16</td>\n",
       "    </tr>\n",
       "    <tr>\n",
       "      <th>KNeighborsClassifier</th>\n",
       "      <td>0.81</td>\n",
       "      <td>0.78</td>\n",
       "      <td>0.78</td>\n",
       "      <td>0.81</td>\n",
       "      <td>0.02</td>\n",
       "    </tr>\n",
       "    <tr>\n",
       "      <th>LinearSVC</th>\n",
       "      <td>0.81</td>\n",
       "      <td>0.78</td>\n",
       "      <td>0.78</td>\n",
       "      <td>0.81</td>\n",
       "      <td>0.09</td>\n",
       "    </tr>\n",
       "    <tr>\n",
       "      <th>RidgeClassifierCV</th>\n",
       "      <td>0.81</td>\n",
       "      <td>0.78</td>\n",
       "      <td>0.78</td>\n",
       "      <td>0.81</td>\n",
       "      <td>0.01</td>\n",
       "    </tr>\n",
       "    <tr>\n",
       "      <th>LogisticRegression</th>\n",
       "      <td>0.81</td>\n",
       "      <td>0.78</td>\n",
       "      <td>0.78</td>\n",
       "      <td>0.81</td>\n",
       "      <td>0.02</td>\n",
       "    </tr>\n",
       "    <tr>\n",
       "      <th>CalibratedClassifierCV</th>\n",
       "      <td>0.81</td>\n",
       "      <td>0.78</td>\n",
       "      <td>0.78</td>\n",
       "      <td>0.81</td>\n",
       "      <td>0.16</td>\n",
       "    </tr>\n",
       "    <tr>\n",
       "      <th>RidgeClassifier</th>\n",
       "      <td>0.81</td>\n",
       "      <td>0.78</td>\n",
       "      <td>0.78</td>\n",
       "      <td>0.80</td>\n",
       "      <td>0.02</td>\n",
       "    </tr>\n",
       "    <tr>\n",
       "      <th>LinearDiscriminantAnalysis</th>\n",
       "      <td>0.81</td>\n",
       "      <td>0.78</td>\n",
       "      <td>0.78</td>\n",
       "      <td>0.80</td>\n",
       "      <td>0.03</td>\n",
       "    </tr>\n",
       "    <tr>\n",
       "      <th>ExtraTreeClassifier</th>\n",
       "      <td>0.78</td>\n",
       "      <td>0.76</td>\n",
       "      <td>0.76</td>\n",
       "      <td>0.78</td>\n",
       "      <td>0.01</td>\n",
       "    </tr>\n",
       "    <tr>\n",
       "      <th>BaggingClassifier</th>\n",
       "      <td>0.79</td>\n",
       "      <td>0.76</td>\n",
       "      <td>0.76</td>\n",
       "      <td>0.79</td>\n",
       "      <td>0.04</td>\n",
       "    </tr>\n",
       "    <tr>\n",
       "      <th>QuadraticDiscriminantAnalysis</th>\n",
       "      <td>0.79</td>\n",
       "      <td>0.76</td>\n",
       "      <td>0.76</td>\n",
       "      <td>0.79</td>\n",
       "      <td>0.01</td>\n",
       "    </tr>\n",
       "    <tr>\n",
       "      <th>Perceptron</th>\n",
       "      <td>0.76</td>\n",
       "      <td>0.76</td>\n",
       "      <td>0.76</td>\n",
       "      <td>0.76</td>\n",
       "      <td>0.01</td>\n",
       "    </tr>\n",
       "    <tr>\n",
       "      <th>DecisionTreeClassifier</th>\n",
       "      <td>0.78</td>\n",
       "      <td>0.75</td>\n",
       "      <td>0.75</td>\n",
       "      <td>0.78</td>\n",
       "      <td>0.01</td>\n",
       "    </tr>\n",
       "    <tr>\n",
       "      <th>LabelSpreading</th>\n",
       "      <td>0.77</td>\n",
       "      <td>0.74</td>\n",
       "      <td>0.74</td>\n",
       "      <td>0.77</td>\n",
       "      <td>0.05</td>\n",
       "    </tr>\n",
       "    <tr>\n",
       "      <th>LabelPropagation</th>\n",
       "      <td>0.77</td>\n",
       "      <td>0.74</td>\n",
       "      <td>0.74</td>\n",
       "      <td>0.77</td>\n",
       "      <td>0.03</td>\n",
       "    </tr>\n",
       "    <tr>\n",
       "      <th>SGDClassifier</th>\n",
       "      <td>0.77</td>\n",
       "      <td>0.74</td>\n",
       "      <td>0.74</td>\n",
       "      <td>0.77</td>\n",
       "      <td>0.01</td>\n",
       "    </tr>\n",
       "    <tr>\n",
       "      <th>PassiveAggressiveClassifier</th>\n",
       "      <td>0.74</td>\n",
       "      <td>0.72</td>\n",
       "      <td>0.72</td>\n",
       "      <td>0.74</td>\n",
       "      <td>0.01</td>\n",
       "    </tr>\n",
       "    <tr>\n",
       "      <th>NearestCentroid</th>\n",
       "      <td>0.74</td>\n",
       "      <td>0.70</td>\n",
       "      <td>0.70</td>\n",
       "      <td>0.74</td>\n",
       "      <td>0.01</td>\n",
       "    </tr>\n",
       "    <tr>\n",
       "      <th>BernoulliNB</th>\n",
       "      <td>0.72</td>\n",
       "      <td>0.68</td>\n",
       "      <td>0.68</td>\n",
       "      <td>0.71</td>\n",
       "      <td>0.01</td>\n",
       "    </tr>\n",
       "    <tr>\n",
       "      <th>GaussianNB</th>\n",
       "      <td>0.74</td>\n",
       "      <td>0.67</td>\n",
       "      <td>0.67</td>\n",
       "      <td>0.72</td>\n",
       "      <td>0.01</td>\n",
       "    </tr>\n",
       "    <tr>\n",
       "      <th>DummyClassifier</th>\n",
       "      <td>0.65</td>\n",
       "      <td>0.50</td>\n",
       "      <td>0.50</td>\n",
       "      <td>0.51</td>\n",
       "      <td>0.01</td>\n",
       "    </tr>\n",
       "  </tbody>\n",
       "</table>\n",
       "</div>"
      ],
      "text/plain": [
       "                               Accuracy  Balanced Accuracy  ROC AUC  F1 Score  \\\n",
       "Model                                                                           \n",
       "NuSVC                              0.84               0.81     0.81      0.84   \n",
       "SVC                                0.84               0.81     0.81      0.84   \n",
       "AdaBoostClassifier                 0.83               0.80     0.80      0.83   \n",
       "RandomForestClassifier             0.81               0.79     0.79      0.81   \n",
       "LGBMClassifier                     0.82               0.79     0.79      0.82   \n",
       "ExtraTreesClassifier               0.81               0.79     0.79      0.81   \n",
       "XGBClassifier                      0.81               0.78     0.78      0.81   \n",
       "KNeighborsClassifier               0.81               0.78     0.78      0.81   \n",
       "LinearSVC                          0.81               0.78     0.78      0.81   \n",
       "RidgeClassifierCV                  0.81               0.78     0.78      0.81   \n",
       "LogisticRegression                 0.81               0.78     0.78      0.81   \n",
       "CalibratedClassifierCV             0.81               0.78     0.78      0.81   \n",
       "RidgeClassifier                    0.81               0.78     0.78      0.80   \n",
       "LinearDiscriminantAnalysis         0.81               0.78     0.78      0.80   \n",
       "ExtraTreeClassifier                0.78               0.76     0.76      0.78   \n",
       "BaggingClassifier                  0.79               0.76     0.76      0.79   \n",
       "QuadraticDiscriminantAnalysis      0.79               0.76     0.76      0.79   \n",
       "Perceptron                         0.76               0.76     0.76      0.76   \n",
       "DecisionTreeClassifier             0.78               0.75     0.75      0.78   \n",
       "LabelSpreading                     0.77               0.74     0.74      0.77   \n",
       "LabelPropagation                   0.77               0.74     0.74      0.77   \n",
       "SGDClassifier                      0.77               0.74     0.74      0.77   \n",
       "PassiveAggressiveClassifier        0.74               0.72     0.72      0.74   \n",
       "NearestCentroid                    0.74               0.70     0.70      0.74   \n",
       "BernoulliNB                        0.72               0.68     0.68      0.71   \n",
       "GaussianNB                         0.74               0.67     0.67      0.72   \n",
       "DummyClassifier                    0.65               0.50     0.50      0.51   \n",
       "\n",
       "                               Time Taken  \n",
       "Model                                      \n",
       "NuSVC                                0.03  \n",
       "SVC                                  0.03  \n",
       "AdaBoostClassifier                   0.10  \n",
       "RandomForestClassifier               0.19  \n",
       "LGBMClassifier                       0.09  \n",
       "ExtraTreesClassifier                 0.15  \n",
       "XGBClassifier                        0.16  \n",
       "KNeighborsClassifier                 0.02  \n",
       "LinearSVC                            0.09  \n",
       "RidgeClassifierCV                    0.01  \n",
       "LogisticRegression                   0.02  \n",
       "CalibratedClassifierCV               0.16  \n",
       "RidgeClassifier                      0.02  \n",
       "LinearDiscriminantAnalysis           0.03  \n",
       "ExtraTreeClassifier                  0.01  \n",
       "BaggingClassifier                    0.04  \n",
       "QuadraticDiscriminantAnalysis        0.01  \n",
       "Perceptron                           0.01  \n",
       "DecisionTreeClassifier               0.01  \n",
       "LabelSpreading                       0.05  \n",
       "LabelPropagation                     0.03  \n",
       "SGDClassifier                        0.01  \n",
       "PassiveAggressiveClassifier          0.01  \n",
       "NearestCentroid                      0.01  \n",
       "BernoulliNB                          0.01  \n",
       "GaussianNB                           0.01  \n",
       "DummyClassifier                      0.01  "
      ]
     },
     "execution_count": 30,
     "metadata": {},
     "output_type": "execute_result"
    }
   ],
   "source": [
    "models"
   ]
  },
  {
   "cell_type": "markdown",
   "id": "04515ad5",
   "metadata": {
    "papermill": {
     "duration": 0.014909,
     "end_time": "2023-02-23T18:57:44.620980",
     "exception": false,
     "start_time": "2023-02-23T18:57:44.606071",
     "status": "completed"
    },
    "tags": []
   },
   "source": [
    "# DNN"
   ]
  },
  {
   "cell_type": "code",
   "execution_count": 31,
   "id": "41c12a76",
   "metadata": {
    "execution": {
     "iopub.execute_input": "2023-02-23T18:57:44.653528Z",
     "iopub.status.busy": "2023-02-23T18:57:44.652507Z",
     "iopub.status.idle": "2023-02-23T18:57:50.414661Z",
     "shell.execute_reply": "2023-02-23T18:57:50.413503Z"
    },
    "papermill": {
     "duration": 5.781396,
     "end_time": "2023-02-23T18:57:50.417199",
     "exception": false,
     "start_time": "2023-02-23T18:57:44.635803",
     "status": "completed"
    },
    "tags": []
   },
   "outputs": [],
   "source": [
    "import tensorflow as tf\n",
    "from tensorflow import keras"
   ]
  },
  {
   "cell_type": "code",
   "execution_count": 32,
   "id": "884ee353",
   "metadata": {
    "execution": {
     "iopub.execute_input": "2023-02-23T18:57:50.465110Z",
     "iopub.status.busy": "2023-02-23T18:57:50.463513Z",
     "iopub.status.idle": "2023-02-23T18:57:52.704281Z",
     "shell.execute_reply": "2023-02-23T18:57:52.703313Z"
    },
    "papermill": {
     "duration": 2.266752,
     "end_time": "2023-02-23T18:57:52.706704",
     "exception": false,
     "start_time": "2023-02-23T18:57:50.439952",
     "status": "completed"
    },
    "tags": []
   },
   "outputs": [],
   "source": [
    "keras_model = keras.models.Sequential([\n",
    "    \n",
    "    keras.layers.Input(shape=[12]),\n",
    "    keras.layers.Dense(32, activation=\"relu\"),\n",
    "    keras.layers.Dense(16, activation=\"relu\"),      \n",
    "    keras.layers.Dense(8, activation=\"relu\"),     \n",
    "    keras.layers.Dense(1, activation=\"sigmoid\")\n",
    "])"
   ]
  },
  {
   "cell_type": "code",
   "execution_count": 33,
   "id": "38f10da7",
   "metadata": {
    "execution": {
     "iopub.execute_input": "2023-02-23T18:57:52.739147Z",
     "iopub.status.busy": "2023-02-23T18:57:52.738335Z",
     "iopub.status.idle": "2023-02-23T18:57:52.761713Z",
     "shell.execute_reply": "2023-02-23T18:57:52.760713Z"
    },
    "papermill": {
     "duration": 0.048033,
     "end_time": "2023-02-23T18:57:52.769989",
     "exception": false,
     "start_time": "2023-02-23T18:57:52.721956",
     "status": "completed"
    },
    "tags": []
   },
   "outputs": [
    {
     "name": "stdout",
     "output_type": "stream",
     "text": [
      "Model: \"sequential\"\n",
      "_________________________________________________________________\n",
      " Layer (type)                Output Shape              Param #   \n",
      "=================================================================\n",
      " dense (Dense)               (None, 32)                416       \n",
      "                                                                 \n",
      " dense_1 (Dense)             (None, 16)                528       \n",
      "                                                                 \n",
      " dense_2 (Dense)             (None, 8)                 136       \n",
      "                                                                 \n",
      " dense_3 (Dense)             (None, 1)                 9         \n",
      "                                                                 \n",
      "=================================================================\n",
      "Total params: 1,089\n",
      "Trainable params: 1,089\n",
      "Non-trainable params: 0\n",
      "_________________________________________________________________\n"
     ]
    }
   ],
   "source": [
    "keras_model.summary()"
   ]
  },
  {
   "cell_type": "code",
   "execution_count": 34,
   "id": "622bf269",
   "metadata": {
    "execution": {
     "iopub.execute_input": "2023-02-23T18:57:52.803339Z",
     "iopub.status.busy": "2023-02-23T18:57:52.803012Z",
     "iopub.status.idle": "2023-02-23T18:57:52.816844Z",
     "shell.execute_reply": "2023-02-23T18:57:52.815954Z"
    },
    "papermill": {
     "duration": 0.03266,
     "end_time": "2023-02-23T18:57:52.818779",
     "exception": false,
     "start_time": "2023-02-23T18:57:52.786119",
     "status": "completed"
    },
    "tags": []
   },
   "outputs": [],
   "source": [
    "keras_model.compile(\n",
    "        optimizer=tf.keras.optimizers.RMSprop(),\n",
    "        loss=\"binary_crossentropy\",\n",
    "        metrics=[\"accuracy\"]\n",
    "    )"
   ]
  },
  {
   "cell_type": "code",
   "execution_count": 35,
   "id": "982a5181",
   "metadata": {
    "execution": {
     "iopub.execute_input": "2023-02-23T18:57:52.852082Z",
     "iopub.status.busy": "2023-02-23T18:57:52.851141Z",
     "iopub.status.idle": "2023-02-23T18:57:56.386769Z",
     "shell.execute_reply": "2023-02-23T18:57:56.385684Z"
    },
    "papermill": {
     "duration": 3.555205,
     "end_time": "2023-02-23T18:57:56.389665",
     "exception": false,
     "start_time": "2023-02-23T18:57:52.834460",
     "status": "completed"
    },
    "tags": []
   },
   "outputs": [
    {
     "name": "stdout",
     "output_type": "stream",
     "text": [
      "Epoch 1/4\n",
      "16/16 [==============================] - 2s 16ms/step - loss: 0.6551 - accuracy: 0.6378 - val_loss: 0.6373 - val_accuracy: 0.6800\n",
      "Epoch 2/4\n",
      "16/16 [==============================] - 0s 6ms/step - loss: 0.5968 - accuracy: 0.7304 - val_loss: 0.5947 - val_accuracy: 0.6880\n",
      "Epoch 3/4\n",
      "16/16 [==============================] - 0s 5ms/step - loss: 0.5578 - accuracy: 0.7626 - val_loss: 0.5618 - val_accuracy: 0.7360\n",
      "Epoch 4/4\n",
      "16/16 [==============================] - 0s 6ms/step - loss: 0.5264 - accuracy: 0.8008 - val_loss: 0.5342 - val_accuracy: 0.7680\n"
     ]
    }
   ],
   "source": [
    "hist = keras_model.fit(X_train_s, y_train, \n",
    "                       validation_split=0.2,\n",
    "                       epochs=4)"
   ]
  },
  {
   "cell_type": "code",
   "execution_count": 36,
   "id": "0049ac6b",
   "metadata": {
    "execution": {
     "iopub.execute_input": "2023-02-23T18:57:56.426092Z",
     "iopub.status.busy": "2023-02-23T18:57:56.425737Z",
     "iopub.status.idle": "2023-02-23T18:57:56.770341Z",
     "shell.execute_reply": "2023-02-23T18:57:56.769364Z"
    },
    "papermill": {
     "duration": 0.36554,
     "end_time": "2023-02-23T18:57:56.772613",
     "exception": false,
     "start_time": "2023-02-23T18:57:56.407073",
     "status": "completed"
    },
    "tags": []
   },
   "outputs": [
    {
     "data": {
      "text/plain": [
       "<AxesSubplot:>"
      ]
     },
     "execution_count": 36,
     "metadata": {},
     "output_type": "execute_result"
    },
    {
     "data": {
      "image/png": "[encoded data removed]",
      "text/plain": [
       "<Figure size 1200x600 with 1 Axes>"
      ]
     },
     "metadata": {},
     "output_type": "display_data"
    }
   ],
   "source": [
    "pd.DataFrame(hist.history).plot(figsize=PLOT_SIZE)"
   ]
  },
  {
   "cell_type": "code",
   "execution_count": 37,
   "id": "548faff8",
   "metadata": {
    "execution": {
     "iopub.execute_input": "2023-02-23T18:57:56.810773Z",
     "iopub.status.busy": "2023-02-23T18:57:56.808994Z",
     "iopub.status.idle": "2023-02-23T18:57:56.923867Z",
     "shell.execute_reply": "2023-02-23T18:57:56.922946Z"
    },
    "papermill": {
     "duration": 0.13586,
     "end_time": "2023-02-23T18:57:56.926123",
     "exception": false,
     "start_time": "2023-02-23T18:57:56.790263",
     "status": "completed"
    },
    "tags": []
   },
   "outputs": [
    {
     "name": "stdout",
     "output_type": "stream",
     "text": [
      "9/9 [==============================] - 0s 2ms/step - loss: 0.5285 - accuracy: 0.7715\n"
     ]
    },
    {
     "data": {
      "text/plain": [
       "[0.5284976959228516, 0.7715355753898621]"
      ]
     },
     "execution_count": 37,
     "metadata": {},
     "output_type": "execute_result"
    }
   ],
   "source": [
    "keras_model.evaluate(X_test_s, y_test)"
   ]
  }
 ],
 "metadata": {
  "kernelspec": {
   "display_name": "Python 3",
   "language": "python",
   "name": "python3"
  },
  "language_info": {
   "codemirror_mode": {
    "name": "ipython",
    "version": 3
   },
   "file_extension": ".py",
   "mimetype": "text/x-python",
   "name": "python",
   "nbconvert_exporter": "python",
   "pygments_lexer": "ipython3",
   "version": "3.7.12"
  },
  "papermill": {
   "default_parameters": {},
   "duration": 43.311814,
   "end_time": "2023-02-23T18:58:00.656617",
   "environment_variables": {},
   "exception": null,
   "input_path": "__notebook__.ipynb",
   "output_path": "__notebook__.ipynb",
   "parameters": {},
   "start_time": "2023-02-23T18:57:17.344803",
   "version": "2.3.4"
  }
 },
 "nbformat": 4,
 "nbformat_minor": 5
}
