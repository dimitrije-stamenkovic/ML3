{
 "cells": [
  {
   "cell_type": "code",
   "execution_count": 1,
   "id": "709d636b",
   "metadata": {
    "_cell_guid": "b1076dfc-b9ad-4769-8c92-a6c4dae69d19",
    "_uuid": "8f2839f25d086af736a60e9eeb907d3b93b6e0e5",
    "execution": {
     "iopub.execute_input": "2023-03-02T20:35:22.045822Z",
     "iopub.status.busy": "2023-03-02T20:35:22.045187Z",
     "iopub.status.idle": "2023-03-02T20:35:45.786448Z",
     "shell.execute_reply": "2023-03-02T20:35:45.785465Z"
    },
    "papermill": {
     "duration": 23.764671,
     "end_time": "2023-03-02T20:35:45.789760",
     "exception": false,
     "start_time": "2023-03-02T20:35:22.025089",
     "status": "completed"
    },
    "tags": []
   },
   "outputs": [
    {
     "name": "stdout",
     "output_type": "stream",
     "text": [
      "/bin/bash: /opt/conda/lib/libtinfo.so.6: no version information available (required by /bin/bash)\r\n",
      "Collecting lazypredict\r\n",
      "  Downloading lazypredict-0.2.12-py2.py3-none-any.whl (12 kB)\r\n",
      "Requirement already satisfied: pandas in /opt/conda/lib/python3.7/site-packages (from lazypredict) (1.3.5)\r\n",
      "Requirement already satisfied: tqdm in /opt/conda/lib/python3.7/site-packages (from lazypredict) (4.64.1)\r\n",
      "Requirement already satisfied: xgboost in /opt/conda/lib/python3.7/site-packages (from lazypredict) (1.6.2)\r\n",
      "Requirement already satisfied: lightgbm in /opt/conda/lib/python3.7/site-packages (from lazypredict) (3.3.2)\r\n",
      "Requirement already satisfied: click in /opt/conda/lib/python3.7/site-packages (from lazypredict) (8.1.3)\r\n",
      "Requirement already satisfied: joblib in /opt/conda/lib/python3.7/site-packages (from lazypredict) (1.0.1)\r\n",
      "Requirement already satisfied: scikit-learn in /opt/conda/lib/python3.7/site-packages (from lazypredict) (1.0.2)\r\n",
      "Requirement already satisfied: importlib-metadata in /opt/conda/lib/python3.7/site-packages (from click->lazypredict) (6.0.0)\r\n",
      "Requirement already satisfied: wheel in /opt/conda/lib/python3.7/site-packages (from lightgbm->lazypredict) (0.37.1)\r\n",
      "Requirement already satisfied: numpy in /opt/conda/lib/python3.7/site-packages (from lightgbm->lazypredict) (1.21.6)\r\n",
      "Requirement already satisfied: scipy in /opt/conda/lib/python3.7/site-packages (from lightgbm->lazypredict) (1.7.3)\r\n",
      "Requirement already satisfied: threadpoolctl>=2.0.0 in /opt/conda/lib/python3.7/site-packages (from scikit-learn->lazypredict) (3.1.0)\r\n",
      "Requirement already satisfied: python-dateutil>=2.7.3 in /opt/conda/lib/python3.7/site-packages (from pandas->lazypredict) (2.8.2)\r\n",
      "Requirement already satisfied: pytz>=2017.3 in /opt/conda/lib/python3.7/site-packages (from pandas->lazypredict) (2022.2.1)\r\n",
      "Requirement already satisfied: six>=1.5 in /opt/conda/lib/python3.7/site-packages (from python-dateutil>=2.7.3->pandas->lazypredict) (1.16.0)\r\n",
      "Requirement already satisfied: typing-extensions>=3.6.4 in /opt/conda/lib/python3.7/site-packages (from importlib-metadata->click->lazypredict) (4.1.1)\r\n",
      "Requirement already satisfied: zipp>=0.5 in /opt/conda/lib/python3.7/site-packages (from importlib-metadata->click->lazypredict) (3.8.1)\r\n",
      "Installing collected packages: lazypredict\r\n",
      "Successfully installed lazypredict-0.2.12\r\n",
      "\u001b[33mWARNING: Running pip as the 'root' user can result in broken permissions and conflicting behaviour with the system package manager. It is recommended to use a virtual environment instead: https://pip.pypa.io/warnings/venv\u001b[0m\u001b[33m\r\n",
      "\u001b[0m"
     ]
    },
    {
     "data": {
      "text/html": [
       "<style type='text/css'>\n",
       ".datatable table.frame { margin-bottom: 0; }\n",
       ".datatable table.frame thead { border-bottom: none; }\n",
       ".datatable table.frame tr.coltypes td {  color: #FFFFFF;  line-height: 6px;  padding: 0 0.5em;}\n",
       ".datatable .bool    { background: #DDDD99; }\n",
       ".datatable .object  { background: #565656; }\n",
       ".datatable .int     { background: #5D9E5D; }\n",
       ".datatable .float   { background: #4040CC; }\n",
       ".datatable .str     { background: #CC4040; }\n",
       ".datatable .time    { background: #40CC40; }\n",
       ".datatable .row_index {  background: var(--jp-border-color3);  border-right: 1px solid var(--jp-border-color0);  color: var(--jp-ui-font-color3);  font-size: 9px;}\n",
       ".datatable .frame tbody td { text-align: left; }\n",
       ".datatable .frame tr.coltypes .row_index {  background: var(--jp-border-color0);}\n",
       ".datatable th:nth-child(2) { padding-left: 12px; }\n",
       ".datatable .hellipsis {  color: var(--jp-cell-editor-border-color);}\n",
       ".datatable .vellipsis {  background: var(--jp-layout-color0);  color: var(--jp-cell-editor-border-color);}\n",
       ".datatable .na {  color: var(--jp-cell-editor-border-color);  font-size: 80%;}\n",
       ".datatable .sp {  opacity: 0.25;}\n",
       ".datatable .footer { font-size: 9px; }\n",
       ".datatable .frame_dimensions {  background: var(--jp-border-color3);  border-top: 1px solid var(--jp-border-color0);  color: var(--jp-ui-font-color3);  display: inline-block;  opacity: 0.6;  padding: 1px 10px 1px 5px;}\n",
       "</style>\n"
      ],
      "text/plain": [
       "<IPython.core.display.HTML object>"
      ]
     },
     "metadata": {},
     "output_type": "display_data"
    }
   ],
   "source": [
    "!pip install lazypredict\n",
    "\n",
    "import numpy as np # linear algebra\n",
    "import pandas as pd # data processing, CSV file I/O (e.g. pd.read_csv)\n",
    "import seaborn as sns\n",
    "import matplotlib.pyplot as plt\n",
    "from sklearn.preprocessing import LabelEncoder\n",
    "from sklearn.model_selection import train_test_split\n",
    "from sklearn.preprocessing import StandardScaler\n",
    "from sklearn.preprocessing import MinMaxScaler\n",
    "\n",
    "import keras.backend as K\n",
    "\n",
    "from lazypredict.Supervised import LazyClassifier\n"
   ]
  },
  {
   "cell_type": "code",
   "execution_count": 2,
   "id": "76620714",
   "metadata": {
    "execution": {
     "iopub.execute_input": "2023-03-02T20:35:45.830875Z",
     "iopub.status.busy": "2023-03-02T20:35:45.830460Z",
     "iopub.status.idle": "2023-03-02T20:35:45.863687Z",
     "shell.execute_reply": "2023-03-02T20:35:45.862607Z"
    },
    "papermill": {
     "duration": 0.049655,
     "end_time": "2023-03-02T20:35:45.865999",
     "exception": false,
     "start_time": "2023-03-02T20:35:45.816344",
     "status": "completed"
    },
    "tags": []
   },
   "outputs": [],
   "source": [
    "train = pd.read_csv('/kaggle/input/titanic/train.csv').copy()\n",
    "test = pd.read_csv('/kaggle/input/titanic/test.csv').copy()"
   ]
  },
  {
   "cell_type": "code",
   "execution_count": 3,
   "id": "69e85d97",
   "metadata": {
    "execution": {
     "iopub.execute_input": "2023-03-02T20:35:45.890391Z",
     "iopub.status.busy": "2023-03-02T20:35:45.890099Z",
     "iopub.status.idle": "2023-03-02T20:35:45.910185Z",
     "shell.execute_reply": "2023-03-02T20:35:45.908885Z"
    },
    "papermill": {
     "duration": 0.0349,
     "end_time": "2023-03-02T20:35:45.912537",
     "exception": false,
     "start_time": "2023-03-02T20:35:45.877637",
     "status": "completed"
    },
    "tags": []
   },
   "outputs": [
    {
     "data": {
      "text/html": [
       "<div>\n",
       "<style scoped>\n",
       "    .dataframe tbody tr th:only-of-type {\n",
       "        vertical-align: middle;\n",
       "    }\n",
       "\n",
       "    .dataframe tbody tr th {\n",
       "        vertical-align: top;\n",
       "    }\n",
       "\n",
       "    .dataframe thead th {\n",
       "        text-align: right;\n",
       "    }\n",
       "</style>\n",
       "<table border=\"1\" class=\"dataframe\">\n",
       "  <thead>\n",
       "    <tr style=\"text-align: right;\">\n",
       "      <th></th>\n",
       "      <th>PassengerId</th>\n",
       "      <th>Survived</th>\n",
       "      <th>Pclass</th>\n",
       "      <th>Name</th>\n",
       "      <th>Sex</th>\n",
       "      <th>Age</th>\n",
       "      <th>SibSp</th>\n",
       "      <th>Parch</th>\n",
       "      <th>Ticket</th>\n",
       "      <th>Fare</th>\n",
       "      <th>Cabin</th>\n",
       "      <th>Embarked</th>\n",
       "    </tr>\n",
       "  </thead>\n",
       "  <tbody>\n",
       "    <tr>\n",
       "      <th>0</th>\n",
       "      <td>1</td>\n",
       "      <td>0</td>\n",
       "      <td>3</td>\n",
       "      <td>Braund, Mr. Owen Harris</td>\n",
       "      <td>male</td>\n",
       "      <td>22.00</td>\n",
       "      <td>1</td>\n",
       "      <td>0</td>\n",
       "      <td>A/5 21171</td>\n",
       "      <td>7.25</td>\n",
       "      <td>NaN</td>\n",
       "      <td>S</td>\n",
       "    </tr>\n",
       "    <tr>\n",
       "      <th>1</th>\n",
       "      <td>2</td>\n",
       "      <td>1</td>\n",
       "      <td>1</td>\n",
       "      <td>Cumings, Mrs. John Bradley (Florence Briggs Th...</td>\n",
       "      <td>female</td>\n",
       "      <td>38.00</td>\n",
       "      <td>1</td>\n",
       "      <td>0</td>\n",
       "      <td>PC 17599</td>\n",
       "      <td>71.28</td>\n",
       "      <td>C85</td>\n",
       "      <td>C</td>\n",
       "    </tr>\n",
       "    <tr>\n",
       "      <th>2</th>\n",
       "      <td>3</td>\n",
       "      <td>1</td>\n",
       "      <td>3</td>\n",
       "      <td>Heikkinen, Miss. Laina</td>\n",
       "      <td>female</td>\n",
       "      <td>26.00</td>\n",
       "      <td>0</td>\n",
       "      <td>0</td>\n",
       "      <td>STON/O2. 3101282</td>\n",
       "      <td>7.92</td>\n",
       "      <td>NaN</td>\n",
       "      <td>S</td>\n",
       "    </tr>\n",
       "    <tr>\n",
       "      <th>3</th>\n",
       "      <td>4</td>\n",
       "      <td>1</td>\n",
       "      <td>1</td>\n",
       "      <td>Futrelle, Mrs. Jacques Heath (Lily May Peel)</td>\n",
       "      <td>female</td>\n",
       "      <td>35.00</td>\n",
       "      <td>1</td>\n",
       "      <td>0</td>\n",
       "      <td>113803</td>\n",
       "      <td>53.10</td>\n",
       "      <td>C123</td>\n",
       "      <td>S</td>\n",
       "    </tr>\n",
       "    <tr>\n",
       "      <th>4</th>\n",
       "      <td>5</td>\n",
       "      <td>0</td>\n",
       "      <td>3</td>\n",
       "      <td>Allen, Mr. William Henry</td>\n",
       "      <td>male</td>\n",
       "      <td>35.00</td>\n",
       "      <td>0</td>\n",
       "      <td>0</td>\n",
       "      <td>373450</td>\n",
       "      <td>8.05</td>\n",
       "      <td>NaN</td>\n",
       "      <td>S</td>\n",
       "    </tr>\n",
       "  </tbody>\n",
       "</table>\n",
       "</div>"
      ],
      "text/plain": [
       "   PassengerId  Survived  Pclass  \\\n",
       "0            1         0       3   \n",
       "1            2         1       1   \n",
       "2            3         1       3   \n",
       "3            4         1       1   \n",
       "4            5         0       3   \n",
       "\n",
       "                                                Name     Sex   Age  SibSp  \\\n",
       "0                            Braund, Mr. Owen Harris    male 22.00      1   \n",
       "1  Cumings, Mrs. John Bradley (Florence Briggs Th...  female 38.00      1   \n",
       "2                             Heikkinen, Miss. Laina  female 26.00      0   \n",
       "3       Futrelle, Mrs. Jacques Heath (Lily May Peel)  female 35.00      1   \n",
       "4                           Allen, Mr. William Henry    male 35.00      0   \n",
       "\n",
       "   Parch            Ticket  Fare Cabin Embarked  \n",
       "0      0         A/5 21171  7.25   NaN        S  \n",
       "1      0          PC 17599 71.28   C85        C  \n",
       "2      0  STON/O2. 3101282  7.92   NaN        S  \n",
       "3      0            113803 53.10  C123        S  \n",
       "4      0            373450  8.05   NaN        S  "
      ]
     },
     "execution_count": 3,
     "metadata": {},
     "output_type": "execute_result"
    }
   ],
   "source": [
    "train.head()"
   ]
  },
  {
   "cell_type": "code",
   "execution_count": 4,
   "id": "ee128069",
   "metadata": {
    "execution": {
     "iopub.execute_input": "2023-03-02T20:35:45.940102Z",
     "iopub.status.busy": "2023-03-02T20:35:45.938287Z",
     "iopub.status.idle": "2023-03-02T20:35:45.946847Z",
     "shell.execute_reply": "2023-03-02T20:35:45.945345Z"
    },
    "papermill": {
     "duration": 0.024274,
     "end_time": "2023-03-02T20:35:45.949185",
     "exception": false,
     "start_time": "2023-03-02T20:35:45.924911",
     "status": "completed"
    },
    "tags": []
   },
   "outputs": [
    {
     "data": {
      "text/plain": [
       "(891, 12)"
      ]
     },
     "execution_count": 4,
     "metadata": {},
     "output_type": "execute_result"
    }
   ],
   "source": [
    "train.shape"
   ]
  },
  {
   "cell_type": "code",
   "execution_count": 5,
   "id": "2d1f7132",
   "metadata": {
    "execution": {
     "iopub.execute_input": "2023-03-02T20:35:45.977160Z",
     "iopub.status.busy": "2023-03-02T20:35:45.976822Z",
     "iopub.status.idle": "2023-03-02T20:35:45.985760Z",
     "shell.execute_reply": "2023-03-02T20:35:45.984770Z"
    },
    "papermill": {
     "duration": 0.025178,
     "end_time": "2023-03-02T20:35:45.988321",
     "exception": false,
     "start_time": "2023-03-02T20:35:45.963143",
     "status": "completed"
    },
    "tags": []
   },
   "outputs": [
    {
     "data": {
      "text/plain": [
       "PassengerId      0\n",
       "Survived         0\n",
       "Pclass           0\n",
       "Name             0\n",
       "Sex              0\n",
       "Age            177\n",
       "SibSp            0\n",
       "Parch            0\n",
       "Ticket           0\n",
       "Fare             0\n",
       "Cabin          687\n",
       "Embarked         2\n",
       "dtype: int64"
      ]
     },
     "execution_count": 5,
     "metadata": {},
     "output_type": "execute_result"
    }
   ],
   "source": [
    "train.isna().sum()"
   ]
  },
  {
   "cell_type": "code",
   "execution_count": 6,
   "id": "5e2c1610",
   "metadata": {
    "execution": {
     "iopub.execute_input": "2023-03-02T20:35:46.016839Z",
     "iopub.status.busy": "2023-03-02T20:35:46.015252Z",
     "iopub.status.idle": "2023-03-02T20:35:46.548826Z",
     "shell.execute_reply": "2023-03-02T20:35:46.547838Z"
    },
    "papermill": {
     "duration": 0.549461,
     "end_time": "2023-03-02T20:35:46.550944",
     "exception": false,
     "start_time": "2023-03-02T20:35:46.001483",
     "status": "completed"
    },
    "tags": []
   },
   "outputs": [
    {
     "data": {
      "image/png": "[encoded data removed]",
      "text/plain": [
       "<Figure size 1200x600 with 1 Axes>"
      ]
     },
     "metadata": {},
     "output_type": "display_data"
    }
   ],
   "source": [
    "PLOT_SIZE = (12, 6)\n",
    "sns.set_theme(palette=\"pastel\")\n",
    "plt.figure(figsize=PLOT_SIZE)\n",
    "h = sns.histplot(data=train, x=\"Age\", hue=\"Survived\", kde=True)"
   ]
  },
  {
   "cell_type": "code",
   "execution_count": 7,
   "id": "ee69ec04",
   "metadata": {
    "execution": {
     "iopub.execute_input": "2023-03-02T20:35:46.576955Z",
     "iopub.status.busy": "2023-03-02T20:35:46.576318Z",
     "iopub.status.idle": "2023-03-02T20:35:47.106562Z",
     "shell.execute_reply": "2023-03-02T20:35:47.105592Z"
    },
    "papermill": {
     "duration": 0.545303,
     "end_time": "2023-03-02T20:35:47.108743",
     "exception": false,
     "start_time": "2023-03-02T20:35:46.563440",
     "status": "completed"
    },
    "tags": []
   },
   "outputs": [
    {
     "data": {
      "image/png": "[encoded data removed]",
      "text/plain": [
       "<Figure size 1200x600 with 1 Axes>"
      ]
     },
     "metadata": {},
     "output_type": "display_data"
    }
   ],
   "source": [
    "plt.figure(figsize=PLOT_SIZE)\n",
    "h = sns.histplot(data=train, x=\"Age\", hue=\"Pclass\", kde=True).set_title(\"Count age by 'class'\")"
   ]
  },
  {
   "cell_type": "code",
   "execution_count": 8,
   "id": "24dd72aa",
   "metadata": {
    "execution": {
     "iopub.execute_input": "2023-03-02T20:35:47.135987Z",
     "iopub.status.busy": "2023-03-02T20:35:47.135669Z",
     "iopub.status.idle": "2023-03-02T20:35:47.147364Z",
     "shell.execute_reply": "2023-03-02T20:35:47.146335Z"
    },
    "papermill": {
     "duration": 0.028009,
     "end_time": "2023-03-02T20:35:47.149873",
     "exception": false,
     "start_time": "2023-03-02T20:35:47.121864",
     "status": "completed"
    },
    "tags": []
   },
   "outputs": [
    {
     "data": {
      "text/html": [
       "<div>\n",
       "<style scoped>\n",
       "    .dataframe tbody tr th:only-of-type {\n",
       "        vertical-align: middle;\n",
       "    }\n",
       "\n",
       "    .dataframe tbody tr th {\n",
       "        vertical-align: top;\n",
       "    }\n",
       "\n",
       "    .dataframe thead th {\n",
       "        text-align: right;\n",
       "    }\n",
       "</style>\n",
       "<table border=\"1\" class=\"dataframe\">\n",
       "  <thead>\n",
       "    <tr style=\"text-align: right;\">\n",
       "      <th></th>\n",
       "      <th>Number</th>\n",
       "    </tr>\n",
       "    <tr>\n",
       "      <th>Pclass</th>\n",
       "      <th></th>\n",
       "    </tr>\n",
       "  </thead>\n",
       "  <tbody>\n",
       "    <tr>\n",
       "      <th>1</th>\n",
       "      <td>216</td>\n",
       "    </tr>\n",
       "    <tr>\n",
       "      <th>2</th>\n",
       "      <td>184</td>\n",
       "    </tr>\n",
       "    <tr>\n",
       "      <th>3</th>\n",
       "      <td>491</td>\n",
       "    </tr>\n",
       "  </tbody>\n",
       "</table>\n",
       "</div>"
      ],
      "text/plain": [
       "        Number\n",
       "Pclass        \n",
       "1          216\n",
       "2          184\n",
       "3          491"
      ]
     },
     "execution_count": 8,
     "metadata": {},
     "output_type": "execute_result"
    }
   ],
   "source": [
    "train.groupby([\"Pclass\"])[\"PassengerId\"].agg([\"count\"]).rename(columns={\"count\":\"Number\"})"
   ]
  },
  {
   "cell_type": "code",
   "execution_count": 9,
   "id": "10e80c28",
   "metadata": {
    "execution": {
     "iopub.execute_input": "2023-03-02T20:35:47.177881Z",
     "iopub.status.busy": "2023-03-02T20:35:47.177091Z",
     "iopub.status.idle": "2023-03-02T20:35:47.190101Z",
     "shell.execute_reply": "2023-03-02T20:35:47.189062Z"
    },
    "papermill": {
     "duration": 0.029287,
     "end_time": "2023-03-02T20:35:47.192124",
     "exception": false,
     "start_time": "2023-03-02T20:35:47.162837",
     "status": "completed"
    },
    "tags": []
   },
   "outputs": [
    {
     "data": {
      "text/html": [
       "<div>\n",
       "<style scoped>\n",
       "    .dataframe tbody tr th:only-of-type {\n",
       "        vertical-align: middle;\n",
       "    }\n",
       "\n",
       "    .dataframe tbody tr th {\n",
       "        vertical-align: top;\n",
       "    }\n",
       "\n",
       "    .dataframe thead th {\n",
       "        text-align: right;\n",
       "    }\n",
       "</style>\n",
       "<table border=\"1\" class=\"dataframe\">\n",
       "  <thead>\n",
       "    <tr style=\"text-align: right;\">\n",
       "      <th></th>\n",
       "      <th></th>\n",
       "      <th>count</th>\n",
       "    </tr>\n",
       "    <tr>\n",
       "      <th>Sex</th>\n",
       "      <th>Pclass</th>\n",
       "      <th></th>\n",
       "    </tr>\n",
       "  </thead>\n",
       "  <tbody>\n",
       "    <tr>\n",
       "      <th rowspan=\"3\" valign=\"top\">female</th>\n",
       "      <th>1</th>\n",
       "      <td>94</td>\n",
       "    </tr>\n",
       "    <tr>\n",
       "      <th>2</th>\n",
       "      <td>76</td>\n",
       "    </tr>\n",
       "    <tr>\n",
       "      <th>3</th>\n",
       "      <td>144</td>\n",
       "    </tr>\n",
       "    <tr>\n",
       "      <th rowspan=\"3\" valign=\"top\">male</th>\n",
       "      <th>1</th>\n",
       "      <td>122</td>\n",
       "    </tr>\n",
       "    <tr>\n",
       "      <th>2</th>\n",
       "      <td>108</td>\n",
       "    </tr>\n",
       "    <tr>\n",
       "      <th>3</th>\n",
       "      <td>347</td>\n",
       "    </tr>\n",
       "  </tbody>\n",
       "</table>\n",
       "</div>"
      ],
      "text/plain": [
       "               count\n",
       "Sex    Pclass       \n",
       "female 1          94\n",
       "       2          76\n",
       "       3         144\n",
       "male   1         122\n",
       "       2         108\n",
       "       3         347"
      ]
     },
     "execution_count": 9,
     "metadata": {},
     "output_type": "execute_result"
    }
   ],
   "source": [
    "train.groupby([\"Sex\",\"Pclass\"])[\"Pclass\"].agg([\"count\"])"
   ]
  },
  {
   "cell_type": "code",
   "execution_count": 10,
   "id": "3de8269e",
   "metadata": {
    "execution": {
     "iopub.execute_input": "2023-03-02T20:35:47.221676Z",
     "iopub.status.busy": "2023-03-02T20:35:47.220097Z",
     "iopub.status.idle": "2023-03-02T20:35:47.237119Z",
     "shell.execute_reply": "2023-03-02T20:35:47.236080Z"
    },
    "papermill": {
     "duration": 0.034039,
     "end_time": "2023-03-02T20:35:47.239489",
     "exception": false,
     "start_time": "2023-03-02T20:35:47.205450",
     "status": "completed"
    },
    "tags": []
   },
   "outputs": [
    {
     "data": {
      "text/html": [
       "<div>\n",
       "<style scoped>\n",
       "    .dataframe tbody tr th:only-of-type {\n",
       "        vertical-align: middle;\n",
       "    }\n",
       "\n",
       "    .dataframe tbody tr th {\n",
       "        vertical-align: top;\n",
       "    }\n",
       "\n",
       "    .dataframe thead th {\n",
       "        text-align: right;\n",
       "    }\n",
       "</style>\n",
       "<table border=\"1\" class=\"dataframe\">\n",
       "  <thead>\n",
       "    <tr style=\"text-align: right;\">\n",
       "      <th></th>\n",
       "      <th>All</th>\n",
       "      <th>Survived</th>\n",
       "      <th>Dead</th>\n",
       "    </tr>\n",
       "    <tr>\n",
       "      <th>Pclass</th>\n",
       "      <th></th>\n",
       "      <th></th>\n",
       "      <th></th>\n",
       "    </tr>\n",
       "  </thead>\n",
       "  <tbody>\n",
       "    <tr>\n",
       "      <th>1</th>\n",
       "      <td>216</td>\n",
       "      <td>136</td>\n",
       "      <td>80</td>\n",
       "    </tr>\n",
       "    <tr>\n",
       "      <th>2</th>\n",
       "      <td>184</td>\n",
       "      <td>87</td>\n",
       "      <td>97</td>\n",
       "    </tr>\n",
       "    <tr>\n",
       "      <th>3</th>\n",
       "      <td>491</td>\n",
       "      <td>119</td>\n",
       "      <td>372</td>\n",
       "    </tr>\n",
       "  </tbody>\n",
       "</table>\n",
       "</div>"
      ],
      "text/plain": [
       "        All  Survived  Dead\n",
       "Pclass                     \n",
       "1       216       136    80\n",
       "2       184        87    97\n",
       "3       491       119   372"
      ]
     },
     "execution_count": 10,
     "metadata": {},
     "output_type": "execute_result"
    }
   ],
   "source": [
    "classes_grouped = train.groupby([\"Pclass\"])[\"Survived\"].agg([\"count\", \"sum\"])\n",
    "classes_grouped[\"sub\"] = classes_grouped[\"count\"] - classes_grouped[\"sum\"]\n",
    "\n",
    "classes_grouped.rename(columns={\"count\" : \"All\",\n",
    "                                \"sum\" : \"Survived\",\n",
    "                                \"sub\" : \"Dead\"})"
   ]
  },
  {
   "cell_type": "code",
   "execution_count": 11,
   "id": "ca476c42",
   "metadata": {
    "execution": {
     "iopub.execute_input": "2023-03-02T20:35:47.268875Z",
     "iopub.status.busy": "2023-03-02T20:35:47.268064Z",
     "iopub.status.idle": "2023-03-02T20:35:47.517142Z",
     "shell.execute_reply": "2023-03-02T20:35:47.516236Z"
    },
    "papermill": {
     "duration": 0.266206,
     "end_time": "2023-03-02T20:35:47.519574",
     "exception": false,
     "start_time": "2023-03-02T20:35:47.253368",
     "status": "completed"
    },
    "tags": []
   },
   "outputs": [
    {
     "data": {
      "image/png": "[encoded data removed]",
      "text/plain": [
       "<Figure size 1200x600 with 1 Axes>"
      ]
     },
     "metadata": {},
     "output_type": "display_data"
    }
   ],
   "source": [
    "plt.figure(figsize=PLOT_SIZE)\n",
    "c = sns.countplot(data=train, x=\"Sex\", hue=\"Survived\")"
   ]
  },
  {
   "cell_type": "markdown",
   "id": "1982edf0",
   "metadata": {
    "papermill": {
     "duration": 0.013586,
     "end_time": "2023-03-02T20:35:47.548196",
     "exception": false,
     "start_time": "2023-03-02T20:35:47.534610",
     "status": "completed"
    },
    "tags": []
   },
   "source": [
    "Predprocesiranje"
   ]
  },
  {
   "cell_type": "code",
   "execution_count": 12,
   "id": "13970ca7",
   "metadata": {
    "execution": {
     "iopub.execute_input": "2023-03-02T20:35:47.578453Z",
     "iopub.status.busy": "2023-03-02T20:35:47.577557Z",
     "iopub.status.idle": "2023-03-02T20:35:47.588238Z",
     "shell.execute_reply": "2023-03-02T20:35:47.587188Z"
    },
    "papermill": {
     "duration": 0.027764,
     "end_time": "2023-03-02T20:35:47.590414",
     "exception": false,
     "start_time": "2023-03-02T20:35:47.562650",
     "status": "completed"
    },
    "tags": []
   },
   "outputs": [
    {
     "data": {
      "text/plain": [
       "0      Mr\n",
       "1     Mrs\n",
       "2    Miss\n",
       "3     Mrs\n",
       "4      Mr\n",
       "Name: Title, dtype: object"
      ]
     },
     "execution_count": 12,
     "metadata": {},
     "output_type": "execute_result"
    }
   ],
   "source": [
    "def get_title(text):\n",
    "    for word in text.split():\n",
    "        if \".\" in word:\n",
    "            return word[:-1]\n",
    "        \n",
    "        \n",
    "train[\"Title\"] = train[\"Name\"].map(get_title)\n",
    "train[\"Title\"].head()"
   ]
  },
  {
   "cell_type": "code",
   "execution_count": 13,
   "id": "680d70a8",
   "metadata": {
    "execution": {
     "iopub.execute_input": "2023-03-02T20:35:47.620608Z",
     "iopub.status.busy": "2023-03-02T20:35:47.619734Z",
     "iopub.status.idle": "2023-03-02T20:35:47.635147Z",
     "shell.execute_reply": "2023-03-02T20:35:47.634091Z"
    },
    "papermill": {
     "duration": 0.032373,
     "end_time": "2023-03-02T20:35:47.637353",
     "exception": false,
     "start_time": "2023-03-02T20:35:47.604980",
     "status": "completed"
    },
    "tags": []
   },
   "outputs": [
    {
     "data": {
      "text/html": [
       "<div>\n",
       "<style scoped>\n",
       "    .dataframe tbody tr th:only-of-type {\n",
       "        vertical-align: middle;\n",
       "    }\n",
       "\n",
       "    .dataframe tbody tr th {\n",
       "        vertical-align: top;\n",
       "    }\n",
       "\n",
       "    .dataframe thead th {\n",
       "        text-align: right;\n",
       "    }\n",
       "</style>\n",
       "<table border=\"1\" class=\"dataframe\">\n",
       "  <thead>\n",
       "    <tr style=\"text-align: right;\">\n",
       "      <th></th>\n",
       "      <th>All</th>\n",
       "      <th>Survived</th>\n",
       "      <th>Dead</th>\n",
       "    </tr>\n",
       "    <tr>\n",
       "      <th>Title</th>\n",
       "      <th></th>\n",
       "      <th></th>\n",
       "      <th></th>\n",
       "    </tr>\n",
       "  </thead>\n",
       "  <tbody>\n",
       "    <tr>\n",
       "      <th>Mr</th>\n",
       "      <td>517</td>\n",
       "      <td>81</td>\n",
       "      <td>436</td>\n",
       "    </tr>\n",
       "    <tr>\n",
       "      <th>Miss</th>\n",
       "      <td>182</td>\n",
       "      <td>127</td>\n",
       "      <td>55</td>\n",
       "    </tr>\n",
       "    <tr>\n",
       "      <th>Mrs</th>\n",
       "      <td>125</td>\n",
       "      <td>99</td>\n",
       "      <td>26</td>\n",
       "    </tr>\n",
       "    <tr>\n",
       "      <th>Master</th>\n",
       "      <td>40</td>\n",
       "      <td>23</td>\n",
       "      <td>17</td>\n",
       "    </tr>\n",
       "    <tr>\n",
       "      <th>Dr</th>\n",
       "      <td>7</td>\n",
       "      <td>3</td>\n",
       "      <td>4</td>\n",
       "    </tr>\n",
       "    <tr>\n",
       "      <th>Rev</th>\n",
       "      <td>6</td>\n",
       "      <td>0</td>\n",
       "      <td>6</td>\n",
       "    </tr>\n",
       "    <tr>\n",
       "      <th>Major</th>\n",
       "      <td>2</td>\n",
       "      <td>1</td>\n",
       "      <td>1</td>\n",
       "    </tr>\n",
       "    <tr>\n",
       "      <th>Col</th>\n",
       "      <td>2</td>\n",
       "      <td>1</td>\n",
       "      <td>1</td>\n",
       "    </tr>\n",
       "    <tr>\n",
       "      <th>Mlle</th>\n",
       "      <td>2</td>\n",
       "      <td>2</td>\n",
       "      <td>0</td>\n",
       "    </tr>\n",
       "    <tr>\n",
       "      <th>Mme</th>\n",
       "      <td>1</td>\n",
       "      <td>1</td>\n",
       "      <td>0</td>\n",
       "    </tr>\n",
       "    <tr>\n",
       "      <th>Ms</th>\n",
       "      <td>1</td>\n",
       "      <td>1</td>\n",
       "      <td>0</td>\n",
       "    </tr>\n",
       "    <tr>\n",
       "      <th>Capt</th>\n",
       "      <td>1</td>\n",
       "      <td>0</td>\n",
       "      <td>1</td>\n",
       "    </tr>\n",
       "    <tr>\n",
       "      <th>Lady</th>\n",
       "      <td>1</td>\n",
       "      <td>1</td>\n",
       "      <td>0</td>\n",
       "    </tr>\n",
       "    <tr>\n",
       "      <th>Jonkheer</th>\n",
       "      <td>1</td>\n",
       "      <td>0</td>\n",
       "      <td>1</td>\n",
       "    </tr>\n",
       "    <tr>\n",
       "      <th>Don</th>\n",
       "      <td>1</td>\n",
       "      <td>0</td>\n",
       "      <td>1</td>\n",
       "    </tr>\n",
       "    <tr>\n",
       "      <th>Countess</th>\n",
       "      <td>1</td>\n",
       "      <td>1</td>\n",
       "      <td>0</td>\n",
       "    </tr>\n",
       "    <tr>\n",
       "      <th>Sir</th>\n",
       "      <td>1</td>\n",
       "      <td>1</td>\n",
       "      <td>0</td>\n",
       "    </tr>\n",
       "  </tbody>\n",
       "</table>\n",
       "</div>"
      ],
      "text/plain": [
       "          All  Survived  Dead\n",
       "Title                        \n",
       "Mr        517        81   436\n",
       "Miss      182       127    55\n",
       "Mrs       125        99    26\n",
       "Master     40        23    17\n",
       "Dr          7         3     4\n",
       "Rev         6         0     6\n",
       "Major       2         1     1\n",
       "Col         2         1     1\n",
       "Mlle        2         2     0\n",
       "Mme         1         1     0\n",
       "Ms          1         1     0\n",
       "Capt        1         0     1\n",
       "Lady        1         1     0\n",
       "Jonkheer    1         0     1\n",
       "Don         1         0     1\n",
       "Countess    1         1     0\n",
       "Sir         1         1     0"
      ]
     },
     "execution_count": 13,
     "metadata": {},
     "output_type": "execute_result"
    }
   ],
   "source": [
    "grouped_titles_sum = train.groupby([\"Title\"])[\"Survived\"].agg([\"count\", \"sum\"])\n",
    "grouped_titles_sum[\"Dead\"] = grouped_titles_sum[\"count\"] - grouped_titles_sum[\"sum\"]\n",
    "\n",
    "grouped_titles_sum.rename(columns={\"sum\" : \"Survived\",\n",
    "                                   \"count\" : \"All\"}).sort_values(by=\"All\", ascending=False)"
   ]
  },
  {
   "cell_type": "code",
   "execution_count": 14,
   "id": "171a0d0c",
   "metadata": {
    "execution": {
     "iopub.execute_input": "2023-03-02T20:35:47.667343Z",
     "iopub.status.busy": "2023-03-02T20:35:47.666525Z",
     "iopub.status.idle": "2023-03-02T20:35:47.672325Z",
     "shell.execute_reply": "2023-03-02T20:35:47.671449Z"
    },
    "papermill": {
     "duration": 0.022746,
     "end_time": "2023-03-02T20:35:47.674413",
     "exception": false,
     "start_time": "2023-03-02T20:35:47.651667",
     "status": "completed"
    },
    "tags": []
   },
   "outputs": [],
   "source": [
    "titles = [\"Miss\", \"Mrs\", \"Mr\", \"Master\"]\n",
    "train[\"Title\"] = train[\"Title\"].map(lambda x: x if x in titles else \"Other\")"
   ]
  },
  {
   "cell_type": "code",
   "execution_count": 15,
   "id": "21e03a20",
   "metadata": {
    "execution": {
     "iopub.execute_input": "2023-03-02T20:35:47.704783Z",
     "iopub.status.busy": "2023-03-02T20:35:47.703962Z",
     "iopub.status.idle": "2023-03-02T20:35:47.991708Z",
     "shell.execute_reply": "2023-03-02T20:35:47.990810Z"
    },
    "papermill": {
     "duration": 0.30535,
     "end_time": "2023-03-02T20:35:47.993985",
     "exception": false,
     "start_time": "2023-03-02T20:35:47.688635",
     "status": "completed"
    },
    "tags": []
   },
   "outputs": [
    {
     "data": {
      "image/png": "[encoded data removed]",
      "text/plain": [
       "<Figure size 1200x600 with 1 Axes>"
      ]
     },
     "metadata": {},
     "output_type": "display_data"
    }
   ],
   "source": [
    "plt.figure(figsize=PLOT_SIZE)\n",
    "c = sns.countplot(data=train, x=\"Title\", hue=\"Survived\")"
   ]
  },
  {
   "cell_type": "code",
   "execution_count": 16,
   "id": "3a3be0f0",
   "metadata": {
    "execution": {
     "iopub.execute_input": "2023-03-02T20:35:48.024469Z",
     "iopub.status.busy": "2023-03-02T20:35:48.023659Z",
     "iopub.status.idle": "2023-03-02T20:35:48.031198Z",
     "shell.execute_reply": "2023-03-02T20:35:48.030368Z"
    },
    "papermill": {
     "duration": 0.024729,
     "end_time": "2023-03-02T20:35:48.033221",
     "exception": false,
     "start_time": "2023-03-02T20:35:48.008492",
     "status": "completed"
    },
    "tags": []
   },
   "outputs": [],
   "source": [
    "# Parch == Parents and children (indicator of family members)\n",
    "train[\"HasFamily\"] = train[\"Parch\"].map(lambda x: 1 if x != 0 else 0)\n",
    "# sSibsp == Siblings and spouse (again indicates family members)\n",
    "train[\"HasSib\"] = train[\"SibSp\"].map(lambda x: 1 if x != 0 else 0)"
   ]
  },
  {
   "cell_type": "code",
   "execution_count": 17,
   "id": "c0e88d1f",
   "metadata": {
    "execution": {
     "iopub.execute_input": "2023-03-02T20:35:48.064104Z",
     "iopub.status.busy": "2023-03-02T20:35:48.062618Z",
     "iopub.status.idle": "2023-03-02T20:35:48.069694Z",
     "shell.execute_reply": "2023-03-02T20:35:48.068715Z"
    },
    "papermill": {
     "duration": 0.024767,
     "end_time": "2023-03-02T20:35:48.071975",
     "exception": false,
     "start_time": "2023-03-02T20:35:48.047208",
     "status": "completed"
    },
    "tags": []
   },
   "outputs": [],
   "source": [
    "train[\"FarePerFamily\"] = train[\"Fare\"] / (train[\"Parch\"]+1)\n",
    "train[\"FarePerSib\"] = train[\"Fare\"] / (train[\"SibSp\"]+1)"
   ]
  },
  {
   "cell_type": "code",
   "execution_count": 18,
   "id": "8d7e59a7",
   "metadata": {
    "execution": {
     "iopub.execute_input": "2023-03-02T20:35:48.102387Z",
     "iopub.status.busy": "2023-03-02T20:35:48.101470Z",
     "iopub.status.idle": "2023-03-02T20:35:48.119088Z",
     "shell.execute_reply": "2023-03-02T20:35:48.118131Z"
    },
    "papermill": {
     "duration": 0.034884,
     "end_time": "2023-03-02T20:35:48.121451",
     "exception": false,
     "start_time": "2023-03-02T20:35:48.086567",
     "status": "completed"
    },
    "tags": []
   },
   "outputs": [
    {
     "data": {
      "text/html": [
       "<div>\n",
       "<style scoped>\n",
       "    .dataframe tbody tr th:only-of-type {\n",
       "        vertical-align: middle;\n",
       "    }\n",
       "\n",
       "    .dataframe tbody tr th {\n",
       "        vertical-align: top;\n",
       "    }\n",
       "\n",
       "    .dataframe thead th {\n",
       "        text-align: right;\n",
       "    }\n",
       "</style>\n",
       "<table border=\"1\" class=\"dataframe\">\n",
       "  <thead>\n",
       "    <tr style=\"text-align: right;\">\n",
       "      <th></th>\n",
       "      <th>PassengerId</th>\n",
       "      <th>Survived</th>\n",
       "      <th>Pclass</th>\n",
       "      <th>Name</th>\n",
       "      <th>Sex</th>\n",
       "      <th>Age</th>\n",
       "      <th>SibSp</th>\n",
       "      <th>Parch</th>\n",
       "      <th>Ticket</th>\n",
       "      <th>Fare</th>\n",
       "      <th>Cabin</th>\n",
       "      <th>Embarked</th>\n",
       "      <th>Title</th>\n",
       "      <th>HasFamily</th>\n",
       "      <th>HasSib</th>\n",
       "      <th>FarePerFamily</th>\n",
       "      <th>FarePerSib</th>\n",
       "    </tr>\n",
       "  </thead>\n",
       "  <tbody>\n",
       "    <tr>\n",
       "      <th>0</th>\n",
       "      <td>1</td>\n",
       "      <td>0</td>\n",
       "      <td>3</td>\n",
       "      <td>Braund, Mr. Owen Harris</td>\n",
       "      <td>male</td>\n",
       "      <td>22.00</td>\n",
       "      <td>1</td>\n",
       "      <td>0</td>\n",
       "      <td>A/5 21171</td>\n",
       "      <td>7.25</td>\n",
       "      <td>NaN</td>\n",
       "      <td>S</td>\n",
       "      <td>Mr</td>\n",
       "      <td>0</td>\n",
       "      <td>1</td>\n",
       "      <td>7.25</td>\n",
       "      <td>3.62</td>\n",
       "    </tr>\n",
       "    <tr>\n",
       "      <th>1</th>\n",
       "      <td>2</td>\n",
       "      <td>1</td>\n",
       "      <td>1</td>\n",
       "      <td>Cumings, Mrs. John Bradley (Florence Briggs Th...</td>\n",
       "      <td>female</td>\n",
       "      <td>38.00</td>\n",
       "      <td>1</td>\n",
       "      <td>0</td>\n",
       "      <td>PC 17599</td>\n",
       "      <td>71.28</td>\n",
       "      <td>C85</td>\n",
       "      <td>C</td>\n",
       "      <td>Mrs</td>\n",
       "      <td>0</td>\n",
       "      <td>1</td>\n",
       "      <td>71.28</td>\n",
       "      <td>35.64</td>\n",
       "    </tr>\n",
       "    <tr>\n",
       "      <th>2</th>\n",
       "      <td>3</td>\n",
       "      <td>1</td>\n",
       "      <td>3</td>\n",
       "      <td>Heikkinen, Miss. Laina</td>\n",
       "      <td>female</td>\n",
       "      <td>26.00</td>\n",
       "      <td>0</td>\n",
       "      <td>0</td>\n",
       "      <td>STON/O2. 3101282</td>\n",
       "      <td>7.92</td>\n",
       "      <td>NaN</td>\n",
       "      <td>S</td>\n",
       "      <td>Miss</td>\n",
       "      <td>0</td>\n",
       "      <td>0</td>\n",
       "      <td>7.92</td>\n",
       "      <td>7.92</td>\n",
       "    </tr>\n",
       "    <tr>\n",
       "      <th>3</th>\n",
       "      <td>4</td>\n",
       "      <td>1</td>\n",
       "      <td>1</td>\n",
       "      <td>Futrelle, Mrs. Jacques Heath (Lily May Peel)</td>\n",
       "      <td>female</td>\n",
       "      <td>35.00</td>\n",
       "      <td>1</td>\n",
       "      <td>0</td>\n",
       "      <td>113803</td>\n",
       "      <td>53.10</td>\n",
       "      <td>C123</td>\n",
       "      <td>S</td>\n",
       "      <td>Mrs</td>\n",
       "      <td>0</td>\n",
       "      <td>1</td>\n",
       "      <td>53.10</td>\n",
       "      <td>26.55</td>\n",
       "    </tr>\n",
       "    <tr>\n",
       "      <th>4</th>\n",
       "      <td>5</td>\n",
       "      <td>0</td>\n",
       "      <td>3</td>\n",
       "      <td>Allen, Mr. William Henry</td>\n",
       "      <td>male</td>\n",
       "      <td>35.00</td>\n",
       "      <td>0</td>\n",
       "      <td>0</td>\n",
       "      <td>373450</td>\n",
       "      <td>8.05</td>\n",
       "      <td>NaN</td>\n",
       "      <td>S</td>\n",
       "      <td>Mr</td>\n",
       "      <td>0</td>\n",
       "      <td>0</td>\n",
       "      <td>8.05</td>\n",
       "      <td>8.05</td>\n",
       "    </tr>\n",
       "  </tbody>\n",
       "</table>\n",
       "</div>"
      ],
      "text/plain": [
       "   PassengerId  Survived  Pclass  \\\n",
       "0            1         0       3   \n",
       "1            2         1       1   \n",
       "2            3         1       3   \n",
       "3            4         1       1   \n",
       "4            5         0       3   \n",
       "\n",
       "                                                Name     Sex   Age  SibSp  \\\n",
       "0                            Braund, Mr. Owen Harris    male 22.00      1   \n",
       "1  Cumings, Mrs. John Bradley (Florence Briggs Th...  female 38.00      1   \n",
       "2                             Heikkinen, Miss. Laina  female 26.00      0   \n",
       "3       Futrelle, Mrs. Jacques Heath (Lily May Peel)  female 35.00      1   \n",
       "4                           Allen, Mr. William Henry    male 35.00      0   \n",
       "\n",
       "   Parch            Ticket  Fare Cabin Embarked Title  HasFamily  HasSib  \\\n",
       "0      0         A/5 21171  7.25   NaN        S    Mr          0       1   \n",
       "1      0          PC 17599 71.28   C85        C   Mrs          0       1   \n",
       "2      0  STON/O2. 3101282  7.92   NaN        S  Miss          0       0   \n",
       "3      0            113803 53.10  C123        S   Mrs          0       1   \n",
       "4      0            373450  8.05   NaN        S    Mr          0       0   \n",
       "\n",
       "   FarePerFamily  FarePerSib  \n",
       "0           7.25        3.62  \n",
       "1          71.28       35.64  \n",
       "2           7.92        7.92  \n",
       "3          53.10       26.55  \n",
       "4           8.05        8.05  "
      ]
     },
     "execution_count": 18,
     "metadata": {},
     "output_type": "execute_result"
    }
   ],
   "source": [
    "train.head()"
   ]
  },
  {
   "cell_type": "code",
   "execution_count": 19,
   "id": "1e03e47e",
   "metadata": {
    "execution": {
     "iopub.execute_input": "2023-03-02T20:35:48.154127Z",
     "iopub.status.busy": "2023-03-02T20:35:48.153388Z",
     "iopub.status.idle": "2023-03-02T20:35:48.158811Z",
     "shell.execute_reply": "2023-03-02T20:35:48.157999Z"
    },
    "papermill": {
     "duration": 0.023882,
     "end_time": "2023-03-02T20:35:48.161047",
     "exception": false,
     "start_time": "2023-03-02T20:35:48.137165",
     "status": "completed"
    },
    "tags": []
   },
   "outputs": [],
   "source": [
    "del train[\"Cabin\"]"
   ]
  },
  {
   "cell_type": "code",
   "execution_count": 20,
   "id": "53c1f8c8",
   "metadata": {
    "execution": {
     "iopub.execute_input": "2023-03-02T20:35:48.191950Z",
     "iopub.status.busy": "2023-03-02T20:35:48.190536Z",
     "iopub.status.idle": "2023-03-02T20:35:48.197117Z",
     "shell.execute_reply": "2023-03-02T20:35:48.196232Z"
    },
    "papermill": {
     "duration": 0.023957,
     "end_time": "2023-03-02T20:35:48.199261",
     "exception": false,
     "start_time": "2023-03-02T20:35:48.175304",
     "status": "completed"
    },
    "tags": []
   },
   "outputs": [],
   "source": [
    "train[\"Age\"] = train[\"Age\"].fillna(train[\"Age\"].median())"
   ]
  },
  {
   "cell_type": "code",
   "execution_count": 21,
   "id": "14320757",
   "metadata": {
    "execution": {
     "iopub.execute_input": "2023-03-02T20:35:48.230392Z",
     "iopub.status.busy": "2023-03-02T20:35:48.230094Z",
     "iopub.status.idle": "2023-03-02T20:35:48.238961Z",
     "shell.execute_reply": "2023-03-02T20:35:48.238053Z"
    },
    "papermill": {
     "duration": 0.026324,
     "end_time": "2023-03-02T20:35:48.241194",
     "exception": false,
     "start_time": "2023-03-02T20:35:48.214870",
     "status": "completed"
    },
    "tags": []
   },
   "outputs": [],
   "source": [
    "train = train.dropna()"
   ]
  },
  {
   "cell_type": "code",
   "execution_count": 22,
   "id": "85b60014",
   "metadata": {
    "execution": {
     "iopub.execute_input": "2023-03-02T20:35:48.271458Z",
     "iopub.status.busy": "2023-03-02T20:35:48.271172Z",
     "iopub.status.idle": "2023-03-02T20:35:48.287182Z",
     "shell.execute_reply": "2023-03-02T20:35:48.286225Z"
    },
    "papermill": {
     "duration": 0.033442,
     "end_time": "2023-03-02T20:35:48.289240",
     "exception": false,
     "start_time": "2023-03-02T20:35:48.255798",
     "status": "completed"
    },
    "tags": []
   },
   "outputs": [
    {
     "data": {
      "text/html": [
       "<div>\n",
       "<style scoped>\n",
       "    .dataframe tbody tr th:only-of-type {\n",
       "        vertical-align: middle;\n",
       "    }\n",
       "\n",
       "    .dataframe tbody tr th {\n",
       "        vertical-align: top;\n",
       "    }\n",
       "\n",
       "    .dataframe thead th {\n",
       "        text-align: right;\n",
       "    }\n",
       "</style>\n",
       "<table border=\"1\" class=\"dataframe\">\n",
       "  <thead>\n",
       "    <tr style=\"text-align: right;\">\n",
       "      <th></th>\n",
       "      <th>PassengerId</th>\n",
       "      <th>Survived</th>\n",
       "      <th>Pclass</th>\n",
       "      <th>Name</th>\n",
       "      <th>Sex</th>\n",
       "      <th>Age</th>\n",
       "      <th>SibSp</th>\n",
       "      <th>Parch</th>\n",
       "      <th>Ticket</th>\n",
       "      <th>Fare</th>\n",
       "      <th>Embarked</th>\n",
       "      <th>Title</th>\n",
       "      <th>HasFamily</th>\n",
       "      <th>HasSib</th>\n",
       "      <th>FarePerFamily</th>\n",
       "      <th>FarePerSib</th>\n",
       "    </tr>\n",
       "  </thead>\n",
       "  <tbody>\n",
       "    <tr>\n",
       "      <th>0</th>\n",
       "      <td>1</td>\n",
       "      <td>0</td>\n",
       "      <td>3</td>\n",
       "      <td>Braund, Mr. Owen Harris</td>\n",
       "      <td>male</td>\n",
       "      <td>22.00</td>\n",
       "      <td>1</td>\n",
       "      <td>0</td>\n",
       "      <td>A/5 21171</td>\n",
       "      <td>7.25</td>\n",
       "      <td>S</td>\n",
       "      <td>Mr</td>\n",
       "      <td>0</td>\n",
       "      <td>1</td>\n",
       "      <td>7.25</td>\n",
       "      <td>3.62</td>\n",
       "    </tr>\n",
       "    <tr>\n",
       "      <th>1</th>\n",
       "      <td>2</td>\n",
       "      <td>1</td>\n",
       "      <td>1</td>\n",
       "      <td>Cumings, Mrs. John Bradley (Florence Briggs Th...</td>\n",
       "      <td>female</td>\n",
       "      <td>38.00</td>\n",
       "      <td>1</td>\n",
       "      <td>0</td>\n",
       "      <td>PC 17599</td>\n",
       "      <td>71.28</td>\n",
       "      <td>C</td>\n",
       "      <td>Mrs</td>\n",
       "      <td>0</td>\n",
       "      <td>1</td>\n",
       "      <td>71.28</td>\n",
       "      <td>35.64</td>\n",
       "    </tr>\n",
       "    <tr>\n",
       "      <th>2</th>\n",
       "      <td>3</td>\n",
       "      <td>1</td>\n",
       "      <td>3</td>\n",
       "      <td>Heikkinen, Miss. Laina</td>\n",
       "      <td>female</td>\n",
       "      <td>26.00</td>\n",
       "      <td>0</td>\n",
       "      <td>0</td>\n",
       "      <td>STON/O2. 3101282</td>\n",
       "      <td>7.92</td>\n",
       "      <td>S</td>\n",
       "      <td>Miss</td>\n",
       "      <td>0</td>\n",
       "      <td>0</td>\n",
       "      <td>7.92</td>\n",
       "      <td>7.92</td>\n",
       "    </tr>\n",
       "    <tr>\n",
       "      <th>3</th>\n",
       "      <td>4</td>\n",
       "      <td>1</td>\n",
       "      <td>1</td>\n",
       "      <td>Futrelle, Mrs. Jacques Heath (Lily May Peel)</td>\n",
       "      <td>female</td>\n",
       "      <td>35.00</td>\n",
       "      <td>1</td>\n",
       "      <td>0</td>\n",
       "      <td>113803</td>\n",
       "      <td>53.10</td>\n",
       "      <td>S</td>\n",
       "      <td>Mrs</td>\n",
       "      <td>0</td>\n",
       "      <td>1</td>\n",
       "      <td>53.10</td>\n",
       "      <td>26.55</td>\n",
       "    </tr>\n",
       "    <tr>\n",
       "      <th>4</th>\n",
       "      <td>5</td>\n",
       "      <td>0</td>\n",
       "      <td>3</td>\n",
       "      <td>Allen, Mr. William Henry</td>\n",
       "      <td>male</td>\n",
       "      <td>35.00</td>\n",
       "      <td>0</td>\n",
       "      <td>0</td>\n",
       "      <td>373450</td>\n",
       "      <td>8.05</td>\n",
       "      <td>S</td>\n",
       "      <td>Mr</td>\n",
       "      <td>0</td>\n",
       "      <td>0</td>\n",
       "      <td>8.05</td>\n",
       "      <td>8.05</td>\n",
       "    </tr>\n",
       "  </tbody>\n",
       "</table>\n",
       "</div>"
      ],
      "text/plain": [
       "   PassengerId  Survived  Pclass  \\\n",
       "0            1         0       3   \n",
       "1            2         1       1   \n",
       "2            3         1       3   \n",
       "3            4         1       1   \n",
       "4            5         0       3   \n",
       "\n",
       "                                                Name     Sex   Age  SibSp  \\\n",
       "0                            Braund, Mr. Owen Harris    male 22.00      1   \n",
       "1  Cumings, Mrs. John Bradley (Florence Briggs Th...  female 38.00      1   \n",
       "2                             Heikkinen, Miss. Laina  female 26.00      0   \n",
       "3       Futrelle, Mrs. Jacques Heath (Lily May Peel)  female 35.00      1   \n",
       "4                           Allen, Mr. William Henry    male 35.00      0   \n",
       "\n",
       "   Parch            Ticket  Fare Embarked Title  HasFamily  HasSib  \\\n",
       "0      0         A/5 21171  7.25        S    Mr          0       1   \n",
       "1      0          PC 17599 71.28        C   Mrs          0       1   \n",
       "2      0  STON/O2. 3101282  7.92        S  Miss          0       0   \n",
       "3      0            113803 53.10        S   Mrs          0       1   \n",
       "4      0            373450  8.05        S    Mr          0       0   \n",
       "\n",
       "   FarePerFamily  FarePerSib  \n",
       "0           7.25        3.62  \n",
       "1          71.28       35.64  \n",
       "2           7.92        7.92  \n",
       "3          53.10       26.55  \n",
       "4           8.05        8.05  "
      ]
     },
     "execution_count": 22,
     "metadata": {},
     "output_type": "execute_result"
    }
   ],
   "source": [
    "train.head()"
   ]
  },
  {
   "cell_type": "code",
   "execution_count": 23,
   "id": "32ff32ba",
   "metadata": {
    "execution": {
     "iopub.execute_input": "2023-03-02T20:35:48.322302Z",
     "iopub.status.busy": "2023-03-02T20:35:48.321409Z",
     "iopub.status.idle": "2023-03-02T20:35:49.287278Z",
     "shell.execute_reply": "2023-03-02T20:35:49.286278Z"
    },
    "papermill": {
     "duration": 0.985452,
     "end_time": "2023-03-02T20:35:49.290841",
     "exception": false,
     "start_time": "2023-03-02T20:35:48.305389",
     "status": "completed"
    },
    "tags": []
   },
   "outputs": [
    {
     "data": {
      "image/png": "[encoded data removed]",
      "text/plain": [
       "<Figure size 1200x600 with 2 Axes>"
      ]
     },
     "metadata": {},
     "output_type": "display_data"
    }
   ],
   "source": [
    "plt.figure(figsize=PLOT_SIZE)\n",
    "h = sns.heatmap(train.corr(), annot=True)"
   ]
  },
  {
   "cell_type": "code",
   "execution_count": 24,
   "id": "2cbdf5e8",
   "metadata": {
    "execution": {
     "iopub.execute_input": "2023-03-02T20:35:49.327832Z",
     "iopub.status.busy": "2023-03-02T20:35:49.326946Z",
     "iopub.status.idle": "2023-03-02T20:35:49.335451Z",
     "shell.execute_reply": "2023-03-02T20:35:49.334613Z"
    },
    "papermill": {
     "duration": 0.028991,
     "end_time": "2023-03-02T20:35:49.337419",
     "exception": false,
     "start_time": "2023-03-02T20:35:49.308428",
     "status": "completed"
    },
    "tags": []
   },
   "outputs": [],
   "source": [
    "lab_encoder_sex = LabelEncoder()\n",
    "lab_encoder_embarked = LabelEncoder()\n",
    "lab_encoder_title = LabelEncoder()\n",
    "train.loc[:,\"Sex\"] = lab_encoder_sex.fit_transform(train[\"Sex\"])\n",
    "train.loc[:,\"Embarked\"] = lab_encoder_embarked.fit_transform(train[\"Embarked\"])\n",
    "train.loc[:,\"Title\"] = lab_encoder_title.fit_transform(train[\"Title\"])"
   ]
  },
  {
   "cell_type": "code",
   "execution_count": 25,
   "id": "ec16b1af",
   "metadata": {
    "execution": {
     "iopub.execute_input": "2023-03-02T20:35:49.372800Z",
     "iopub.status.busy": "2023-03-02T20:35:49.371985Z",
     "iopub.status.idle": "2023-03-02T20:35:49.378049Z",
     "shell.execute_reply": "2023-03-02T20:35:49.377210Z"
    },
    "papermill": {
     "duration": 0.02618,
     "end_time": "2023-03-02T20:35:49.380109",
     "exception": false,
     "start_time": "2023-03-02T20:35:49.353929",
     "status": "completed"
    },
    "tags": []
   },
   "outputs": [],
   "source": [
    "label = train[\"Survived\"]\n",
    "train = train.drop([\"PassengerId\", \"Survived\", \"Name\", \"Ticket\"], axis=1)"
   ]
  },
  {
   "cell_type": "code",
   "execution_count": 26,
   "id": "3f24a00f",
   "metadata": {
    "execution": {
     "iopub.execute_input": "2023-03-02T20:35:49.415108Z",
     "iopub.status.busy": "2023-03-02T20:35:49.413638Z",
     "iopub.status.idle": "2023-03-02T20:35:49.427119Z",
     "shell.execute_reply": "2023-03-02T20:35:49.426051Z"
    },
    "papermill": {
     "duration": 0.032775,
     "end_time": "2023-03-02T20:35:49.429106",
     "exception": false,
     "start_time": "2023-03-02T20:35:49.396331",
     "status": "completed"
    },
    "tags": []
   },
   "outputs": [
    {
     "data": {
      "text/html": [
       "<div>\n",
       "<style scoped>\n",
       "    .dataframe tbody tr th:only-of-type {\n",
       "        vertical-align: middle;\n",
       "    }\n",
       "\n",
       "    .dataframe tbody tr th {\n",
       "        vertical-align: top;\n",
       "    }\n",
       "\n",
       "    .dataframe thead th {\n",
       "        text-align: right;\n",
       "    }\n",
       "</style>\n",
       "<table border=\"1\" class=\"dataframe\">\n",
       "  <thead>\n",
       "    <tr style=\"text-align: right;\">\n",
       "      <th></th>\n",
       "      <th>Pclass</th>\n",
       "      <th>Sex</th>\n",
       "      <th>Age</th>\n",
       "      <th>SibSp</th>\n",
       "      <th>Parch</th>\n",
       "      <th>Fare</th>\n",
       "      <th>Embarked</th>\n",
       "      <th>Title</th>\n",
       "      <th>HasFamily</th>\n",
       "      <th>HasSib</th>\n",
       "      <th>FarePerFamily</th>\n",
       "      <th>FarePerSib</th>\n",
       "    </tr>\n",
       "  </thead>\n",
       "  <tbody>\n",
       "    <tr>\n",
       "      <th>0</th>\n",
       "      <td>3</td>\n",
       "      <td>1</td>\n",
       "      <td>22.00</td>\n",
       "      <td>1</td>\n",
       "      <td>0</td>\n",
       "      <td>7.25</td>\n",
       "      <td>2</td>\n",
       "      <td>2</td>\n",
       "      <td>0</td>\n",
       "      <td>1</td>\n",
       "      <td>7.25</td>\n",
       "      <td>3.62</td>\n",
       "    </tr>\n",
       "    <tr>\n",
       "      <th>1</th>\n",
       "      <td>1</td>\n",
       "      <td>0</td>\n",
       "      <td>38.00</td>\n",
       "      <td>1</td>\n",
       "      <td>0</td>\n",
       "      <td>71.28</td>\n",
       "      <td>0</td>\n",
       "      <td>3</td>\n",
       "      <td>0</td>\n",
       "      <td>1</td>\n",
       "      <td>71.28</td>\n",
       "      <td>35.64</td>\n",
       "    </tr>\n",
       "    <tr>\n",
       "      <th>2</th>\n",
       "      <td>3</td>\n",
       "      <td>0</td>\n",
       "      <td>26.00</td>\n",
       "      <td>0</td>\n",
       "      <td>0</td>\n",
       "      <td>7.92</td>\n",
       "      <td>2</td>\n",
       "      <td>1</td>\n",
       "      <td>0</td>\n",
       "      <td>0</td>\n",
       "      <td>7.92</td>\n",
       "      <td>7.92</td>\n",
       "    </tr>\n",
       "    <tr>\n",
       "      <th>3</th>\n",
       "      <td>1</td>\n",
       "      <td>0</td>\n",
       "      <td>35.00</td>\n",
       "      <td>1</td>\n",
       "      <td>0</td>\n",
       "      <td>53.10</td>\n",
       "      <td>2</td>\n",
       "      <td>3</td>\n",
       "      <td>0</td>\n",
       "      <td>1</td>\n",
       "      <td>53.10</td>\n",
       "      <td>26.55</td>\n",
       "    </tr>\n",
       "    <tr>\n",
       "      <th>4</th>\n",
       "      <td>3</td>\n",
       "      <td>1</td>\n",
       "      <td>35.00</td>\n",
       "      <td>0</td>\n",
       "      <td>0</td>\n",
       "      <td>8.05</td>\n",
       "      <td>2</td>\n",
       "      <td>2</td>\n",
       "      <td>0</td>\n",
       "      <td>0</td>\n",
       "      <td>8.05</td>\n",
       "      <td>8.05</td>\n",
       "    </tr>\n",
       "  </tbody>\n",
       "</table>\n",
       "</div>"
      ],
      "text/plain": [
       "   Pclass  Sex   Age  SibSp  Parch  Fare  Embarked  Title  HasFamily  HasSib  \\\n",
       "0       3    1 22.00      1      0  7.25         2      2          0       1   \n",
       "1       1    0 38.00      1      0 71.28         0      3          0       1   \n",
       "2       3    0 26.00      0      0  7.92         2      1          0       0   \n",
       "3       1    0 35.00      1      0 53.10         2      3          0       1   \n",
       "4       3    1 35.00      0      0  8.05         2      2          0       0   \n",
       "\n",
       "   FarePerFamily  FarePerSib  \n",
       "0           7.25        3.62  \n",
       "1          71.28       35.64  \n",
       "2           7.92        7.92  \n",
       "3          53.10       26.55  \n",
       "4           8.05        8.05  "
      ]
     },
     "execution_count": 26,
     "metadata": {},
     "output_type": "execute_result"
    }
   ],
   "source": [
    "train.head()"
   ]
  },
  {
   "cell_type": "code",
   "execution_count": 27,
   "id": "4ce3e626",
   "metadata": {
    "execution": {
     "iopub.execute_input": "2023-03-02T20:35:49.465194Z",
     "iopub.status.busy": "2023-03-02T20:35:49.464430Z",
     "iopub.status.idle": "2023-03-02T20:35:49.471251Z",
     "shell.execute_reply": "2023-03-02T20:35:49.470349Z"
    },
    "papermill": {
     "duration": 0.026692,
     "end_time": "2023-03-02T20:35:49.473240",
     "exception": false,
     "start_time": "2023-03-02T20:35:49.446548",
     "status": "completed"
    },
    "tags": []
   },
   "outputs": [],
   "source": [
    "X_train, X_test, y_train, y_test = train_test_split(train, label, test_size=0.3)"
   ]
  },
  {
   "cell_type": "code",
   "execution_count": 28,
   "id": "43bf8134",
   "metadata": {
    "execution": {
     "iopub.execute_input": "2023-03-02T20:35:49.508736Z",
     "iopub.status.busy": "2023-03-02T20:35:49.507981Z",
     "iopub.status.idle": "2023-03-02T20:35:49.518045Z",
     "shell.execute_reply": "2023-03-02T20:35:49.517219Z"
    },
    "papermill": {
     "duration": 0.030144,
     "end_time": "2023-03-02T20:35:49.520111",
     "exception": false,
     "start_time": "2023-03-02T20:35:49.489967",
     "status": "completed"
    },
    "tags": []
   },
   "outputs": [],
   "source": [
    "scaler = StandardScaler()\n",
    "minmax_scaler = MinMaxScaler()\n",
    "X_train_s = scaler.fit_transform(X_train)\n",
    "X_test_s = scaler.transform(X_test)"
   ]
  },
  {
   "cell_type": "code",
   "execution_count": 29,
   "id": "3b8bffa6",
   "metadata": {
    "execution": {
     "iopub.execute_input": "2023-03-02T20:35:49.556433Z",
     "iopub.status.busy": "2023-03-02T20:35:49.555601Z",
     "iopub.status.idle": "2023-03-02T20:35:51.046019Z",
     "shell.execute_reply": "2023-03-02T20:35:51.044526Z"
    },
    "papermill": {
     "duration": 1.512819,
     "end_time": "2023-03-02T20:35:51.049578",
     "exception": false,
     "start_time": "2023-03-02T20:35:49.536759",
     "status": "completed"
    },
    "tags": []
   },
   "outputs": [
    {
     "name": "stderr",
     "output_type": "stream",
     "text": [
      "100%|██████████| 29/29 [00:01<00:00, 19.69it/s]\n"
     ]
    }
   ],
   "source": [
    "reg = LazyClassifier(verbose=0,ignore_warnings=True, custom_metric=None)\n",
    "models, predictions = reg.fit(X_train_s, X_test_s, y_train, y_test)"
   ]
  },
  {
   "cell_type": "code",
   "execution_count": 30,
   "id": "4e788f20",
   "metadata": {
    "execution": {
     "iopub.execute_input": "2023-03-02T20:35:51.094338Z",
     "iopub.status.busy": "2023-03-02T20:35:51.094000Z",
     "iopub.status.idle": "2023-03-02T20:35:51.107845Z",
     "shell.execute_reply": "2023-03-02T20:35:51.106837Z"
    },
    "papermill": {
     "duration": 0.038172,
     "end_time": "2023-03-02T20:35:51.110017",
     "exception": false,
     "start_time": "2023-03-02T20:35:51.071845",
     "status": "completed"
    },
    "tags": []
   },
   "outputs": [
    {
     "data": {
      "text/html": [
       "<div>\n",
       "<style scoped>\n",
       "    .dataframe tbody tr th:only-of-type {\n",
       "        vertical-align: middle;\n",
       "    }\n",
       "\n",
       "    .dataframe tbody tr th {\n",
       "        vertical-align: top;\n",
       "    }\n",
       "\n",
       "    .dataframe thead th {\n",
       "        text-align: right;\n",
       "    }\n",
       "</style>\n",
       "<table border=\"1\" class=\"dataframe\">\n",
       "  <thead>\n",
       "    <tr style=\"text-align: right;\">\n",
       "      <th></th>\n",
       "      <th>Accuracy</th>\n",
       "      <th>Balanced Accuracy</th>\n",
       "      <th>ROC AUC</th>\n",
       "      <th>F1 Score</th>\n",
       "      <th>Time Taken</th>\n",
       "    </tr>\n",
       "    <tr>\n",
       "      <th>Model</th>\n",
       "      <th></th>\n",
       "      <th></th>\n",
       "      <th></th>\n",
       "      <th></th>\n",
       "      <th></th>\n",
       "    </tr>\n",
       "  </thead>\n",
       "  <tbody>\n",
       "    <tr>\n",
       "      <th>DecisionTreeClassifier</th>\n",
       "      <td>0.82</td>\n",
       "      <td>0.78</td>\n",
       "      <td>0.78</td>\n",
       "      <td>0.81</td>\n",
       "      <td>0.01</td>\n",
       "    </tr>\n",
       "    <tr>\n",
       "      <th>RandomForestClassifier</th>\n",
       "      <td>0.81</td>\n",
       "      <td>0.78</td>\n",
       "      <td>0.78</td>\n",
       "      <td>0.80</td>\n",
       "      <td>0.20</td>\n",
       "    </tr>\n",
       "    <tr>\n",
       "      <th>ExtraTreeClassifier</th>\n",
       "      <td>0.80</td>\n",
       "      <td>0.78</td>\n",
       "      <td>0.78</td>\n",
       "      <td>0.80</td>\n",
       "      <td>0.01</td>\n",
       "    </tr>\n",
       "    <tr>\n",
       "      <th>BaggingClassifier</th>\n",
       "      <td>0.81</td>\n",
       "      <td>0.77</td>\n",
       "      <td>0.77</td>\n",
       "      <td>0.80</td>\n",
       "      <td>0.04</td>\n",
       "    </tr>\n",
       "    <tr>\n",
       "      <th>AdaBoostClassifier</th>\n",
       "      <td>0.80</td>\n",
       "      <td>0.77</td>\n",
       "      <td>0.77</td>\n",
       "      <td>0.80</td>\n",
       "      <td>0.12</td>\n",
       "    </tr>\n",
       "    <tr>\n",
       "      <th>SVC</th>\n",
       "      <td>0.80</td>\n",
       "      <td>0.77</td>\n",
       "      <td>0.77</td>\n",
       "      <td>0.80</td>\n",
       "      <td>0.03</td>\n",
       "    </tr>\n",
       "    <tr>\n",
       "      <th>NuSVC</th>\n",
       "      <td>0.79</td>\n",
       "      <td>0.76</td>\n",
       "      <td>0.76</td>\n",
       "      <td>0.79</td>\n",
       "      <td>0.04</td>\n",
       "    </tr>\n",
       "    <tr>\n",
       "      <th>LogisticRegression</th>\n",
       "      <td>0.79</td>\n",
       "      <td>0.76</td>\n",
       "      <td>0.76</td>\n",
       "      <td>0.79</td>\n",
       "      <td>0.02</td>\n",
       "    </tr>\n",
       "    <tr>\n",
       "      <th>LGBMClassifier</th>\n",
       "      <td>0.79</td>\n",
       "      <td>0.76</td>\n",
       "      <td>0.76</td>\n",
       "      <td>0.79</td>\n",
       "      <td>0.11</td>\n",
       "    </tr>\n",
       "    <tr>\n",
       "      <th>LinearSVC</th>\n",
       "      <td>0.79</td>\n",
       "      <td>0.75</td>\n",
       "      <td>0.75</td>\n",
       "      <td>0.79</td>\n",
       "      <td>0.09</td>\n",
       "    </tr>\n",
       "    <tr>\n",
       "      <th>RidgeClassifierCV</th>\n",
       "      <td>0.79</td>\n",
       "      <td>0.75</td>\n",
       "      <td>0.75</td>\n",
       "      <td>0.78</td>\n",
       "      <td>0.01</td>\n",
       "    </tr>\n",
       "    <tr>\n",
       "      <th>LinearDiscriminantAnalysis</th>\n",
       "      <td>0.79</td>\n",
       "      <td>0.75</td>\n",
       "      <td>0.75</td>\n",
       "      <td>0.78</td>\n",
       "      <td>0.03</td>\n",
       "    </tr>\n",
       "    <tr>\n",
       "      <th>RidgeClassifier</th>\n",
       "      <td>0.79</td>\n",
       "      <td>0.75</td>\n",
       "      <td>0.75</td>\n",
       "      <td>0.78</td>\n",
       "      <td>0.02</td>\n",
       "    </tr>\n",
       "    <tr>\n",
       "      <th>CalibratedClassifierCV</th>\n",
       "      <td>0.79</td>\n",
       "      <td>0.75</td>\n",
       "      <td>0.75</td>\n",
       "      <td>0.78</td>\n",
       "      <td>0.16</td>\n",
       "    </tr>\n",
       "    <tr>\n",
       "      <th>XGBClassifier</th>\n",
       "      <td>0.78</td>\n",
       "      <td>0.75</td>\n",
       "      <td>0.75</td>\n",
       "      <td>0.78</td>\n",
       "      <td>0.22</td>\n",
       "    </tr>\n",
       "    <tr>\n",
       "      <th>LabelSpreading</th>\n",
       "      <td>0.78</td>\n",
       "      <td>0.74</td>\n",
       "      <td>0.74</td>\n",
       "      <td>0.78</td>\n",
       "      <td>0.05</td>\n",
       "    </tr>\n",
       "    <tr>\n",
       "      <th>QuadraticDiscriminantAnalysis</th>\n",
       "      <td>0.78</td>\n",
       "      <td>0.74</td>\n",
       "      <td>0.74</td>\n",
       "      <td>0.77</td>\n",
       "      <td>0.01</td>\n",
       "    </tr>\n",
       "    <tr>\n",
       "      <th>ExtraTreesClassifier</th>\n",
       "      <td>0.77</td>\n",
       "      <td>0.73</td>\n",
       "      <td>0.73</td>\n",
       "      <td>0.77</td>\n",
       "      <td>0.16</td>\n",
       "    </tr>\n",
       "    <tr>\n",
       "      <th>KNeighborsClassifier</th>\n",
       "      <td>0.77</td>\n",
       "      <td>0.73</td>\n",
       "      <td>0.73</td>\n",
       "      <td>0.77</td>\n",
       "      <td>0.02</td>\n",
       "    </tr>\n",
       "    <tr>\n",
       "      <th>PassiveAggressiveClassifier</th>\n",
       "      <td>0.73</td>\n",
       "      <td>0.73</td>\n",
       "      <td>0.73</td>\n",
       "      <td>0.74</td>\n",
       "      <td>0.01</td>\n",
       "    </tr>\n",
       "    <tr>\n",
       "      <th>LabelPropagation</th>\n",
       "      <td>0.77</td>\n",
       "      <td>0.73</td>\n",
       "      <td>0.73</td>\n",
       "      <td>0.77</td>\n",
       "      <td>0.03</td>\n",
       "    </tr>\n",
       "    <tr>\n",
       "      <th>NearestCentroid</th>\n",
       "      <td>0.76</td>\n",
       "      <td>0.72</td>\n",
       "      <td>0.72</td>\n",
       "      <td>0.75</td>\n",
       "      <td>0.01</td>\n",
       "    </tr>\n",
       "    <tr>\n",
       "      <th>Perceptron</th>\n",
       "      <td>0.69</td>\n",
       "      <td>0.71</td>\n",
       "      <td>0.71</td>\n",
       "      <td>0.69</td>\n",
       "      <td>0.01</td>\n",
       "    </tr>\n",
       "    <tr>\n",
       "      <th>BernoulliNB</th>\n",
       "      <td>0.73</td>\n",
       "      <td>0.70</td>\n",
       "      <td>0.70</td>\n",
       "      <td>0.73</td>\n",
       "      <td>0.01</td>\n",
       "    </tr>\n",
       "    <tr>\n",
       "      <th>SGDClassifier</th>\n",
       "      <td>0.72</td>\n",
       "      <td>0.69</td>\n",
       "      <td>0.69</td>\n",
       "      <td>0.72</td>\n",
       "      <td>0.01</td>\n",
       "    </tr>\n",
       "    <tr>\n",
       "      <th>GaussianNB</th>\n",
       "      <td>0.74</td>\n",
       "      <td>0.68</td>\n",
       "      <td>0.68</td>\n",
       "      <td>0.73</td>\n",
       "      <td>0.01</td>\n",
       "    </tr>\n",
       "    <tr>\n",
       "      <th>DummyClassifier</th>\n",
       "      <td>0.65</td>\n",
       "      <td>0.50</td>\n",
       "      <td>0.50</td>\n",
       "      <td>0.51</td>\n",
       "      <td>0.01</td>\n",
       "    </tr>\n",
       "  </tbody>\n",
       "</table>\n",
       "</div>"
      ],
      "text/plain": [
       "                               Accuracy  Balanced Accuracy  ROC AUC  F1 Score  \\\n",
       "Model                                                                           \n",
       "DecisionTreeClassifier             0.82               0.78     0.78      0.81   \n",
       "RandomForestClassifier             0.81               0.78     0.78      0.80   \n",
       "ExtraTreeClassifier                0.80               0.78     0.78      0.80   \n",
       "BaggingClassifier                  0.81               0.77     0.77      0.80   \n",
       "AdaBoostClassifier                 0.80               0.77     0.77      0.80   \n",
       "SVC                                0.80               0.77     0.77      0.80   \n",
       "NuSVC                              0.79               0.76     0.76      0.79   \n",
       "LogisticRegression                 0.79               0.76     0.76      0.79   \n",
       "LGBMClassifier                     0.79               0.76     0.76      0.79   \n",
       "LinearSVC                          0.79               0.75     0.75      0.79   \n",
       "RidgeClassifierCV                  0.79               0.75     0.75      0.78   \n",
       "LinearDiscriminantAnalysis         0.79               0.75     0.75      0.78   \n",
       "RidgeClassifier                    0.79               0.75     0.75      0.78   \n",
       "CalibratedClassifierCV             0.79               0.75     0.75      0.78   \n",
       "XGBClassifier                      0.78               0.75     0.75      0.78   \n",
       "LabelSpreading                     0.78               0.74     0.74      0.78   \n",
       "QuadraticDiscriminantAnalysis      0.78               0.74     0.74      0.77   \n",
       "ExtraTreesClassifier               0.77               0.73     0.73      0.77   \n",
       "KNeighborsClassifier               0.77               0.73     0.73      0.77   \n",
       "PassiveAggressiveClassifier        0.73               0.73     0.73      0.74   \n",
       "LabelPropagation                   0.77               0.73     0.73      0.77   \n",
       "NearestCentroid                    0.76               0.72     0.72      0.75   \n",
       "Perceptron                         0.69               0.71     0.71      0.69   \n",
       "BernoulliNB                        0.73               0.70     0.70      0.73   \n",
       "SGDClassifier                      0.72               0.69     0.69      0.72   \n",
       "GaussianNB                         0.74               0.68     0.68      0.73   \n",
       "DummyClassifier                    0.65               0.50     0.50      0.51   \n",
       "\n",
       "                               Time Taken  \n",
       "Model                                      \n",
       "DecisionTreeClassifier               0.01  \n",
       "RandomForestClassifier               0.20  \n",
       "ExtraTreeClassifier                  0.01  \n",
       "BaggingClassifier                    0.04  \n",
       "AdaBoostClassifier                   0.12  \n",
       "SVC                                  0.03  \n",
       "NuSVC                                0.04  \n",
       "LogisticRegression                   0.02  \n",
       "LGBMClassifier                       0.11  \n",
       "LinearSVC                            0.09  \n",
       "RidgeClassifierCV                    0.01  \n",
       "LinearDiscriminantAnalysis           0.03  \n",
       "RidgeClassifier                      0.02  \n",
       "CalibratedClassifierCV               0.16  \n",
       "XGBClassifier                        0.22  \n",
       "LabelSpreading                       0.05  \n",
       "QuadraticDiscriminantAnalysis        0.01  \n",
       "ExtraTreesClassifier                 0.16  \n",
       "KNeighborsClassifier                 0.02  \n",
       "PassiveAggressiveClassifier          0.01  \n",
       "LabelPropagation                     0.03  \n",
       "NearestCentroid                      0.01  \n",
       "Perceptron                           0.01  \n",
       "BernoulliNB                          0.01  \n",
       "SGDClassifier                        0.01  \n",
       "GaussianNB                           0.01  \n",
       "DummyClassifier                      0.01  "
      ]
     },
     "execution_count": 30,
     "metadata": {},
     "output_type": "execute_result"
    }
   ],
   "source": [
    "models"
   ]
  },
  {
   "cell_type": "markdown",
   "id": "c58fd2f9",
   "metadata": {
    "papermill": {
     "duration": 0.01833,
     "end_time": "2023-03-02T20:35:51.147770",
     "exception": false,
     "start_time": "2023-03-02T20:35:51.129440",
     "status": "completed"
    },
    "tags": []
   },
   "source": [
    "# DNN"
   ]
  },
  {
   "cell_type": "code",
   "execution_count": 31,
   "id": "3b70b8b7",
   "metadata": {
    "execution": {
     "iopub.execute_input": "2023-03-02T20:35:51.187391Z",
     "iopub.status.busy": "2023-03-02T20:35:51.186773Z",
     "iopub.status.idle": "2023-03-02T20:35:51.191384Z",
     "shell.execute_reply": "2023-03-02T20:35:51.190375Z"
    },
    "papermill": {
     "duration": 0.026751,
     "end_time": "2023-03-02T20:35:51.193456",
     "exception": false,
     "start_time": "2023-03-02T20:35:51.166705",
     "status": "completed"
    },
    "tags": []
   },
   "outputs": [],
   "source": [
    "import tensorflow as tf\n",
    "from tensorflow import keras"
   ]
  },
  {
   "cell_type": "code",
   "execution_count": 32,
   "id": "500fb926",
   "metadata": {
    "execution": {
     "iopub.execute_input": "2023-03-02T20:35:51.231794Z",
     "iopub.status.busy": "2023-03-02T20:35:51.230983Z",
     "iopub.status.idle": "2023-03-02T20:35:55.704365Z",
     "shell.execute_reply": "2023-03-02T20:35:55.703326Z"
    },
    "papermill": {
     "duration": 4.495232,
     "end_time": "2023-03-02T20:35:55.707053",
     "exception": false,
     "start_time": "2023-03-02T20:35:51.211821",
     "status": "completed"
    },
    "tags": []
   },
   "outputs": [],
   "source": [
    "keras_model = keras.models.Sequential([\n",
    "    \n",
    "    keras.layers.Input(shape=[12]),\n",
    "    keras.layers.Dense(32, activation=\"relu\"),\n",
    "    keras.layers.Dense(16, activation=\"relu\"),      \n",
    "    keras.layers.Dense(8, activation=\"relu\"),     \n",
    "    keras.layers.Dense(1, activation=\"sigmoid\")\n",
    "])"
   ]
  },
  {
   "cell_type": "code",
   "execution_count": 33,
   "id": "55837dab",
   "metadata": {
    "execution": {
     "iopub.execute_input": "2023-03-02T20:35:55.746937Z",
     "iopub.status.busy": "2023-03-02T20:35:55.746244Z",
     "iopub.status.idle": "2023-03-02T20:35:55.769321Z",
     "shell.execute_reply": "2023-03-02T20:35:55.768356Z"
    },
    "papermill": {
     "duration": 0.053848,
     "end_time": "2023-03-02T20:35:55.780332",
     "exception": false,
     "start_time": "2023-03-02T20:35:55.726484",
     "status": "completed"
    },
    "tags": []
   },
   "outputs": [
    {
     "name": "stdout",
     "output_type": "stream",
     "text": [
      "Model: \"sequential\"\n",
      "_________________________________________________________________\n",
      " Layer (type)                Output Shape              Param #   \n",
      "=================================================================\n",
      " dense (Dense)               (None, 32)                416       \n",
      "                                                                 \n",
      " dense_1 (Dense)             (None, 16)                528       \n",
      "                                                                 \n",
      " dense_2 (Dense)             (None, 8)                 136       \n",
      "                                                                 \n",
      " dense_3 (Dense)             (None, 1)                 9         \n",
      "                                                                 \n",
      "=================================================================\n",
      "Total params: 1,089\n",
      "Trainable params: 1,089\n",
      "Non-trainable params: 0\n",
      "_________________________________________________________________\n"
     ]
    }
   ],
   "source": [
    "keras_model.summary()"
   ]
  },
  {
   "cell_type": "code",
   "execution_count": 34,
   "id": "cee5aad8",
   "metadata": {
    "execution": {
     "iopub.execute_input": "2023-03-02T20:35:55.820994Z",
     "iopub.status.busy": "2023-03-02T20:35:55.820632Z",
     "iopub.status.idle": "2023-03-02T20:35:55.835355Z",
     "shell.execute_reply": "2023-03-02T20:35:55.834499Z"
    },
    "papermill": {
     "duration": 0.037264,
     "end_time": "2023-03-02T20:35:55.837462",
     "exception": false,
     "start_time": "2023-03-02T20:35:55.800198",
     "status": "completed"
    },
    "tags": []
   },
   "outputs": [],
   "source": [
    "keras_model.compile(\n",
    "        optimizer=tf.keras.optimizers.RMSprop(),\n",
    "        loss=\"binary_crossentropy\",\n",
    "        metrics=[\"accuracy\"]\n",
    "    )"
   ]
  },
  {
   "cell_type": "code",
   "execution_count": 35,
   "id": "4b649da2",
   "metadata": {
    "execution": {
     "iopub.execute_input": "2023-03-02T20:35:55.877269Z",
     "iopub.status.busy": "2023-03-02T20:35:55.877004Z",
     "iopub.status.idle": "2023-03-02T20:35:59.596269Z",
     "shell.execute_reply": "2023-03-02T20:35:59.595074Z"
    },
    "papermill": {
     "duration": 3.741905,
     "end_time": "2023-03-02T20:35:59.598728",
     "exception": false,
     "start_time": "2023-03-02T20:35:55.856823",
     "status": "completed"
    },
    "tags": []
   },
   "outputs": [
    {
     "name": "stdout",
     "output_type": "stream",
     "text": [
      "Epoch 1/4\n",
      "16/16 [==============================] - 3s 30ms/step - loss: 0.6970 - accuracy: 0.5412 - val_loss: 0.6779 - val_accuracy: 0.6320\n",
      "Epoch 2/4\n",
      "16/16 [==============================] - 0s 5ms/step - loss: 0.6655 - accuracy: 0.7042 - val_loss: 0.6586 - val_accuracy: 0.7520\n",
      "Epoch 3/4\n",
      "16/16 [==============================] - 0s 6ms/step - loss: 0.6411 - accuracy: 0.7666 - val_loss: 0.6385 - val_accuracy: 0.7840\n",
      "Epoch 4/4\n",
      "16/16 [==============================] - 0s 5ms/step - loss: 0.6164 - accuracy: 0.7887 - val_loss: 0.6152 - val_accuracy: 0.7920\n"
     ]
    }
   ],
   "source": [
    "hist = keras_model.fit(X_train_s, y_train, \n",
    "                       validation_split=0.2,\n",
    "                       epochs=4)"
   ]
  },
  {
   "cell_type": "code",
   "execution_count": 36,
   "id": "f17b83dd",
   "metadata": {
    "execution": {
     "iopub.execute_input": "2023-03-02T20:35:59.642198Z",
     "iopub.status.busy": "2023-03-02T20:35:59.641456Z",
     "iopub.status.idle": "2023-03-02T20:36:00.005854Z",
     "shell.execute_reply": "2023-03-02T20:36:00.004835Z"
    },
    "papermill": {
     "duration": 0.387833,
     "end_time": "2023-03-02T20:36:00.008202",
     "exception": false,
     "start_time": "2023-03-02T20:35:59.620369",
     "status": "completed"
    },
    "tags": []
   },
   "outputs": [
    {
     "data": {
      "text/plain": [
       "<AxesSubplot:>"
      ]
     },
     "execution_count": 36,
     "metadata": {},
     "output_type": "execute_result"
    },
    {
     "data": {
      "image/png": "[encoded data removed]",
      "text/plain": [
       "<Figure size 1200x600 with 1 Axes>"
      ]
     },
     "metadata": {},
     "output_type": "display_data"
    }
   ],
   "source": [
    "pd.DataFrame(hist.history).plot(figsize=PLOT_SIZE)"
   ]
  },
  {
   "cell_type": "code",
   "execution_count": 37,
   "id": "fd91b6e6",
   "metadata": {
    "execution": {
     "iopub.execute_input": "2023-03-02T20:36:00.052726Z",
     "iopub.status.busy": "2023-03-02T20:36:00.051905Z",
     "iopub.status.idle": "2023-03-02T20:36:00.131346Z",
     "shell.execute_reply": "2023-03-02T20:36:00.130021Z"
    },
    "papermill": {
     "duration": 0.10356,
     "end_time": "2023-03-02T20:36:00.133566",
     "exception": false,
     "start_time": "2023-03-02T20:36:00.030006",
     "status": "completed"
    },
    "tags": []
   },
   "outputs": [
    {
     "name": "stdout",
     "output_type": "stream",
     "text": [
      "9/9 [==============================] - 0s 3ms/step - loss: 0.6302 - accuracy: 0.7678\n"
     ]
    },
    {
     "data": {
      "text/plain": [
       "[0.6302106976509094, 0.7677902579307556]"
      ]
     },
     "execution_count": 37,
     "metadata": {},
     "output_type": "execute_result"
    }
   ],
   "source": [
    "keras_model.evaluate(X_test_s, y_test)"
   ]
  },
  {
   "cell_type": "markdown",
   "id": "f5c9ce59",
   "metadata": {
    "papermill": {
     "duration": 0.020534,
     "end_time": "2023-03-02T20:36:00.174783",
     "exception": false,
     "start_time": "2023-03-02T20:36:00.154249",
     "status": "completed"
    },
    "tags": []
   },
   "source": [
    "## Overfitting"
   ]
  },
  {
   "cell_type": "code",
   "execution_count": 38,
   "id": "496a4ea8",
   "metadata": {
    "execution": {
     "iopub.execute_input": "2023-03-02T20:36:00.217838Z",
     "iopub.status.busy": "2023-03-02T20:36:00.217550Z",
     "iopub.status.idle": "2023-03-02T20:37:22.786694Z",
     "shell.execute_reply": "2023-03-02T20:37:22.785434Z"
    },
    "papermill": {
     "duration": 82.593735,
     "end_time": "2023-03-02T20:37:22.789424",
     "exception": false,
     "start_time": "2023-03-02T20:36:00.195689",
     "status": "completed"
    },
    "tags": []
   },
   "outputs": [
    {
     "name": "stdout",
     "output_type": "stream",
     "text": [
      "Epoch 1/500\n",
      "16/16 [==============================] - 1s 14ms/step - loss: 0.7114 - accuracy: 0.6097 - val_loss: 0.6613 - val_accuracy: 0.5760\n",
      "Epoch 2/500\n",
      "16/16 [==============================] - 0s 6ms/step - loss: 0.6325 - accuracy: 0.6097 - val_loss: 0.6176 - val_accuracy: 0.5760\n",
      "Epoch 3/500\n",
      "16/16 [==============================] - 0s 5ms/step - loss: 0.5889 - accuracy: 0.6137 - val_loss: 0.5886 - val_accuracy: 0.5760\n",
      "Epoch 4/500\n",
      "16/16 [==============================] - 0s 6ms/step - loss: 0.5573 - accuracy: 0.6378 - val_loss: 0.5640 - val_accuracy: 0.6000\n",
      "Epoch 5/500\n",
      "16/16 [==============================] - 0s 5ms/step - loss: 0.5333 - accuracy: 0.6680 - val_loss: 0.5462 - val_accuracy: 0.6720\n",
      "Epoch 6/500\n",
      "16/16 [==============================] - 0s 5ms/step - loss: 0.5146 - accuracy: 0.7203 - val_loss: 0.5345 - val_accuracy: 0.7280\n",
      "Epoch 7/500\n",
      "16/16 [==============================] - 0s 5ms/step - loss: 0.4977 - accuracy: 0.7887 - val_loss: 0.5246 - val_accuracy: 0.7840\n",
      "Epoch 8/500\n",
      "16/16 [==============================] - 0s 5ms/step - loss: 0.4828 - accuracy: 0.8189 - val_loss: 0.5135 - val_accuracy: 0.7920\n",
      "Epoch 9/500\n",
      "16/16 [==============================] - 0s 5ms/step - loss: 0.4687 - accuracy: 0.8330 - val_loss: 0.5065 - val_accuracy: 0.8080\n",
      "Epoch 10/500\n",
      "16/16 [==============================] - 0s 5ms/step - loss: 0.4535 - accuracy: 0.8310 - val_loss: 0.4940 - val_accuracy: 0.7920\n",
      "Epoch 11/500\n",
      "16/16 [==============================] - 0s 6ms/step - loss: 0.4386 - accuracy: 0.8350 - val_loss: 0.4844 - val_accuracy: 0.8080\n",
      "Epoch 12/500\n",
      "16/16 [==============================] - 0s 5ms/step - loss: 0.4257 - accuracy: 0.8370 - val_loss: 0.4757 - val_accuracy: 0.7920\n",
      "Epoch 13/500\n",
      "16/16 [==============================] - 0s 5ms/step - loss: 0.4136 - accuracy: 0.8310 - val_loss: 0.4662 - val_accuracy: 0.8000\n",
      "Epoch 14/500\n",
      "16/16 [==============================] - 0s 6ms/step - loss: 0.4039 - accuracy: 0.8370 - val_loss: 0.4600 - val_accuracy: 0.8160\n",
      "Epoch 15/500\n",
      "16/16 [==============================] - 0s 5ms/step - loss: 0.3946 - accuracy: 0.8330 - val_loss: 0.4540 - val_accuracy: 0.8160\n",
      "Epoch 16/500\n",
      "16/16 [==============================] - 0s 5ms/step - loss: 0.3877 - accuracy: 0.8390 - val_loss: 0.4461 - val_accuracy: 0.8160\n",
      "Epoch 17/500\n",
      "16/16 [==============================] - 0s 6ms/step - loss: 0.3799 - accuracy: 0.8451 - val_loss: 0.4400 - val_accuracy: 0.8000\n",
      "Epoch 18/500\n",
      "16/16 [==============================] - 0s 5ms/step - loss: 0.3733 - accuracy: 0.8491 - val_loss: 0.4340 - val_accuracy: 0.8000\n",
      "Epoch 19/500\n",
      "16/16 [==============================] - 0s 5ms/step - loss: 0.3686 - accuracy: 0.8471 - val_loss: 0.4286 - val_accuracy: 0.8080\n",
      "Epoch 20/500\n",
      "16/16 [==============================] - 0s 5ms/step - loss: 0.3643 - accuracy: 0.8531 - val_loss: 0.4203 - val_accuracy: 0.8160\n",
      "Epoch 21/500\n",
      "16/16 [==============================] - 0s 6ms/step - loss: 0.3596 - accuracy: 0.8571 - val_loss: 0.4237 - val_accuracy: 0.8080\n",
      "Epoch 22/500\n",
      "16/16 [==============================] - 0s 5ms/step - loss: 0.3557 - accuracy: 0.8551 - val_loss: 0.4118 - val_accuracy: 0.8240\n",
      "Epoch 23/500\n",
      "16/16 [==============================] - 0s 6ms/step - loss: 0.3514 - accuracy: 0.8571 - val_loss: 0.4099 - val_accuracy: 0.8160\n",
      "Epoch 24/500\n",
      "16/16 [==============================] - 0s 5ms/step - loss: 0.3479 - accuracy: 0.8531 - val_loss: 0.4110 - val_accuracy: 0.8240\n",
      "Epoch 25/500\n",
      "16/16 [==============================] - 0s 5ms/step - loss: 0.3462 - accuracy: 0.8612 - val_loss: 0.4086 - val_accuracy: 0.8240\n",
      "Epoch 26/500\n",
      "16/16 [==============================] - 0s 5ms/step - loss: 0.3430 - accuracy: 0.8632 - val_loss: 0.4138 - val_accuracy: 0.8080\n",
      "Epoch 27/500\n",
      "16/16 [==============================] - 0s 5ms/step - loss: 0.3403 - accuracy: 0.8612 - val_loss: 0.4093 - val_accuracy: 0.8320\n",
      "Epoch 28/500\n",
      "16/16 [==============================] - 0s 5ms/step - loss: 0.3383 - accuracy: 0.8592 - val_loss: 0.4071 - val_accuracy: 0.8320\n",
      "Epoch 29/500\n",
      "16/16 [==============================] - 0s 6ms/step - loss: 0.3362 - accuracy: 0.8632 - val_loss: 0.4073 - val_accuracy: 0.8080\n",
      "Epoch 30/500\n",
      "16/16 [==============================] - 0s 5ms/step - loss: 0.3328 - accuracy: 0.8652 - val_loss: 0.4050 - val_accuracy: 0.8080\n",
      "Epoch 31/500\n",
      "16/16 [==============================] - 0s 5ms/step - loss: 0.3314 - accuracy: 0.8632 - val_loss: 0.4114 - val_accuracy: 0.7920\n",
      "Epoch 32/500\n",
      "16/16 [==============================] - 0s 5ms/step - loss: 0.3295 - accuracy: 0.8652 - val_loss: 0.4044 - val_accuracy: 0.8080\n",
      "Epoch 33/500\n",
      "16/16 [==============================] - 0s 6ms/step - loss: 0.3278 - accuracy: 0.8692 - val_loss: 0.4067 - val_accuracy: 0.7920\n",
      "Epoch 34/500\n",
      "16/16 [==============================] - 0s 5ms/step - loss: 0.3265 - accuracy: 0.8672 - val_loss: 0.4139 - val_accuracy: 0.7760\n",
      "Epoch 35/500\n",
      "16/16 [==============================] - 0s 5ms/step - loss: 0.3245 - accuracy: 0.8753 - val_loss: 0.4059 - val_accuracy: 0.7680\n",
      "Epoch 36/500\n",
      "16/16 [==============================] - 0s 6ms/step - loss: 0.3243 - accuracy: 0.8652 - val_loss: 0.4100 - val_accuracy: 0.7920\n",
      "Epoch 37/500\n",
      "16/16 [==============================] - 0s 5ms/step - loss: 0.3215 - accuracy: 0.8712 - val_loss: 0.4098 - val_accuracy: 0.7760\n",
      "Epoch 38/500\n",
      "16/16 [==============================] - 0s 6ms/step - loss: 0.3200 - accuracy: 0.8732 - val_loss: 0.4136 - val_accuracy: 0.8160\n",
      "Epoch 39/500\n",
      "16/16 [==============================] - 0s 6ms/step - loss: 0.3182 - accuracy: 0.8672 - val_loss: 0.4014 - val_accuracy: 0.8080\n",
      "Epoch 40/500\n",
      "16/16 [==============================] - 0s 5ms/step - loss: 0.3179 - accuracy: 0.8672 - val_loss: 0.4007 - val_accuracy: 0.8080\n",
      "Epoch 41/500\n",
      "16/16 [==============================] - 0s 5ms/step - loss: 0.3159 - accuracy: 0.8692 - val_loss: 0.4134 - val_accuracy: 0.8320\n",
      "Epoch 42/500\n",
      "16/16 [==============================] - 0s 5ms/step - loss: 0.3147 - accuracy: 0.8712 - val_loss: 0.4149 - val_accuracy: 0.7920\n",
      "Epoch 43/500\n",
      "16/16 [==============================] - 0s 5ms/step - loss: 0.3137 - accuracy: 0.8712 - val_loss: 0.4106 - val_accuracy: 0.8080\n",
      "Epoch 44/500\n",
      "16/16 [==============================] - 0s 6ms/step - loss: 0.3116 - accuracy: 0.8692 - val_loss: 0.4132 - val_accuracy: 0.8000\n",
      "Epoch 45/500\n",
      "16/16 [==============================] - 0s 5ms/step - loss: 0.3101 - accuracy: 0.8753 - val_loss: 0.4170 - val_accuracy: 0.8240\n",
      "Epoch 46/500\n",
      "16/16 [==============================] - 0s 5ms/step - loss: 0.3105 - accuracy: 0.8732 - val_loss: 0.4289 - val_accuracy: 0.8080\n",
      "Epoch 47/500\n",
      "16/16 [==============================] - 0s 5ms/step - loss: 0.3090 - accuracy: 0.8692 - val_loss: 0.4205 - val_accuracy: 0.8160\n",
      "Epoch 48/500\n",
      "16/16 [==============================] - 0s 5ms/step - loss: 0.3085 - accuracy: 0.8753 - val_loss: 0.4205 - val_accuracy: 0.8400\n",
      "Epoch 49/500\n",
      "16/16 [==============================] - 0s 5ms/step - loss: 0.3064 - accuracy: 0.8672 - val_loss: 0.4145 - val_accuracy: 0.8400\n",
      "Epoch 50/500\n",
      "16/16 [==============================] - 0s 5ms/step - loss: 0.3071 - accuracy: 0.8753 - val_loss: 0.4254 - val_accuracy: 0.8240\n",
      "Epoch 51/500\n",
      "16/16 [==============================] - 0s 6ms/step - loss: 0.3037 - accuracy: 0.8813 - val_loss: 0.4181 - val_accuracy: 0.8320\n",
      "Epoch 52/500\n",
      "16/16 [==============================] - 0s 6ms/step - loss: 0.3048 - accuracy: 0.8753 - val_loss: 0.4221 - val_accuracy: 0.8160\n",
      "Epoch 53/500\n",
      "16/16 [==============================] - 0s 5ms/step - loss: 0.3013 - accuracy: 0.8793 - val_loss: 0.4257 - val_accuracy: 0.8160\n",
      "Epoch 54/500\n",
      "16/16 [==============================] - 0s 6ms/step - loss: 0.3026 - accuracy: 0.8793 - val_loss: 0.4206 - val_accuracy: 0.8000\n",
      "Epoch 55/500\n",
      "16/16 [==============================] - 0s 5ms/step - loss: 0.2998 - accuracy: 0.8773 - val_loss: 0.4248 - val_accuracy: 0.8400\n",
      "Epoch 56/500\n",
      "16/16 [==============================] - 0s 5ms/step - loss: 0.3008 - accuracy: 0.8793 - val_loss: 0.4288 - val_accuracy: 0.8080\n",
      "Epoch 57/500\n",
      "16/16 [==============================] - 0s 6ms/step - loss: 0.2981 - accuracy: 0.8833 - val_loss: 0.4368 - val_accuracy: 0.8080\n",
      "Epoch 58/500\n",
      "16/16 [==============================] - 0s 5ms/step - loss: 0.2988 - accuracy: 0.8712 - val_loss: 0.4313 - val_accuracy: 0.8000\n",
      "Epoch 59/500\n",
      "16/16 [==============================] - 0s 5ms/step - loss: 0.2968 - accuracy: 0.8813 - val_loss: 0.4441 - val_accuracy: 0.8080\n",
      "Epoch 60/500\n",
      "16/16 [==============================] - 0s 5ms/step - loss: 0.2949 - accuracy: 0.8793 - val_loss: 0.4349 - val_accuracy: 0.7920\n",
      "Epoch 61/500\n",
      "16/16 [==============================] - 0s 5ms/step - loss: 0.2953 - accuracy: 0.8773 - val_loss: 0.4339 - val_accuracy: 0.8000\n",
      "Epoch 62/500\n",
      "16/16 [==============================] - 0s 5ms/step - loss: 0.2942 - accuracy: 0.8753 - val_loss: 0.4523 - val_accuracy: 0.8400\n",
      "Epoch 63/500\n",
      "16/16 [==============================] - 0s 6ms/step - loss: 0.2945 - accuracy: 0.8833 - val_loss: 0.4331 - val_accuracy: 0.8080\n",
      "Epoch 64/500\n",
      "16/16 [==============================] - 0s 6ms/step - loss: 0.2911 - accuracy: 0.8813 - val_loss: 0.4512 - val_accuracy: 0.8320\n",
      "Epoch 65/500\n",
      "16/16 [==============================] - 0s 5ms/step - loss: 0.2903 - accuracy: 0.8893 - val_loss: 0.4453 - val_accuracy: 0.8400\n",
      "Epoch 66/500\n",
      "16/16 [==============================] - 0s 5ms/step - loss: 0.2913 - accuracy: 0.8853 - val_loss: 0.4310 - val_accuracy: 0.8320\n",
      "Epoch 67/500\n",
      "16/16 [==============================] - 0s 5ms/step - loss: 0.2889 - accuracy: 0.8873 - val_loss: 0.4581 - val_accuracy: 0.8400\n",
      "Epoch 68/500\n",
      "16/16 [==============================] - 0s 5ms/step - loss: 0.2884 - accuracy: 0.8813 - val_loss: 0.4359 - val_accuracy: 0.8400\n",
      "Epoch 69/500\n",
      "16/16 [==============================] - 0s 5ms/step - loss: 0.2878 - accuracy: 0.8873 - val_loss: 0.4356 - val_accuracy: 0.8400\n",
      "Epoch 70/500\n",
      "16/16 [==============================] - 0s 5ms/step - loss: 0.2856 - accuracy: 0.8873 - val_loss: 0.4455 - val_accuracy: 0.8320\n",
      "Epoch 71/500\n",
      "16/16 [==============================] - 0s 5ms/step - loss: 0.2862 - accuracy: 0.8893 - val_loss: 0.4559 - val_accuracy: 0.8400\n",
      "Epoch 72/500\n",
      "16/16 [==============================] - 0s 5ms/step - loss: 0.2852 - accuracy: 0.8893 - val_loss: 0.4450 - val_accuracy: 0.8160\n",
      "Epoch 73/500\n",
      "16/16 [==============================] - 0s 13ms/step - loss: 0.2844 - accuracy: 0.8913 - val_loss: 0.4375 - val_accuracy: 0.8160\n",
      "Epoch 74/500\n",
      "16/16 [==============================] - 0s 9ms/step - loss: 0.2845 - accuracy: 0.8913 - val_loss: 0.4360 - val_accuracy: 0.8080\n",
      "Epoch 75/500\n",
      "16/16 [==============================] - 0s 8ms/step - loss: 0.2838 - accuracy: 0.8813 - val_loss: 0.4458 - val_accuracy: 0.8320\n",
      "Epoch 76/500\n",
      "16/16 [==============================] - 0s 7ms/step - loss: 0.2826 - accuracy: 0.8954 - val_loss: 0.4461 - val_accuracy: 0.8400\n",
      "Epoch 77/500\n",
      "16/16 [==============================] - 0s 7ms/step - loss: 0.2802 - accuracy: 0.8974 - val_loss: 0.4480 - val_accuracy: 0.8080\n",
      "Epoch 78/500\n",
      "16/16 [==============================] - 0s 5ms/step - loss: 0.2814 - accuracy: 0.8913 - val_loss: 0.4359 - val_accuracy: 0.8080\n",
      "Epoch 79/500\n",
      "16/16 [==============================] - 0s 6ms/step - loss: 0.2804 - accuracy: 0.8954 - val_loss: 0.4666 - val_accuracy: 0.8320\n",
      "Epoch 80/500\n",
      "16/16 [==============================] - 0s 6ms/step - loss: 0.2801 - accuracy: 0.8934 - val_loss: 0.4422 - val_accuracy: 0.8080\n",
      "Epoch 81/500\n",
      "16/16 [==============================] - 0s 5ms/step - loss: 0.2789 - accuracy: 0.8934 - val_loss: 0.4454 - val_accuracy: 0.8400\n",
      "Epoch 82/500\n",
      "16/16 [==============================] - 0s 6ms/step - loss: 0.2775 - accuracy: 0.8913 - val_loss: 0.4456 - val_accuracy: 0.8080\n",
      "Epoch 83/500\n",
      "16/16 [==============================] - 0s 5ms/step - loss: 0.2759 - accuracy: 0.8873 - val_loss: 0.4670 - val_accuracy: 0.8400\n",
      "Epoch 84/500\n",
      "16/16 [==============================] - 0s 6ms/step - loss: 0.2778 - accuracy: 0.8893 - val_loss: 0.4558 - val_accuracy: 0.8320\n",
      "Epoch 85/500\n",
      "16/16 [==============================] - 0s 6ms/step - loss: 0.2768 - accuracy: 0.9014 - val_loss: 0.4592 - val_accuracy: 0.8320\n",
      "Epoch 86/500\n",
      "16/16 [==============================] - 0s 5ms/step - loss: 0.2754 - accuracy: 0.8913 - val_loss: 0.4575 - val_accuracy: 0.8320\n",
      "Epoch 87/500\n",
      "16/16 [==============================] - 0s 5ms/step - loss: 0.2740 - accuracy: 0.8934 - val_loss: 0.4673 - val_accuracy: 0.8400\n",
      "Epoch 88/500\n",
      "16/16 [==============================] - 0s 5ms/step - loss: 0.2746 - accuracy: 0.8934 - val_loss: 0.4473 - val_accuracy: 0.8400\n",
      "Epoch 89/500\n",
      "16/16 [==============================] - 0s 5ms/step - loss: 0.2746 - accuracy: 0.8893 - val_loss: 0.4448 - val_accuracy: 0.8400\n",
      "Epoch 90/500\n",
      "16/16 [==============================] - 0s 6ms/step - loss: 0.2734 - accuracy: 0.8893 - val_loss: 0.4558 - val_accuracy: 0.8400\n",
      "Epoch 91/500\n",
      "16/16 [==============================] - 0s 5ms/step - loss: 0.2718 - accuracy: 0.8913 - val_loss: 0.4454 - val_accuracy: 0.8400\n",
      "Epoch 92/500\n",
      "16/16 [==============================] - 0s 6ms/step - loss: 0.2716 - accuracy: 0.8934 - val_loss: 0.4600 - val_accuracy: 0.8320\n",
      "Epoch 93/500\n",
      "16/16 [==============================] - 0s 5ms/step - loss: 0.2714 - accuracy: 0.8934 - val_loss: 0.4662 - val_accuracy: 0.8480\n",
      "Epoch 94/500\n",
      "16/16 [==============================] - 0s 5ms/step - loss: 0.2720 - accuracy: 0.8954 - val_loss: 0.4570 - val_accuracy: 0.8320\n",
      "Epoch 95/500\n",
      "16/16 [==============================] - 0s 5ms/step - loss: 0.2702 - accuracy: 0.8954 - val_loss: 0.4618 - val_accuracy: 0.8400\n",
      "Epoch 96/500\n",
      "16/16 [==============================] - 0s 6ms/step - loss: 0.2691 - accuracy: 0.8893 - val_loss: 0.4635 - val_accuracy: 0.8400\n",
      "Epoch 97/500\n",
      "16/16 [==============================] - 0s 5ms/step - loss: 0.2706 - accuracy: 0.8994 - val_loss: 0.4517 - val_accuracy: 0.8160\n",
      "Epoch 98/500\n",
      "16/16 [==============================] - 0s 6ms/step - loss: 0.2685 - accuracy: 0.8893 - val_loss: 0.4708 - val_accuracy: 0.8240\n",
      "Epoch 99/500\n",
      "16/16 [==============================] - 0s 6ms/step - loss: 0.2679 - accuracy: 0.8873 - val_loss: 0.4908 - val_accuracy: 0.8240\n",
      "Epoch 100/500\n",
      "16/16 [==============================] - 0s 6ms/step - loss: 0.2659 - accuracy: 0.8974 - val_loss: 0.4704 - val_accuracy: 0.8480\n",
      "Epoch 101/500\n",
      "16/16 [==============================] - 0s 5ms/step - loss: 0.2681 - accuracy: 0.8954 - val_loss: 0.4719 - val_accuracy: 0.8400\n",
      "Epoch 102/500\n",
      "16/16 [==============================] - 0s 5ms/step - loss: 0.2669 - accuracy: 0.8913 - val_loss: 0.4719 - val_accuracy: 0.8400\n",
      "Epoch 103/500\n",
      "16/16 [==============================] - 0s 6ms/step - loss: 0.2660 - accuracy: 0.8913 - val_loss: 0.4715 - val_accuracy: 0.8400\n",
      "Epoch 104/500\n",
      "16/16 [==============================] - 0s 5ms/step - loss: 0.2654 - accuracy: 0.8913 - val_loss: 0.4750 - val_accuracy: 0.8400\n",
      "Epoch 105/500\n",
      "16/16 [==============================] - 0s 5ms/step - loss: 0.2644 - accuracy: 0.8954 - val_loss: 0.4675 - val_accuracy: 0.8480\n",
      "Epoch 106/500\n",
      "16/16 [==============================] - 0s 5ms/step - loss: 0.2637 - accuracy: 0.8994 - val_loss: 0.4684 - val_accuracy: 0.8400\n",
      "Epoch 107/500\n",
      "16/16 [==============================] - 0s 5ms/step - loss: 0.2648 - accuracy: 0.8873 - val_loss: 0.4654 - val_accuracy: 0.8400\n",
      "Epoch 108/500\n",
      "16/16 [==============================] - 0s 5ms/step - loss: 0.2625 - accuracy: 0.8934 - val_loss: 0.4743 - val_accuracy: 0.8480\n",
      "Epoch 109/500\n",
      "16/16 [==============================] - 0s 6ms/step - loss: 0.2633 - accuracy: 0.8954 - val_loss: 0.4586 - val_accuracy: 0.8400\n",
      "Epoch 110/500\n",
      "16/16 [==============================] - 0s 5ms/step - loss: 0.2602 - accuracy: 0.9034 - val_loss: 0.4812 - val_accuracy: 0.8480\n",
      "Epoch 111/500\n",
      "16/16 [==============================] - 0s 5ms/step - loss: 0.2621 - accuracy: 0.8954 - val_loss: 0.4690 - val_accuracy: 0.8240\n",
      "Epoch 112/500\n",
      "16/16 [==============================] - 0s 5ms/step - loss: 0.2594 - accuracy: 0.8934 - val_loss: 0.4862 - val_accuracy: 0.8160\n",
      "Epoch 113/500\n",
      "16/16 [==============================] - 0s 5ms/step - loss: 0.2596 - accuracy: 0.8954 - val_loss: 0.4961 - val_accuracy: 0.8400\n",
      "Epoch 114/500\n",
      "16/16 [==============================] - 0s 7ms/step - loss: 0.2577 - accuracy: 0.8893 - val_loss: 0.4661 - val_accuracy: 0.8480\n",
      "Epoch 115/500\n",
      "16/16 [==============================] - 0s 6ms/step - loss: 0.2579 - accuracy: 0.8994 - val_loss: 0.4678 - val_accuracy: 0.8240\n",
      "Epoch 116/500\n",
      "16/16 [==============================] - 0s 5ms/step - loss: 0.2571 - accuracy: 0.8873 - val_loss: 0.4642 - val_accuracy: 0.8240\n",
      "Epoch 117/500\n",
      "16/16 [==============================] - 0s 5ms/step - loss: 0.2579 - accuracy: 0.8913 - val_loss: 0.5061 - val_accuracy: 0.8480\n",
      "Epoch 118/500\n",
      "16/16 [==============================] - 0s 5ms/step - loss: 0.2588 - accuracy: 0.8913 - val_loss: 0.4809 - val_accuracy: 0.8560\n",
      "Epoch 119/500\n",
      "16/16 [==============================] - 0s 5ms/step - loss: 0.2569 - accuracy: 0.8913 - val_loss: 0.5098 - val_accuracy: 0.8400\n",
      "Epoch 120/500\n",
      "16/16 [==============================] - 0s 6ms/step - loss: 0.2549 - accuracy: 0.8954 - val_loss: 0.4996 - val_accuracy: 0.8480\n",
      "Epoch 121/500\n",
      "16/16 [==============================] - 0s 5ms/step - loss: 0.2581 - accuracy: 0.8913 - val_loss: 0.4767 - val_accuracy: 0.8480\n",
      "Epoch 122/500\n",
      "16/16 [==============================] - 0s 6ms/step - loss: 0.2538 - accuracy: 0.8934 - val_loss: 0.4700 - val_accuracy: 0.8560\n",
      "Epoch 123/500\n",
      "16/16 [==============================] - 0s 6ms/step - loss: 0.2556 - accuracy: 0.8974 - val_loss: 0.4783 - val_accuracy: 0.8160\n",
      "Epoch 124/500\n",
      "16/16 [==============================] - 0s 5ms/step - loss: 0.2543 - accuracy: 0.8994 - val_loss: 0.4853 - val_accuracy: 0.8320\n",
      "Epoch 125/500\n",
      "16/16 [==============================] - 0s 5ms/step - loss: 0.2516 - accuracy: 0.8974 - val_loss: 0.4807 - val_accuracy: 0.8240\n",
      "Epoch 126/500\n",
      "16/16 [==============================] - 0s 5ms/step - loss: 0.2528 - accuracy: 0.8954 - val_loss: 0.4906 - val_accuracy: 0.8560\n",
      "Epoch 127/500\n",
      "16/16 [==============================] - 0s 6ms/step - loss: 0.2522 - accuracy: 0.8954 - val_loss: 0.4843 - val_accuracy: 0.8560\n",
      "Epoch 128/500\n",
      "16/16 [==============================] - 0s 6ms/step - loss: 0.2511 - accuracy: 0.8954 - val_loss: 0.5247 - val_accuracy: 0.8480\n",
      "Epoch 129/500\n",
      "16/16 [==============================] - 0s 6ms/step - loss: 0.2520 - accuracy: 0.9034 - val_loss: 0.4876 - val_accuracy: 0.8560\n",
      "Epoch 130/500\n",
      "16/16 [==============================] - 0s 5ms/step - loss: 0.2493 - accuracy: 0.8913 - val_loss: 0.5039 - val_accuracy: 0.8480\n",
      "Epoch 131/500\n",
      "16/16 [==============================] - 0s 5ms/step - loss: 0.2490 - accuracy: 0.8934 - val_loss: 0.4807 - val_accuracy: 0.8400\n",
      "Epoch 132/500\n",
      "16/16 [==============================] - 0s 5ms/step - loss: 0.2516 - accuracy: 0.8893 - val_loss: 0.4867 - val_accuracy: 0.8480\n",
      "Epoch 133/500\n",
      "16/16 [==============================] - 0s 5ms/step - loss: 0.2496 - accuracy: 0.8974 - val_loss: 0.5179 - val_accuracy: 0.8400\n",
      "Epoch 134/500\n",
      "16/16 [==============================] - 0s 5ms/step - loss: 0.2480 - accuracy: 0.8994 - val_loss: 0.5164 - val_accuracy: 0.8480\n",
      "Epoch 135/500\n",
      "16/16 [==============================] - 0s 5ms/step - loss: 0.2474 - accuracy: 0.9034 - val_loss: 0.4896 - val_accuracy: 0.8320\n",
      "Epoch 136/500\n",
      "16/16 [==============================] - 0s 5ms/step - loss: 0.2490 - accuracy: 0.9014 - val_loss: 0.5018 - val_accuracy: 0.8560\n",
      "Epoch 137/500\n",
      "16/16 [==============================] - 0s 6ms/step - loss: 0.2458 - accuracy: 0.8974 - val_loss: 0.5104 - val_accuracy: 0.8480\n",
      "Epoch 138/500\n",
      "16/16 [==============================] - 0s 6ms/step - loss: 0.2453 - accuracy: 0.8934 - val_loss: 0.4807 - val_accuracy: 0.8240\n",
      "Epoch 139/500\n",
      "16/16 [==============================] - 0s 5ms/step - loss: 0.2474 - accuracy: 0.8994 - val_loss: 0.5003 - val_accuracy: 0.8400\n",
      "Epoch 140/500\n",
      "16/16 [==============================] - 0s 5ms/step - loss: 0.2458 - accuracy: 0.9054 - val_loss: 0.5167 - val_accuracy: 0.8240\n",
      "Epoch 141/500\n",
      "16/16 [==============================] - 0s 5ms/step - loss: 0.2454 - accuracy: 0.8954 - val_loss: 0.4872 - val_accuracy: 0.8480\n",
      "Epoch 142/500\n",
      "16/16 [==============================] - 0s 5ms/step - loss: 0.2459 - accuracy: 0.8954 - val_loss: 0.5026 - val_accuracy: 0.8560\n",
      "Epoch 143/500\n",
      "16/16 [==============================] - 0s 5ms/step - loss: 0.2424 - accuracy: 0.9014 - val_loss: 0.5107 - val_accuracy: 0.8560\n",
      "Epoch 144/500\n",
      "16/16 [==============================] - 0s 6ms/step - loss: 0.2473 - accuracy: 0.9034 - val_loss: 0.5017 - val_accuracy: 0.8320\n",
      "Epoch 145/500\n",
      "16/16 [==============================] - 0s 5ms/step - loss: 0.2440 - accuracy: 0.8994 - val_loss: 0.4826 - val_accuracy: 0.8640\n",
      "Epoch 146/500\n",
      "16/16 [==============================] - 0s 6ms/step - loss: 0.2407 - accuracy: 0.9074 - val_loss: 0.5177 - val_accuracy: 0.8480\n",
      "Epoch 147/500\n",
      "16/16 [==============================] - 0s 5ms/step - loss: 0.2437 - accuracy: 0.9014 - val_loss: 0.5294 - val_accuracy: 0.8400\n",
      "Epoch 148/500\n",
      "16/16 [==============================] - 0s 5ms/step - loss: 0.2409 - accuracy: 0.9034 - val_loss: 0.5048 - val_accuracy: 0.8160\n",
      "Epoch 149/500\n",
      "16/16 [==============================] - 0s 6ms/step - loss: 0.2441 - accuracy: 0.9014 - val_loss: 0.5175 - val_accuracy: 0.8160\n",
      "Epoch 150/500\n",
      "16/16 [==============================] - 0s 5ms/step - loss: 0.2412 - accuracy: 0.9034 - val_loss: 0.5256 - val_accuracy: 0.8240\n",
      "Epoch 151/500\n",
      "16/16 [==============================] - 0s 6ms/step - loss: 0.2417 - accuracy: 0.8994 - val_loss: 0.5131 - val_accuracy: 0.8320\n",
      "Epoch 152/500\n",
      "16/16 [==============================] - 0s 5ms/step - loss: 0.2411 - accuracy: 0.8954 - val_loss: 0.5200 - val_accuracy: 0.8400\n",
      "Epoch 153/500\n",
      "16/16 [==============================] - 0s 5ms/step - loss: 0.2411 - accuracy: 0.9014 - val_loss: 0.5306 - val_accuracy: 0.8320\n",
      "Epoch 154/500\n",
      "16/16 [==============================] - 0s 5ms/step - loss: 0.2403 - accuracy: 0.8994 - val_loss: 0.5277 - val_accuracy: 0.8080\n",
      "Epoch 155/500\n",
      "16/16 [==============================] - 0s 5ms/step - loss: 0.2395 - accuracy: 0.9034 - val_loss: 0.5322 - val_accuracy: 0.8320\n",
      "Epoch 156/500\n",
      "16/16 [==============================] - 0s 5ms/step - loss: 0.2392 - accuracy: 0.8954 - val_loss: 0.5097 - val_accuracy: 0.8240\n",
      "Epoch 157/500\n",
      "16/16 [==============================] - 0s 6ms/step - loss: 0.2377 - accuracy: 0.9014 - val_loss: 0.5409 - val_accuracy: 0.8240\n",
      "Epoch 158/500\n",
      "16/16 [==============================] - 0s 5ms/step - loss: 0.2385 - accuracy: 0.9014 - val_loss: 0.5078 - val_accuracy: 0.8560\n",
      "Epoch 159/500\n",
      "16/16 [==============================] - 0s 5ms/step - loss: 0.2384 - accuracy: 0.9034 - val_loss: 0.5358 - val_accuracy: 0.8480\n",
      "Epoch 160/500\n",
      "16/16 [==============================] - 0s 5ms/step - loss: 0.2373 - accuracy: 0.9034 - val_loss: 0.5232 - val_accuracy: 0.8560\n",
      "Epoch 161/500\n",
      "16/16 [==============================] - 0s 6ms/step - loss: 0.2391 - accuracy: 0.8994 - val_loss: 0.5240 - val_accuracy: 0.8160\n",
      "Epoch 162/500\n",
      "16/16 [==============================] - 0s 6ms/step - loss: 0.2355 - accuracy: 0.8974 - val_loss: 0.5378 - val_accuracy: 0.8240\n",
      "Epoch 163/500\n",
      "16/16 [==============================] - 0s 5ms/step - loss: 0.2379 - accuracy: 0.9014 - val_loss: 0.5283 - val_accuracy: 0.8400\n",
      "Epoch 164/500\n",
      "16/16 [==============================] - 0s 5ms/step - loss: 0.2338 - accuracy: 0.9034 - val_loss: 0.5634 - val_accuracy: 0.8320\n",
      "Epoch 165/500\n",
      "16/16 [==============================] - 0s 5ms/step - loss: 0.2367 - accuracy: 0.9095 - val_loss: 0.5306 - val_accuracy: 0.8400\n",
      "Epoch 166/500\n",
      "16/16 [==============================] - 0s 5ms/step - loss: 0.2343 - accuracy: 0.8994 - val_loss: 0.5396 - val_accuracy: 0.8400\n",
      "Epoch 167/500\n",
      "16/16 [==============================] - 0s 5ms/step - loss: 0.2358 - accuracy: 0.8994 - val_loss: 0.5091 - val_accuracy: 0.8160\n",
      "Epoch 168/500\n",
      "16/16 [==============================] - 0s 5ms/step - loss: 0.2311 - accuracy: 0.9074 - val_loss: 0.5581 - val_accuracy: 0.8560\n",
      "Epoch 169/500\n",
      "16/16 [==============================] - 0s 5ms/step - loss: 0.2350 - accuracy: 0.9054 - val_loss: 0.5295 - val_accuracy: 0.8400\n",
      "Epoch 170/500\n",
      "16/16 [==============================] - 0s 5ms/step - loss: 0.2352 - accuracy: 0.9014 - val_loss: 0.5341 - val_accuracy: 0.8640\n",
      "Epoch 171/500\n",
      "16/16 [==============================] - 0s 5ms/step - loss: 0.2357 - accuracy: 0.9034 - val_loss: 0.5449 - val_accuracy: 0.8320\n",
      "Epoch 172/500\n",
      "16/16 [==============================] - 0s 5ms/step - loss: 0.2321 - accuracy: 0.9074 - val_loss: 0.5119 - val_accuracy: 0.8640\n",
      "Epoch 173/500\n",
      "16/16 [==============================] - 0s 6ms/step - loss: 0.2327 - accuracy: 0.9095 - val_loss: 0.5153 - val_accuracy: 0.8160\n",
      "Epoch 174/500\n",
      "16/16 [==============================] - 0s 5ms/step - loss: 0.2333 - accuracy: 0.8974 - val_loss: 0.5420 - val_accuracy: 0.8480\n",
      "Epoch 175/500\n",
      "16/16 [==============================] - 0s 6ms/step - loss: 0.2310 - accuracy: 0.9014 - val_loss: 0.5336 - val_accuracy: 0.8080\n",
      "Epoch 176/500\n",
      "16/16 [==============================] - 0s 5ms/step - loss: 0.2338 - accuracy: 0.9014 - val_loss: 0.5583 - val_accuracy: 0.8480\n",
      "Epoch 177/500\n",
      "16/16 [==============================] - 0s 5ms/step - loss: 0.2306 - accuracy: 0.8974 - val_loss: 0.5345 - val_accuracy: 0.8400\n",
      "Epoch 178/500\n",
      "16/16 [==============================] - 0s 6ms/step - loss: 0.2324 - accuracy: 0.9054 - val_loss: 0.5246 - val_accuracy: 0.8640\n",
      "Epoch 179/500\n",
      "16/16 [==============================] - 0s 5ms/step - loss: 0.2327 - accuracy: 0.9095 - val_loss: 0.5464 - val_accuracy: 0.8480\n",
      "Epoch 180/500\n",
      "16/16 [==============================] - 0s 6ms/step - loss: 0.2305 - accuracy: 0.9014 - val_loss: 0.5498 - val_accuracy: 0.8160\n",
      "Epoch 181/500\n",
      "16/16 [==============================] - 0s 5ms/step - loss: 0.2315 - accuracy: 0.9034 - val_loss: 0.5187 - val_accuracy: 0.8240\n",
      "Epoch 182/500\n",
      "16/16 [==============================] - 0s 6ms/step - loss: 0.2297 - accuracy: 0.9034 - val_loss: 0.5497 - val_accuracy: 0.8400\n",
      "Epoch 183/500\n",
      "16/16 [==============================] - 0s 5ms/step - loss: 0.2301 - accuracy: 0.8994 - val_loss: 0.5446 - val_accuracy: 0.8320\n",
      "Epoch 184/500\n",
      "16/16 [==============================] - 0s 5ms/step - loss: 0.2300 - accuracy: 0.8974 - val_loss: 0.5321 - val_accuracy: 0.8240\n",
      "Epoch 185/500\n",
      "16/16 [==============================] - 0s 5ms/step - loss: 0.2292 - accuracy: 0.8994 - val_loss: 0.5900 - val_accuracy: 0.8320\n",
      "Epoch 186/500\n",
      "16/16 [==============================] - 0s 5ms/step - loss: 0.2299 - accuracy: 0.9014 - val_loss: 0.5429 - val_accuracy: 0.8640\n",
      "Epoch 187/500\n",
      "16/16 [==============================] - 0s 5ms/step - loss: 0.2290 - accuracy: 0.9054 - val_loss: 0.5223 - val_accuracy: 0.8240\n",
      "Epoch 188/500\n",
      "16/16 [==============================] - 0s 5ms/step - loss: 0.2282 - accuracy: 0.9054 - val_loss: 0.5640 - val_accuracy: 0.8480\n",
      "Epoch 189/500\n",
      "16/16 [==============================] - 0s 5ms/step - loss: 0.2293 - accuracy: 0.8994 - val_loss: 0.5572 - val_accuracy: 0.8320\n",
      "Epoch 190/500\n",
      "16/16 [==============================] - 0s 5ms/step - loss: 0.2281 - accuracy: 0.9034 - val_loss: 0.5594 - val_accuracy: 0.8640\n",
      "Epoch 191/500\n",
      "16/16 [==============================] - 0s 6ms/step - loss: 0.2272 - accuracy: 0.9115 - val_loss: 0.5787 - val_accuracy: 0.8160\n",
      "Epoch 192/500\n",
      "16/16 [==============================] - 0s 6ms/step - loss: 0.2286 - accuracy: 0.9054 - val_loss: 0.5660 - val_accuracy: 0.8400\n",
      "Epoch 193/500\n",
      "16/16 [==============================] - 0s 10ms/step - loss: 0.2282 - accuracy: 0.9014 - val_loss: 0.5383 - val_accuracy: 0.8240\n",
      "Epoch 194/500\n",
      "16/16 [==============================] - 0s 8ms/step - loss: 0.2281 - accuracy: 0.9054 - val_loss: 0.5564 - val_accuracy: 0.8320\n",
      "Epoch 195/500\n",
      "16/16 [==============================] - 0s 7ms/step - loss: 0.2257 - accuracy: 0.9095 - val_loss: 0.5685 - val_accuracy: 0.8560\n",
      "Epoch 196/500\n",
      "16/16 [==============================] - 0s 7ms/step - loss: 0.2240 - accuracy: 0.9034 - val_loss: 0.5638 - val_accuracy: 0.8240\n",
      "Epoch 197/500\n",
      "16/16 [==============================] - 0s 7ms/step - loss: 0.2256 - accuracy: 0.9074 - val_loss: 0.5504 - val_accuracy: 0.8400\n",
      "Epoch 198/500\n",
      "16/16 [==============================] - 0s 6ms/step - loss: 0.2260 - accuracy: 0.8994 - val_loss: 0.5467 - val_accuracy: 0.8320\n",
      "Epoch 199/500\n",
      "16/16 [==============================] - 0s 5ms/step - loss: 0.2231 - accuracy: 0.9014 - val_loss: 0.5977 - val_accuracy: 0.8080\n",
      "Epoch 200/500\n",
      "16/16 [==============================] - 0s 5ms/step - loss: 0.2283 - accuracy: 0.8994 - val_loss: 0.5635 - val_accuracy: 0.8320\n",
      "Epoch 201/500\n",
      "16/16 [==============================] - 0s 6ms/step - loss: 0.2224 - accuracy: 0.9074 - val_loss: 0.5479 - val_accuracy: 0.8320\n",
      "Epoch 202/500\n",
      "16/16 [==============================] - 0s 5ms/step - loss: 0.2257 - accuracy: 0.9034 - val_loss: 0.5976 - val_accuracy: 0.8080\n",
      "Epoch 203/500\n",
      "16/16 [==============================] - 0s 5ms/step - loss: 0.2234 - accuracy: 0.9095 - val_loss: 0.5721 - val_accuracy: 0.8160\n",
      "Epoch 204/500\n",
      "16/16 [==============================] - 0s 5ms/step - loss: 0.2228 - accuracy: 0.9014 - val_loss: 0.5992 - val_accuracy: 0.8160\n",
      "Epoch 205/500\n",
      "16/16 [==============================] - 0s 5ms/step - loss: 0.2264 - accuracy: 0.9115 - val_loss: 0.5407 - val_accuracy: 0.8160\n",
      "Epoch 206/500\n",
      "16/16 [==============================] - 0s 5ms/step - loss: 0.2222 - accuracy: 0.9054 - val_loss: 0.5900 - val_accuracy: 0.8000\n",
      "Epoch 207/500\n",
      "16/16 [==============================] - 0s 5ms/step - loss: 0.2213 - accuracy: 0.9014 - val_loss: 0.5866 - val_accuracy: 0.8480\n",
      "Epoch 208/500\n",
      "16/16 [==============================] - 0s 5ms/step - loss: 0.2230 - accuracy: 0.9095 - val_loss: 0.5730 - val_accuracy: 0.8240\n",
      "Epoch 209/500\n",
      "16/16 [==============================] - 0s 5ms/step - loss: 0.2239 - accuracy: 0.8994 - val_loss: 0.5640 - val_accuracy: 0.8240\n",
      "Epoch 210/500\n",
      "16/16 [==============================] - 0s 5ms/step - loss: 0.2219 - accuracy: 0.9115 - val_loss: 0.5844 - val_accuracy: 0.8160\n",
      "Epoch 211/500\n",
      "16/16 [==============================] - 0s 5ms/step - loss: 0.2222 - accuracy: 0.9074 - val_loss: 0.5913 - val_accuracy: 0.8400\n",
      "Epoch 212/500\n",
      "16/16 [==============================] - 0s 5ms/step - loss: 0.2219 - accuracy: 0.9074 - val_loss: 0.6145 - val_accuracy: 0.8400\n",
      "Epoch 213/500\n",
      "16/16 [==============================] - 0s 5ms/step - loss: 0.2215 - accuracy: 0.8994 - val_loss: 0.5750 - val_accuracy: 0.8480\n",
      "Epoch 214/500\n",
      "16/16 [==============================] - 0s 6ms/step - loss: 0.2222 - accuracy: 0.9054 - val_loss: 0.5816 - val_accuracy: 0.8240\n",
      "Epoch 215/500\n",
      "16/16 [==============================] - 0s 5ms/step - loss: 0.2222 - accuracy: 0.9115 - val_loss: 0.6136 - val_accuracy: 0.8320\n",
      "Epoch 216/500\n",
      "16/16 [==============================] - 0s 6ms/step - loss: 0.2235 - accuracy: 0.9115 - val_loss: 0.5529 - val_accuracy: 0.8480\n",
      "Epoch 217/500\n",
      "16/16 [==============================] - 0s 6ms/step - loss: 0.2222 - accuracy: 0.9014 - val_loss: 0.5934 - val_accuracy: 0.8400\n",
      "Epoch 218/500\n",
      "16/16 [==============================] - 0s 6ms/step - loss: 0.2209 - accuracy: 0.8974 - val_loss: 0.5719 - val_accuracy: 0.8400\n",
      "Epoch 219/500\n",
      "16/16 [==============================] - 0s 6ms/step - loss: 0.2203 - accuracy: 0.9095 - val_loss: 0.6370 - val_accuracy: 0.8240\n",
      "Epoch 220/500\n",
      "16/16 [==============================] - 0s 5ms/step - loss: 0.2207 - accuracy: 0.9095 - val_loss: 0.5772 - val_accuracy: 0.8320\n",
      "Epoch 221/500\n",
      "16/16 [==============================] - 0s 5ms/step - loss: 0.2214 - accuracy: 0.9054 - val_loss: 0.5998 - val_accuracy: 0.8400\n",
      "Epoch 222/500\n",
      "16/16 [==============================] - 0s 5ms/step - loss: 0.2182 - accuracy: 0.9074 - val_loss: 0.5853 - val_accuracy: 0.8160\n",
      "Epoch 223/500\n",
      "16/16 [==============================] - 0s 6ms/step - loss: 0.2169 - accuracy: 0.9095 - val_loss: 0.6073 - val_accuracy: 0.8400\n",
      "Epoch 224/500\n",
      "16/16 [==============================] - 0s 6ms/step - loss: 0.2191 - accuracy: 0.9074 - val_loss: 0.5570 - val_accuracy: 0.8160\n",
      "Epoch 225/500\n",
      "16/16 [==============================] - 0s 5ms/step - loss: 0.2175 - accuracy: 0.9054 - val_loss: 0.5973 - val_accuracy: 0.8240\n",
      "Epoch 226/500\n",
      "16/16 [==============================] - 0s 5ms/step - loss: 0.2196 - accuracy: 0.9074 - val_loss: 0.6035 - val_accuracy: 0.8320\n",
      "Epoch 227/500\n",
      "16/16 [==============================] - 0s 5ms/step - loss: 0.2195 - accuracy: 0.9135 - val_loss: 0.5715 - val_accuracy: 0.8240\n",
      "Epoch 228/500\n",
      "16/16 [==============================] - 0s 5ms/step - loss: 0.2171 - accuracy: 0.9054 - val_loss: 0.6199 - val_accuracy: 0.8320\n",
      "Epoch 229/500\n",
      "16/16 [==============================] - 0s 5ms/step - loss: 0.2158 - accuracy: 0.9115 - val_loss: 0.5760 - val_accuracy: 0.8240\n",
      "Epoch 230/500\n",
      "16/16 [==============================] - 0s 5ms/step - loss: 0.2190 - accuracy: 0.9054 - val_loss: 0.6251 - val_accuracy: 0.8320\n",
      "Epoch 231/500\n",
      "16/16 [==============================] - 0s 6ms/step - loss: 0.2166 - accuracy: 0.9074 - val_loss: 0.5782 - val_accuracy: 0.8320\n",
      "Epoch 232/500\n",
      "16/16 [==============================] - 0s 5ms/step - loss: 0.2198 - accuracy: 0.9074 - val_loss: 0.5990 - val_accuracy: 0.8320\n",
      "Epoch 233/500\n",
      "16/16 [==============================] - 0s 5ms/step - loss: 0.2162 - accuracy: 0.9115 - val_loss: 0.5880 - val_accuracy: 0.8320\n",
      "Epoch 234/500\n",
      "16/16 [==============================] - 0s 6ms/step - loss: 0.2145 - accuracy: 0.9115 - val_loss: 0.5949 - val_accuracy: 0.8320\n",
      "Epoch 235/500\n",
      "16/16 [==============================] - 0s 6ms/step - loss: 0.2177 - accuracy: 0.9054 - val_loss: 0.6180 - val_accuracy: 0.8320\n",
      "Epoch 236/500\n",
      "16/16 [==============================] - 0s 5ms/step - loss: 0.2161 - accuracy: 0.9155 - val_loss: 0.6064 - val_accuracy: 0.8160\n",
      "Epoch 237/500\n",
      "16/16 [==============================] - 0s 5ms/step - loss: 0.2188 - accuracy: 0.9014 - val_loss: 0.6035 - val_accuracy: 0.8240\n",
      "Epoch 238/500\n",
      "16/16 [==============================] - 0s 5ms/step - loss: 0.2139 - accuracy: 0.9115 - val_loss: 0.6304 - val_accuracy: 0.8240\n",
      "Epoch 239/500\n",
      "16/16 [==============================] - 0s 5ms/step - loss: 0.2171 - accuracy: 0.9074 - val_loss: 0.5972 - val_accuracy: 0.8240\n",
      "Epoch 240/500\n",
      "16/16 [==============================] - 0s 5ms/step - loss: 0.2165 - accuracy: 0.9115 - val_loss: 0.6173 - val_accuracy: 0.8320\n",
      "Epoch 241/500\n",
      "16/16 [==============================] - 0s 5ms/step - loss: 0.2149 - accuracy: 0.9115 - val_loss: 0.5948 - val_accuracy: 0.8160\n",
      "Epoch 242/500\n",
      "16/16 [==============================] - 0s 6ms/step - loss: 0.2143 - accuracy: 0.9034 - val_loss: 0.6143 - val_accuracy: 0.8320\n",
      "Epoch 243/500\n",
      "16/16 [==============================] - 0s 5ms/step - loss: 0.2157 - accuracy: 0.9135 - val_loss: 0.6364 - val_accuracy: 0.8240\n",
      "Epoch 244/500\n",
      "16/16 [==============================] - 0s 6ms/step - loss: 0.2158 - accuracy: 0.9034 - val_loss: 0.6636 - val_accuracy: 0.8000\n",
      "Epoch 245/500\n",
      "16/16 [==============================] - 0s 5ms/step - loss: 0.2133 - accuracy: 0.9155 - val_loss: 0.5960 - val_accuracy: 0.8320\n",
      "Epoch 246/500\n",
      "16/16 [==============================] - 0s 5ms/step - loss: 0.2160 - accuracy: 0.9074 - val_loss: 0.6081 - val_accuracy: 0.8400\n",
      "Epoch 247/500\n",
      "16/16 [==============================] - 0s 5ms/step - loss: 0.2136 - accuracy: 0.9115 - val_loss: 0.6340 - val_accuracy: 0.8240\n",
      "Epoch 248/500\n",
      "16/16 [==============================] - 0s 5ms/step - loss: 0.2144 - accuracy: 0.9074 - val_loss: 0.6259 - val_accuracy: 0.8160\n",
      "Epoch 249/500\n",
      "16/16 [==============================] - 0s 5ms/step - loss: 0.2121 - accuracy: 0.9074 - val_loss: 0.6334 - val_accuracy: 0.8240\n",
      "Epoch 250/500\n",
      "16/16 [==============================] - 0s 5ms/step - loss: 0.2095 - accuracy: 0.9235 - val_loss: 0.6477 - val_accuracy: 0.8400\n",
      "Epoch 251/500\n",
      "16/16 [==============================] - 0s 5ms/step - loss: 0.2165 - accuracy: 0.9034 - val_loss: 0.6382 - val_accuracy: 0.8240\n",
      "Epoch 252/500\n",
      "16/16 [==============================] - 0s 5ms/step - loss: 0.2128 - accuracy: 0.9135 - val_loss: 0.6248 - val_accuracy: 0.8240\n",
      "Epoch 253/500\n",
      "16/16 [==============================] - 0s 5ms/step - loss: 0.2127 - accuracy: 0.9115 - val_loss: 0.6391 - val_accuracy: 0.8160\n",
      "Epoch 254/500\n",
      "16/16 [==============================] - 0s 5ms/step - loss: 0.2116 - accuracy: 0.9074 - val_loss: 0.6354 - val_accuracy: 0.8320\n",
      "Epoch 255/500\n",
      "16/16 [==============================] - 0s 6ms/step - loss: 0.2121 - accuracy: 0.9155 - val_loss: 0.6353 - val_accuracy: 0.8160\n",
      "Epoch 256/500\n",
      "16/16 [==============================] - 0s 5ms/step - loss: 0.2128 - accuracy: 0.9155 - val_loss: 0.6461 - val_accuracy: 0.8400\n",
      "Epoch 257/500\n",
      "16/16 [==============================] - 0s 5ms/step - loss: 0.2118 - accuracy: 0.9135 - val_loss: 0.6914 - val_accuracy: 0.8320\n",
      "Epoch 258/500\n",
      "16/16 [==============================] - 0s 5ms/step - loss: 0.2104 - accuracy: 0.9195 - val_loss: 0.6251 - val_accuracy: 0.8240\n",
      "Epoch 259/500\n",
      "16/16 [==============================] - 0s 6ms/step - loss: 0.2112 - accuracy: 0.9074 - val_loss: 0.6783 - val_accuracy: 0.8160\n",
      "Epoch 260/500\n",
      "16/16 [==============================] - 0s 5ms/step - loss: 0.2131 - accuracy: 0.9115 - val_loss: 0.6345 - val_accuracy: 0.8320\n",
      "Epoch 261/500\n",
      "16/16 [==============================] - 0s 6ms/step - loss: 0.2131 - accuracy: 0.9135 - val_loss: 0.6328 - val_accuracy: 0.8320\n",
      "Epoch 262/500\n",
      "16/16 [==============================] - 0s 6ms/step - loss: 0.2119 - accuracy: 0.9115 - val_loss: 0.6365 - val_accuracy: 0.8320\n",
      "Epoch 263/500\n",
      "16/16 [==============================] - 0s 5ms/step - loss: 0.2079 - accuracy: 0.9095 - val_loss: 0.6222 - val_accuracy: 0.8240\n",
      "Epoch 264/500\n",
      "16/16 [==============================] - 0s 5ms/step - loss: 0.2127 - accuracy: 0.9155 - val_loss: 0.6327 - val_accuracy: 0.8160\n",
      "Epoch 265/500\n",
      "16/16 [==============================] - 0s 5ms/step - loss: 0.2087 - accuracy: 0.9155 - val_loss: 0.6643 - val_accuracy: 0.8240\n",
      "Epoch 266/500\n",
      "16/16 [==============================] - 0s 5ms/step - loss: 0.2076 - accuracy: 0.9175 - val_loss: 0.6736 - val_accuracy: 0.8080\n",
      "Epoch 267/500\n",
      "16/16 [==============================] - 0s 6ms/step - loss: 0.2072 - accuracy: 0.9195 - val_loss: 0.6413 - val_accuracy: 0.8080\n",
      "Epoch 268/500\n",
      "16/16 [==============================] - 0s 6ms/step - loss: 0.2105 - accuracy: 0.9054 - val_loss: 0.6751 - val_accuracy: 0.8320\n",
      "Epoch 269/500\n",
      "16/16 [==============================] - 0s 6ms/step - loss: 0.2081 - accuracy: 0.9175 - val_loss: 0.6435 - val_accuracy: 0.8320\n",
      "Epoch 270/500\n",
      "16/16 [==============================] - 0s 5ms/step - loss: 0.2090 - accuracy: 0.9095 - val_loss: 0.6832 - val_accuracy: 0.8160\n",
      "Epoch 271/500\n",
      "16/16 [==============================] - 0s 6ms/step - loss: 0.2065 - accuracy: 0.9235 - val_loss: 0.6500 - val_accuracy: 0.8160\n",
      "Epoch 272/500\n",
      "16/16 [==============================] - 0s 5ms/step - loss: 0.2103 - accuracy: 0.9135 - val_loss: 0.6700 - val_accuracy: 0.8320\n",
      "Epoch 273/500\n",
      "16/16 [==============================] - 0s 6ms/step - loss: 0.2055 - accuracy: 0.9074 - val_loss: 0.6387 - val_accuracy: 0.8160\n",
      "Epoch 274/500\n",
      "16/16 [==============================] - 0s 6ms/step - loss: 0.2102 - accuracy: 0.9115 - val_loss: 0.6518 - val_accuracy: 0.8240\n",
      "Epoch 275/500\n",
      "16/16 [==============================] - 0s 5ms/step - loss: 0.2079 - accuracy: 0.9115 - val_loss: 0.6907 - val_accuracy: 0.8240\n",
      "Epoch 276/500\n",
      "16/16 [==============================] - 0s 5ms/step - loss: 0.2071 - accuracy: 0.9155 - val_loss: 0.6710 - val_accuracy: 0.8160\n",
      "Epoch 277/500\n",
      "16/16 [==============================] - 0s 6ms/step - loss: 0.2079 - accuracy: 0.9175 - val_loss: 0.6741 - val_accuracy: 0.8160\n",
      "Epoch 278/500\n",
      "16/16 [==============================] - 0s 12ms/step - loss: 0.2059 - accuracy: 0.9155 - val_loss: 0.7281 - val_accuracy: 0.8080\n",
      "Epoch 279/500\n",
      "16/16 [==============================] - 0s 8ms/step - loss: 0.2061 - accuracy: 0.9095 - val_loss: 0.7064 - val_accuracy: 0.8160\n",
      "Epoch 280/500\n",
      "16/16 [==============================] - 0s 7ms/step - loss: 0.2044 - accuracy: 0.9115 - val_loss: 0.6420 - val_accuracy: 0.8240\n",
      "Epoch 281/500\n",
      "16/16 [==============================] - 0s 8ms/step - loss: 0.2103 - accuracy: 0.9155 - val_loss: 0.6820 - val_accuracy: 0.8160\n",
      "Epoch 282/500\n",
      "16/16 [==============================] - 0s 8ms/step - loss: 0.2054 - accuracy: 0.9135 - val_loss: 0.6684 - val_accuracy: 0.8160\n",
      "Epoch 283/500\n",
      "16/16 [==============================] - 0s 7ms/step - loss: 0.2058 - accuracy: 0.9135 - val_loss: 0.6556 - val_accuracy: 0.8240\n",
      "Epoch 284/500\n",
      "16/16 [==============================] - 0s 8ms/step - loss: 0.2078 - accuracy: 0.9115 - val_loss: 0.6729 - val_accuracy: 0.8160\n",
      "Epoch 285/500\n",
      "16/16 [==============================] - 0s 8ms/step - loss: 0.2048 - accuracy: 0.9115 - val_loss: 0.6458 - val_accuracy: 0.8240\n",
      "Epoch 286/500\n",
      "16/16 [==============================] - 0s 8ms/step - loss: 0.2061 - accuracy: 0.9155 - val_loss: 0.7095 - val_accuracy: 0.8160\n",
      "Epoch 287/500\n",
      "16/16 [==============================] - 0s 8ms/step - loss: 0.2056 - accuracy: 0.9095 - val_loss: 0.7229 - val_accuracy: 0.8080\n",
      "Epoch 288/500\n",
      "16/16 [==============================] - 0s 5ms/step - loss: 0.2063 - accuracy: 0.9115 - val_loss: 0.6637 - val_accuracy: 0.8240\n",
      "Epoch 289/500\n",
      "16/16 [==============================] - 0s 6ms/step - loss: 0.2020 - accuracy: 0.9155 - val_loss: 0.6834 - val_accuracy: 0.8240\n",
      "Epoch 290/500\n",
      "16/16 [==============================] - 0s 6ms/step - loss: 0.2014 - accuracy: 0.9135 - val_loss: 0.6867 - val_accuracy: 0.8160\n",
      "Epoch 291/500\n",
      "16/16 [==============================] - 0s 6ms/step - loss: 0.2046 - accuracy: 0.9135 - val_loss: 0.7472 - val_accuracy: 0.8080\n",
      "Epoch 292/500\n",
      "16/16 [==============================] - 0s 6ms/step - loss: 0.2019 - accuracy: 0.9115 - val_loss: 0.6765 - val_accuracy: 0.8320\n",
      "Epoch 293/500\n",
      "16/16 [==============================] - 0s 5ms/step - loss: 0.2054 - accuracy: 0.9074 - val_loss: 0.7067 - val_accuracy: 0.8160\n",
      "Epoch 294/500\n",
      "16/16 [==============================] - 0s 6ms/step - loss: 0.2053 - accuracy: 0.9135 - val_loss: 0.7136 - val_accuracy: 0.8080\n",
      "Epoch 295/500\n",
      "16/16 [==============================] - 0s 6ms/step - loss: 0.2007 - accuracy: 0.9135 - val_loss: 0.7200 - val_accuracy: 0.8000\n",
      "Epoch 296/500\n",
      "16/16 [==============================] - 0s 6ms/step - loss: 0.2042 - accuracy: 0.9115 - val_loss: 0.7122 - val_accuracy: 0.8240\n",
      "Epoch 297/500\n",
      "16/16 [==============================] - 0s 6ms/step - loss: 0.2028 - accuracy: 0.9115 - val_loss: 0.6974 - val_accuracy: 0.8240\n",
      "Epoch 298/500\n",
      "16/16 [==============================] - 0s 5ms/step - loss: 0.2054 - accuracy: 0.9155 - val_loss: 0.6955 - val_accuracy: 0.8160\n",
      "Epoch 299/500\n",
      "16/16 [==============================] - 0s 5ms/step - loss: 0.2011 - accuracy: 0.9195 - val_loss: 0.7204 - val_accuracy: 0.8160\n",
      "Epoch 300/500\n",
      "16/16 [==============================] - 0s 5ms/step - loss: 0.2026 - accuracy: 0.9175 - val_loss: 0.6931 - val_accuracy: 0.8320\n",
      "Epoch 301/500\n",
      "16/16 [==============================] - 0s 6ms/step - loss: 0.2029 - accuracy: 0.9155 - val_loss: 0.7284 - val_accuracy: 0.8080\n",
      "Epoch 302/500\n",
      "16/16 [==============================] - 0s 5ms/step - loss: 0.2041 - accuracy: 0.9175 - val_loss: 0.7274 - val_accuracy: 0.8160\n",
      "Epoch 303/500\n",
      "16/16 [==============================] - 0s 6ms/step - loss: 0.2023 - accuracy: 0.9175 - val_loss: 0.7503 - val_accuracy: 0.8000\n",
      "Epoch 304/500\n",
      "16/16 [==============================] - 0s 6ms/step - loss: 0.2027 - accuracy: 0.9195 - val_loss: 0.6997 - val_accuracy: 0.8080\n",
      "Epoch 305/500\n",
      "16/16 [==============================] - 0s 6ms/step - loss: 0.2015 - accuracy: 0.9195 - val_loss: 0.7221 - val_accuracy: 0.8160\n",
      "Epoch 306/500\n",
      "16/16 [==============================] - 0s 5ms/step - loss: 0.1985 - accuracy: 0.9195 - val_loss: 0.7514 - val_accuracy: 0.7920\n",
      "Epoch 307/500\n",
      "16/16 [==============================] - 0s 6ms/step - loss: 0.2008 - accuracy: 0.9155 - val_loss: 0.7526 - val_accuracy: 0.8080\n",
      "Epoch 308/500\n",
      "16/16 [==============================] - 0s 12ms/step - loss: 0.2022 - accuracy: 0.9135 - val_loss: 0.6869 - val_accuracy: 0.8240\n",
      "Epoch 309/500\n",
      "16/16 [==============================] - 0s 8ms/step - loss: 0.2034 - accuracy: 0.9115 - val_loss: 0.7411 - val_accuracy: 0.8080\n",
      "Epoch 310/500\n",
      "16/16 [==============================] - 0s 7ms/step - loss: 0.2002 - accuracy: 0.9195 - val_loss: 0.7286 - val_accuracy: 0.8160\n",
      "Epoch 311/500\n",
      "16/16 [==============================] - 0s 8ms/step - loss: 0.2016 - accuracy: 0.9155 - val_loss: 0.7253 - val_accuracy: 0.8240\n",
      "Epoch 312/500\n",
      "16/16 [==============================] - 0s 7ms/step - loss: 0.1991 - accuracy: 0.9135 - val_loss: 0.7349 - val_accuracy: 0.8160\n",
      "Epoch 313/500\n",
      "16/16 [==============================] - 0s 5ms/step - loss: 0.1991 - accuracy: 0.9256 - val_loss: 0.6967 - val_accuracy: 0.8240\n",
      "Epoch 314/500\n",
      "16/16 [==============================] - 0s 5ms/step - loss: 0.2014 - accuracy: 0.9135 - val_loss: 0.7205 - val_accuracy: 0.8240\n",
      "Epoch 315/500\n",
      "16/16 [==============================] - 0s 7ms/step - loss: 0.1991 - accuracy: 0.9175 - val_loss: 0.7189 - val_accuracy: 0.8240\n",
      "Epoch 316/500\n",
      "16/16 [==============================] - 0s 6ms/step - loss: 0.1997 - accuracy: 0.9155 - val_loss: 0.7543 - val_accuracy: 0.8160\n",
      "Epoch 317/500\n",
      "16/16 [==============================] - 0s 5ms/step - loss: 0.1980 - accuracy: 0.9175 - val_loss: 0.7205 - val_accuracy: 0.8160\n",
      "Epoch 318/500\n",
      "16/16 [==============================] - 0s 5ms/step - loss: 0.1987 - accuracy: 0.9175 - val_loss: 0.7593 - val_accuracy: 0.8080\n",
      "Epoch 319/500\n",
      "16/16 [==============================] - 0s 5ms/step - loss: 0.1985 - accuracy: 0.9175 - val_loss: 0.7715 - val_accuracy: 0.8080\n",
      "Epoch 320/500\n",
      "16/16 [==============================] - 0s 6ms/step - loss: 0.1961 - accuracy: 0.9195 - val_loss: 0.7599 - val_accuracy: 0.7920\n",
      "Epoch 321/500\n",
      "16/16 [==============================] - 0s 6ms/step - loss: 0.2032 - accuracy: 0.9235 - val_loss: 0.7438 - val_accuracy: 0.8160\n",
      "Epoch 322/500\n",
      "16/16 [==============================] - 0s 6ms/step - loss: 0.1959 - accuracy: 0.9215 - val_loss: 0.7817 - val_accuracy: 0.8080\n",
      "Epoch 323/500\n",
      "16/16 [==============================] - 0s 5ms/step - loss: 0.1966 - accuracy: 0.9195 - val_loss: 0.7708 - val_accuracy: 0.8080\n",
      "Epoch 324/500\n",
      "16/16 [==============================] - 0s 6ms/step - loss: 0.1993 - accuracy: 0.9175 - val_loss: 0.7535 - val_accuracy: 0.8240\n",
      "Epoch 325/500\n",
      "16/16 [==============================] - 0s 6ms/step - loss: 0.1965 - accuracy: 0.9235 - val_loss: 0.7834 - val_accuracy: 0.8160\n",
      "Epoch 326/500\n",
      "16/16 [==============================] - 0s 7ms/step - loss: 0.1976 - accuracy: 0.9175 - val_loss: 0.7130 - val_accuracy: 0.8080\n",
      "Epoch 327/500\n",
      "16/16 [==============================] - 0s 6ms/step - loss: 0.1978 - accuracy: 0.9155 - val_loss: 0.7375 - val_accuracy: 0.8240\n",
      "Epoch 328/500\n",
      "16/16 [==============================] - 0s 5ms/step - loss: 0.1982 - accuracy: 0.9095 - val_loss: 0.7627 - val_accuracy: 0.8160\n",
      "Epoch 329/500\n",
      "16/16 [==============================] - 0s 6ms/step - loss: 0.1931 - accuracy: 0.9256 - val_loss: 0.7615 - val_accuracy: 0.8080\n",
      "Epoch 330/500\n",
      "16/16 [==============================] - 0s 5ms/step - loss: 0.1984 - accuracy: 0.9195 - val_loss: 0.8051 - val_accuracy: 0.8160\n",
      "Epoch 331/500\n",
      "16/16 [==============================] - 0s 5ms/step - loss: 0.1948 - accuracy: 0.9235 - val_loss: 0.7371 - val_accuracy: 0.8320\n",
      "Epoch 332/500\n",
      "16/16 [==============================] - 0s 6ms/step - loss: 0.1970 - accuracy: 0.9115 - val_loss: 0.7745 - val_accuracy: 0.8160\n",
      "Epoch 333/500\n",
      "16/16 [==============================] - 0s 5ms/step - loss: 0.1969 - accuracy: 0.9155 - val_loss: 0.7594 - val_accuracy: 0.8160\n",
      "Epoch 334/500\n",
      "16/16 [==============================] - 0s 5ms/step - loss: 0.1953 - accuracy: 0.9175 - val_loss: 0.7406 - val_accuracy: 0.8400\n",
      "Epoch 335/500\n",
      "16/16 [==============================] - 0s 6ms/step - loss: 0.1974 - accuracy: 0.9155 - val_loss: 0.7968 - val_accuracy: 0.8080\n",
      "Epoch 336/500\n",
      "16/16 [==============================] - 0s 5ms/step - loss: 0.1959 - accuracy: 0.9195 - val_loss: 0.7304 - val_accuracy: 0.8240\n",
      "Epoch 337/500\n",
      "16/16 [==============================] - 0s 5ms/step - loss: 0.1954 - accuracy: 0.9175 - val_loss: 0.7620 - val_accuracy: 0.8080\n",
      "Epoch 338/500\n",
      "16/16 [==============================] - 0s 5ms/step - loss: 0.1963 - accuracy: 0.9175 - val_loss: 0.7806 - val_accuracy: 0.8080\n",
      "Epoch 339/500\n",
      "16/16 [==============================] - 0s 5ms/step - loss: 0.1947 - accuracy: 0.9175 - val_loss: 0.7883 - val_accuracy: 0.8080\n",
      "Epoch 340/500\n",
      "16/16 [==============================] - 0s 6ms/step - loss: 0.1938 - accuracy: 0.9195 - val_loss: 0.7595 - val_accuracy: 0.8080\n",
      "Epoch 341/500\n",
      "16/16 [==============================] - 0s 6ms/step - loss: 0.1943 - accuracy: 0.9256 - val_loss: 0.7425 - val_accuracy: 0.8240\n",
      "Epoch 342/500\n",
      "16/16 [==============================] - 0s 5ms/step - loss: 0.1954 - accuracy: 0.9155 - val_loss: 0.8001 - val_accuracy: 0.7920\n",
      "Epoch 343/500\n",
      "16/16 [==============================] - 0s 6ms/step - loss: 0.1945 - accuracy: 0.9195 - val_loss: 0.7966 - val_accuracy: 0.7920\n",
      "Epoch 344/500\n",
      "16/16 [==============================] - 0s 6ms/step - loss: 0.1948 - accuracy: 0.9175 - val_loss: 0.7660 - val_accuracy: 0.8080\n",
      "Epoch 345/500\n",
      "16/16 [==============================] - 0s 6ms/step - loss: 0.1922 - accuracy: 0.9195 - val_loss: 0.7832 - val_accuracy: 0.8160\n",
      "Epoch 346/500\n",
      "16/16 [==============================] - 0s 6ms/step - loss: 0.1944 - accuracy: 0.9215 - val_loss: 0.7737 - val_accuracy: 0.8160\n",
      "Epoch 347/500\n",
      "16/16 [==============================] - 0s 5ms/step - loss: 0.1964 - accuracy: 0.9155 - val_loss: 0.7757 - val_accuracy: 0.8000\n",
      "Epoch 348/500\n",
      "16/16 [==============================] - 0s 7ms/step - loss: 0.1910 - accuracy: 0.9235 - val_loss: 0.7965 - val_accuracy: 0.8240\n",
      "Epoch 349/500\n",
      "16/16 [==============================] - 0s 5ms/step - loss: 0.1918 - accuracy: 0.9115 - val_loss: 0.8191 - val_accuracy: 0.8080\n",
      "Epoch 350/500\n",
      "16/16 [==============================] - 0s 5ms/step - loss: 0.1957 - accuracy: 0.9195 - val_loss: 0.8156 - val_accuracy: 0.8000\n",
      "Epoch 351/500\n",
      "16/16 [==============================] - 0s 5ms/step - loss: 0.1936 - accuracy: 0.9155 - val_loss: 0.8318 - val_accuracy: 0.7840\n",
      "Epoch 352/500\n",
      "16/16 [==============================] - 0s 5ms/step - loss: 0.1931 - accuracy: 0.9175 - val_loss: 0.8104 - val_accuracy: 0.8160\n",
      "Epoch 353/500\n",
      "16/16 [==============================] - 0s 6ms/step - loss: 0.1926 - accuracy: 0.9195 - val_loss: 0.8050 - val_accuracy: 0.7840\n",
      "Epoch 354/500\n",
      "16/16 [==============================] - 0s 5ms/step - loss: 0.1923 - accuracy: 0.9135 - val_loss: 0.7687 - val_accuracy: 0.8080\n",
      "Epoch 355/500\n",
      "16/16 [==============================] - 0s 5ms/step - loss: 0.1923 - accuracy: 0.9276 - val_loss: 0.7691 - val_accuracy: 0.8000\n",
      "Epoch 356/500\n",
      "16/16 [==============================] - 0s 5ms/step - loss: 0.1930 - accuracy: 0.9235 - val_loss: 0.7539 - val_accuracy: 0.8240\n",
      "Epoch 357/500\n",
      "16/16 [==============================] - 0s 5ms/step - loss: 0.1906 - accuracy: 0.9215 - val_loss: 0.8236 - val_accuracy: 0.8160\n",
      "Epoch 358/500\n",
      "16/16 [==============================] - 0s 5ms/step - loss: 0.1915 - accuracy: 0.9195 - val_loss: 0.8082 - val_accuracy: 0.8080\n",
      "Epoch 359/500\n",
      "16/16 [==============================] - 0s 5ms/step - loss: 0.1922 - accuracy: 0.9256 - val_loss: 0.7515 - val_accuracy: 0.8160\n",
      "Epoch 360/500\n",
      "16/16 [==============================] - 0s 5ms/step - loss: 0.1911 - accuracy: 0.9235 - val_loss: 0.7764 - val_accuracy: 0.8080\n",
      "Epoch 361/500\n",
      "16/16 [==============================] - 0s 6ms/step - loss: 0.1936 - accuracy: 0.9115 - val_loss: 0.7586 - val_accuracy: 0.8320\n",
      "Epoch 362/500\n",
      "16/16 [==============================] - 0s 5ms/step - loss: 0.1896 - accuracy: 0.9175 - val_loss: 0.7984 - val_accuracy: 0.7920\n",
      "Epoch 363/500\n",
      "16/16 [==============================] - 0s 5ms/step - loss: 0.1937 - accuracy: 0.9155 - val_loss: 0.7764 - val_accuracy: 0.8240\n",
      "Epoch 364/500\n",
      "16/16 [==============================] - 0s 5ms/step - loss: 0.1902 - accuracy: 0.9256 - val_loss: 0.7937 - val_accuracy: 0.8080\n",
      "Epoch 365/500\n",
      "16/16 [==============================] - 0s 5ms/step - loss: 0.1923 - accuracy: 0.9175 - val_loss: 0.7848 - val_accuracy: 0.7920\n",
      "Epoch 366/500\n",
      "16/16 [==============================] - 0s 5ms/step - loss: 0.1889 - accuracy: 0.9235 - val_loss: 0.7707 - val_accuracy: 0.8240\n",
      "Epoch 367/500\n",
      "16/16 [==============================] - 0s 5ms/step - loss: 0.1869 - accuracy: 0.9215 - val_loss: 0.8403 - val_accuracy: 0.8000\n",
      "Epoch 368/500\n",
      "16/16 [==============================] - 0s 6ms/step - loss: 0.1942 - accuracy: 0.9215 - val_loss: 0.7798 - val_accuracy: 0.8240\n",
      "Epoch 369/500\n",
      "16/16 [==============================] - 0s 6ms/step - loss: 0.1896 - accuracy: 0.9215 - val_loss: 0.8021 - val_accuracy: 0.8000\n",
      "Epoch 370/500\n",
      "16/16 [==============================] - 0s 5ms/step - loss: 0.1917 - accuracy: 0.9256 - val_loss: 0.8332 - val_accuracy: 0.8000\n",
      "Epoch 371/500\n",
      "16/16 [==============================] - 0s 6ms/step - loss: 0.1889 - accuracy: 0.9235 - val_loss: 0.7842 - val_accuracy: 0.8400\n",
      "Epoch 372/500\n",
      "16/16 [==============================] - 0s 6ms/step - loss: 0.1913 - accuracy: 0.9235 - val_loss: 0.7992 - val_accuracy: 0.8000\n",
      "Epoch 373/500\n",
      "16/16 [==============================] - 0s 6ms/step - loss: 0.1858 - accuracy: 0.9215 - val_loss: 0.8623 - val_accuracy: 0.8000\n",
      "Epoch 374/500\n",
      "16/16 [==============================] - 0s 5ms/step - loss: 0.1903 - accuracy: 0.9215 - val_loss: 0.7879 - val_accuracy: 0.8320\n",
      "Epoch 375/500\n",
      "16/16 [==============================] - 0s 5ms/step - loss: 0.1868 - accuracy: 0.9276 - val_loss: 0.8500 - val_accuracy: 0.7920\n",
      "Epoch 376/500\n",
      "16/16 [==============================] - 0s 5ms/step - loss: 0.1882 - accuracy: 0.9215 - val_loss: 0.8066 - val_accuracy: 0.8000\n",
      "Epoch 377/500\n",
      "16/16 [==============================] - 0s 6ms/step - loss: 0.1860 - accuracy: 0.9195 - val_loss: 0.8555 - val_accuracy: 0.7920\n",
      "Epoch 378/500\n",
      "16/16 [==============================] - 0s 6ms/step - loss: 0.1890 - accuracy: 0.9195 - val_loss: 0.7876 - val_accuracy: 0.8080\n",
      "Epoch 379/500\n",
      "16/16 [==============================] - 0s 5ms/step - loss: 0.1907 - accuracy: 0.9215 - val_loss: 0.7860 - val_accuracy: 0.8080\n",
      "Epoch 380/500\n",
      "16/16 [==============================] - 0s 5ms/step - loss: 0.1903 - accuracy: 0.9256 - val_loss: 0.7956 - val_accuracy: 0.8080\n",
      "Epoch 381/500\n",
      "16/16 [==============================] - 0s 5ms/step - loss: 0.1866 - accuracy: 0.9256 - val_loss: 0.8326 - val_accuracy: 0.7920\n",
      "Epoch 382/500\n",
      "16/16 [==============================] - 0s 6ms/step - loss: 0.1893 - accuracy: 0.9235 - val_loss: 0.8150 - val_accuracy: 0.7920\n",
      "Epoch 383/500\n",
      "16/16 [==============================] - 0s 5ms/step - loss: 0.1846 - accuracy: 0.9195 - val_loss: 0.8282 - val_accuracy: 0.8000\n",
      "Epoch 384/500\n",
      "16/16 [==============================] - 0s 5ms/step - loss: 0.1872 - accuracy: 0.9296 - val_loss: 0.8747 - val_accuracy: 0.7920\n",
      "Epoch 385/500\n",
      "16/16 [==============================] - 0s 5ms/step - loss: 0.1870 - accuracy: 0.9235 - val_loss: 0.8010 - val_accuracy: 0.8080\n",
      "Epoch 386/500\n",
      "16/16 [==============================] - 0s 6ms/step - loss: 0.1863 - accuracy: 0.9215 - val_loss: 0.8567 - val_accuracy: 0.8080\n",
      "Epoch 387/500\n",
      "16/16 [==============================] - 0s 5ms/step - loss: 0.1889 - accuracy: 0.9256 - val_loss: 0.7875 - val_accuracy: 0.8320\n",
      "Epoch 388/500\n",
      "16/16 [==============================] - 0s 5ms/step - loss: 0.1878 - accuracy: 0.9296 - val_loss: 0.8546 - val_accuracy: 0.8000\n",
      "Epoch 389/500\n",
      "16/16 [==============================] - 0s 6ms/step - loss: 0.1847 - accuracy: 0.9276 - val_loss: 0.8380 - val_accuracy: 0.8080\n",
      "Epoch 390/500\n",
      "16/16 [==============================] - 0s 5ms/step - loss: 0.1842 - accuracy: 0.9256 - val_loss: 0.8035 - val_accuracy: 0.8080\n",
      "Epoch 391/500\n",
      "16/16 [==============================] - 0s 5ms/step - loss: 0.1848 - accuracy: 0.9195 - val_loss: 0.9221 - val_accuracy: 0.7840\n",
      "Epoch 392/500\n",
      "16/16 [==============================] - 0s 5ms/step - loss: 0.1886 - accuracy: 0.9175 - val_loss: 0.8627 - val_accuracy: 0.7840\n",
      "Epoch 393/500\n",
      "16/16 [==============================] - 0s 6ms/step - loss: 0.1873 - accuracy: 0.9276 - val_loss: 0.8626 - val_accuracy: 0.8000\n",
      "Epoch 394/500\n",
      "16/16 [==============================] - 0s 6ms/step - loss: 0.1835 - accuracy: 0.9235 - val_loss: 0.8719 - val_accuracy: 0.7920\n",
      "Epoch 395/500\n",
      "16/16 [==============================] - 0s 5ms/step - loss: 0.1833 - accuracy: 0.9276 - val_loss: 0.8353 - val_accuracy: 0.8160\n",
      "Epoch 396/500\n",
      "16/16 [==============================] - 0s 5ms/step - loss: 0.1856 - accuracy: 0.9276 - val_loss: 0.8295 - val_accuracy: 0.8080\n",
      "Epoch 397/500\n",
      "16/16 [==============================] - 0s 5ms/step - loss: 0.1842 - accuracy: 0.9215 - val_loss: 0.8199 - val_accuracy: 0.8080\n",
      "Epoch 398/500\n",
      "16/16 [==============================] - 0s 6ms/step - loss: 0.1842 - accuracy: 0.9235 - val_loss: 0.8029 - val_accuracy: 0.8080\n",
      "Epoch 399/500\n",
      "16/16 [==============================] - 0s 6ms/step - loss: 0.1858 - accuracy: 0.9256 - val_loss: 0.8597 - val_accuracy: 0.7920\n",
      "Epoch 400/500\n",
      "16/16 [==============================] - 0s 6ms/step - loss: 0.1855 - accuracy: 0.9235 - val_loss: 0.9094 - val_accuracy: 0.7920\n",
      "Epoch 401/500\n",
      "16/16 [==============================] - 0s 6ms/step - loss: 0.1866 - accuracy: 0.9276 - val_loss: 0.8463 - val_accuracy: 0.7840\n",
      "Epoch 402/500\n",
      "16/16 [==============================] - 0s 5ms/step - loss: 0.1821 - accuracy: 0.9276 - val_loss: 0.8630 - val_accuracy: 0.8000\n",
      "Epoch 403/500\n",
      "16/16 [==============================] - 0s 5ms/step - loss: 0.1831 - accuracy: 0.9235 - val_loss: 0.8344 - val_accuracy: 0.8080\n",
      "Epoch 404/500\n",
      "16/16 [==============================] - 0s 6ms/step - loss: 0.1820 - accuracy: 0.9296 - val_loss: 0.9064 - val_accuracy: 0.8080\n",
      "Epoch 405/500\n",
      "16/16 [==============================] - 0s 5ms/step - loss: 0.1815 - accuracy: 0.9276 - val_loss: 0.8505 - val_accuracy: 0.7920\n",
      "Epoch 406/500\n",
      "16/16 [==============================] - 0s 5ms/step - loss: 0.1844 - accuracy: 0.9276 - val_loss: 0.8597 - val_accuracy: 0.8080\n",
      "Epoch 407/500\n",
      "16/16 [==============================] - 0s 5ms/step - loss: 0.1847 - accuracy: 0.9256 - val_loss: 0.8720 - val_accuracy: 0.7920\n",
      "Epoch 408/500\n",
      "16/16 [==============================] - 0s 5ms/step - loss: 0.1833 - accuracy: 0.9195 - val_loss: 0.8376 - val_accuracy: 0.8160\n",
      "Epoch 409/500\n",
      "16/16 [==============================] - 0s 6ms/step - loss: 0.1820 - accuracy: 0.9215 - val_loss: 0.8637 - val_accuracy: 0.8160\n",
      "Epoch 410/500\n",
      "16/16 [==============================] - 0s 6ms/step - loss: 0.1827 - accuracy: 0.9235 - val_loss: 0.8552 - val_accuracy: 0.8080\n",
      "Epoch 411/500\n",
      "16/16 [==============================] - 0s 5ms/step - loss: 0.1839 - accuracy: 0.9276 - val_loss: 0.8238 - val_accuracy: 0.8000\n",
      "Epoch 412/500\n",
      "16/16 [==============================] - 0s 5ms/step - loss: 0.1829 - accuracy: 0.9235 - val_loss: 0.8164 - val_accuracy: 0.8000\n",
      "Epoch 413/500\n",
      "16/16 [==============================] - 0s 6ms/step - loss: 0.1827 - accuracy: 0.9276 - val_loss: 0.8721 - val_accuracy: 0.7920\n",
      "Epoch 414/500\n",
      "16/16 [==============================] - 0s 6ms/step - loss: 0.1819 - accuracy: 0.9336 - val_loss: 0.9058 - val_accuracy: 0.8000\n",
      "Epoch 415/500\n",
      "16/16 [==============================] - 0s 5ms/step - loss: 0.1861 - accuracy: 0.9155 - val_loss: 0.9034 - val_accuracy: 0.7920\n",
      "Epoch 416/500\n",
      "16/16 [==============================] - 0s 6ms/step - loss: 0.1821 - accuracy: 0.9235 - val_loss: 0.8885 - val_accuracy: 0.7920\n",
      "Epoch 417/500\n",
      "16/16 [==============================] - 0s 6ms/step - loss: 0.1817 - accuracy: 0.9235 - val_loss: 0.8879 - val_accuracy: 0.8000\n",
      "Epoch 418/500\n",
      "16/16 [==============================] - 0s 6ms/step - loss: 0.1824 - accuracy: 0.9215 - val_loss: 0.8204 - val_accuracy: 0.8240\n",
      "Epoch 419/500\n",
      "16/16 [==============================] - 0s 5ms/step - loss: 0.1795 - accuracy: 0.9256 - val_loss: 0.8761 - val_accuracy: 0.8080\n",
      "Epoch 420/500\n",
      "16/16 [==============================] - 0s 5ms/step - loss: 0.1818 - accuracy: 0.9316 - val_loss: 0.8296 - val_accuracy: 0.8160\n",
      "Epoch 421/500\n",
      "16/16 [==============================] - 0s 6ms/step - loss: 0.1779 - accuracy: 0.9276 - val_loss: 0.9618 - val_accuracy: 0.7920\n",
      "Epoch 422/500\n",
      "16/16 [==============================] - 0s 6ms/step - loss: 0.1816 - accuracy: 0.9256 - val_loss: 0.9067 - val_accuracy: 0.8080\n",
      "Epoch 423/500\n",
      "16/16 [==============================] - 0s 5ms/step - loss: 0.1828 - accuracy: 0.9195 - val_loss: 0.9060 - val_accuracy: 0.8080\n",
      "Epoch 424/500\n",
      "16/16 [==============================] - 0s 10ms/step - loss: 0.1786 - accuracy: 0.9195 - val_loss: 0.9694 - val_accuracy: 0.7840\n",
      "Epoch 425/500\n",
      "16/16 [==============================] - 0s 8ms/step - loss: 0.1812 - accuracy: 0.9276 - val_loss: 0.8444 - val_accuracy: 0.7920\n",
      "Epoch 426/500\n",
      "16/16 [==============================] - 0s 7ms/step - loss: 0.1798 - accuracy: 0.9336 - val_loss: 0.8773 - val_accuracy: 0.7920\n",
      "Epoch 427/500\n",
      "16/16 [==============================] - 0s 7ms/step - loss: 0.1801 - accuracy: 0.9235 - val_loss: 0.9039 - val_accuracy: 0.8080\n",
      "Epoch 428/500\n",
      "16/16 [==============================] - 0s 7ms/step - loss: 0.1819 - accuracy: 0.9276 - val_loss: 0.9221 - val_accuracy: 0.7920\n",
      "Epoch 429/500\n",
      "16/16 [==============================] - 0s 7ms/step - loss: 0.1776 - accuracy: 0.9296 - val_loss: 0.9052 - val_accuracy: 0.7920\n",
      "Epoch 430/500\n",
      "16/16 [==============================] - 0s 6ms/step - loss: 0.1804 - accuracy: 0.9296 - val_loss: 0.8833 - val_accuracy: 0.8000\n",
      "Epoch 431/500\n",
      "16/16 [==============================] - 0s 5ms/step - loss: 0.1809 - accuracy: 0.9296 - val_loss: 0.9498 - val_accuracy: 0.7920\n",
      "Epoch 432/500\n",
      "16/16 [==============================] - 0s 6ms/step - loss: 0.1776 - accuracy: 0.9256 - val_loss: 0.9250 - val_accuracy: 0.8000\n",
      "Epoch 433/500\n",
      "16/16 [==============================] - 0s 5ms/step - loss: 0.1774 - accuracy: 0.9276 - val_loss: 0.9355 - val_accuracy: 0.8000\n",
      "Epoch 434/500\n",
      "16/16 [==============================] - 0s 5ms/step - loss: 0.1784 - accuracy: 0.9256 - val_loss: 0.9185 - val_accuracy: 0.7920\n",
      "Epoch 435/500\n",
      "16/16 [==============================] - 0s 6ms/step - loss: 0.1809 - accuracy: 0.9336 - val_loss: 0.8794 - val_accuracy: 0.7840\n",
      "Epoch 436/500\n",
      "16/16 [==============================] - 0s 5ms/step - loss: 0.1812 - accuracy: 0.9256 - val_loss: 0.9090 - val_accuracy: 0.7920\n",
      "Epoch 437/500\n",
      "16/16 [==============================] - 0s 6ms/step - loss: 0.1785 - accuracy: 0.9316 - val_loss: 0.9478 - val_accuracy: 0.7840\n",
      "Epoch 438/500\n",
      "16/16 [==============================] - 0s 5ms/step - loss: 0.1800 - accuracy: 0.9296 - val_loss: 0.8923 - val_accuracy: 0.8080\n",
      "Epoch 439/500\n",
      "16/16 [==============================] - 0s 6ms/step - loss: 0.1785 - accuracy: 0.9276 - val_loss: 0.9069 - val_accuracy: 0.7840\n",
      "Epoch 440/500\n",
      "16/16 [==============================] - 0s 5ms/step - loss: 0.1799 - accuracy: 0.9235 - val_loss: 0.9288 - val_accuracy: 0.7840\n",
      "Epoch 441/500\n",
      "16/16 [==============================] - 0s 6ms/step - loss: 0.1779 - accuracy: 0.9296 - val_loss: 0.9040 - val_accuracy: 0.8080\n",
      "Epoch 442/500\n",
      "16/16 [==============================] - 0s 6ms/step - loss: 0.1800 - accuracy: 0.9276 - val_loss: 0.8677 - val_accuracy: 0.8080\n",
      "Epoch 443/500\n",
      "16/16 [==============================] - 0s 6ms/step - loss: 0.1774 - accuracy: 0.9235 - val_loss: 0.8579 - val_accuracy: 0.8160\n",
      "Epoch 444/500\n",
      "16/16 [==============================] - 0s 5ms/step - loss: 0.1787 - accuracy: 0.9155 - val_loss: 0.9375 - val_accuracy: 0.8000\n",
      "Epoch 445/500\n",
      "16/16 [==============================] - 0s 5ms/step - loss: 0.1778 - accuracy: 0.9376 - val_loss: 0.8993 - val_accuracy: 0.8000\n",
      "Epoch 446/500\n",
      "16/16 [==============================] - 0s 6ms/step - loss: 0.1790 - accuracy: 0.9276 - val_loss: 0.9173 - val_accuracy: 0.8000\n",
      "Epoch 447/500\n",
      "16/16 [==============================] - 0s 5ms/step - loss: 0.1783 - accuracy: 0.9215 - val_loss: 0.9100 - val_accuracy: 0.8080\n",
      "Epoch 448/500\n",
      "16/16 [==============================] - 0s 6ms/step - loss: 0.1742 - accuracy: 0.9316 - val_loss: 0.9156 - val_accuracy: 0.8000\n",
      "Epoch 449/500\n",
      "16/16 [==============================] - 0s 6ms/step - loss: 0.1781 - accuracy: 0.9256 - val_loss: 0.8985 - val_accuracy: 0.8160\n",
      "Epoch 450/500\n",
      "16/16 [==============================] - 0s 5ms/step - loss: 0.1778 - accuracy: 0.9256 - val_loss: 0.9041 - val_accuracy: 0.8000\n",
      "Epoch 451/500\n",
      "16/16 [==============================] - 0s 6ms/step - loss: 0.1781 - accuracy: 0.9316 - val_loss: 0.9222 - val_accuracy: 0.8080\n",
      "Epoch 452/500\n",
      "16/16 [==============================] - 0s 5ms/step - loss: 0.1811 - accuracy: 0.9276 - val_loss: 0.9053 - val_accuracy: 0.8000\n",
      "Epoch 453/500\n",
      "16/16 [==============================] - 0s 5ms/step - loss: 0.1761 - accuracy: 0.9256 - val_loss: 0.8920 - val_accuracy: 0.8080\n",
      "Epoch 454/500\n",
      "16/16 [==============================] - 0s 5ms/step - loss: 0.1788 - accuracy: 0.9296 - val_loss: 0.9987 - val_accuracy: 0.7920\n",
      "Epoch 455/500\n",
      "16/16 [==============================] - 0s 5ms/step - loss: 0.1733 - accuracy: 0.9235 - val_loss: 0.9001 - val_accuracy: 0.8080\n",
      "Epoch 456/500\n",
      "16/16 [==============================] - 0s 6ms/step - loss: 0.1740 - accuracy: 0.9316 - val_loss: 0.9981 - val_accuracy: 0.7920\n",
      "Epoch 457/500\n",
      "16/16 [==============================] - 0s 5ms/step - loss: 0.1774 - accuracy: 0.9256 - val_loss: 0.8917 - val_accuracy: 0.8000\n",
      "Epoch 458/500\n",
      "16/16 [==============================] - 0s 5ms/step - loss: 0.1758 - accuracy: 0.9316 - val_loss: 0.8948 - val_accuracy: 0.7920\n",
      "Epoch 459/500\n",
      "16/16 [==============================] - 0s 6ms/step - loss: 0.1787 - accuracy: 0.9276 - val_loss: 0.9523 - val_accuracy: 0.8080\n",
      "Epoch 460/500\n",
      "16/16 [==============================] - 0s 5ms/step - loss: 0.1792 - accuracy: 0.9256 - val_loss: 0.9258 - val_accuracy: 0.8080\n",
      "Epoch 461/500\n",
      "16/16 [==============================] - 0s 5ms/step - loss: 0.1759 - accuracy: 0.9276 - val_loss: 0.9231 - val_accuracy: 0.8080\n",
      "Epoch 462/500\n",
      "16/16 [==============================] - 0s 5ms/step - loss: 0.1756 - accuracy: 0.9256 - val_loss: 0.9218 - val_accuracy: 0.8160\n",
      "Epoch 463/500\n",
      "16/16 [==============================] - 0s 6ms/step - loss: 0.1709 - accuracy: 0.9296 - val_loss: 0.9542 - val_accuracy: 0.8000\n",
      "Epoch 464/500\n",
      "16/16 [==============================] - 0s 5ms/step - loss: 0.1797 - accuracy: 0.9296 - val_loss: 0.9409 - val_accuracy: 0.7920\n",
      "Epoch 465/500\n",
      "16/16 [==============================] - 0s 5ms/step - loss: 0.1721 - accuracy: 0.9276 - val_loss: 0.9328 - val_accuracy: 0.8000\n",
      "Epoch 466/500\n",
      "16/16 [==============================] - 0s 6ms/step - loss: 0.1759 - accuracy: 0.9256 - val_loss: 1.0087 - val_accuracy: 0.8000\n",
      "Epoch 467/500\n",
      "16/16 [==============================] - 0s 5ms/step - loss: 0.1763 - accuracy: 0.9296 - val_loss: 0.9174 - val_accuracy: 0.8160\n",
      "Epoch 468/500\n",
      "16/16 [==============================] - 0s 5ms/step - loss: 0.1756 - accuracy: 0.9276 - val_loss: 0.9137 - val_accuracy: 0.8320\n",
      "Epoch 469/500\n",
      "16/16 [==============================] - 0s 5ms/step - loss: 0.1779 - accuracy: 0.9256 - val_loss: 0.9703 - val_accuracy: 0.7920\n",
      "Epoch 470/500\n",
      "16/16 [==============================] - 0s 6ms/step - loss: 0.1771 - accuracy: 0.9256 - val_loss: 0.9867 - val_accuracy: 0.7920\n",
      "Epoch 471/500\n",
      "16/16 [==============================] - 0s 5ms/step - loss: 0.1750 - accuracy: 0.9256 - val_loss: 0.9403 - val_accuracy: 0.8160\n",
      "Epoch 472/500\n",
      "16/16 [==============================] - 0s 5ms/step - loss: 0.1750 - accuracy: 0.9276 - val_loss: 1.0126 - val_accuracy: 0.7840\n",
      "Epoch 473/500\n",
      "16/16 [==============================] - 0s 5ms/step - loss: 0.1750 - accuracy: 0.9276 - val_loss: 0.9358 - val_accuracy: 0.8080\n",
      "Epoch 474/500\n",
      "16/16 [==============================] - 0s 5ms/step - loss: 0.1769 - accuracy: 0.9276 - val_loss: 0.9752 - val_accuracy: 0.7920\n",
      "Epoch 475/500\n",
      "16/16 [==============================] - 0s 5ms/step - loss: 0.1730 - accuracy: 0.9256 - val_loss: 1.0060 - val_accuracy: 0.7840\n",
      "Epoch 476/500\n",
      "16/16 [==============================] - 0s 5ms/step - loss: 0.1756 - accuracy: 0.9316 - val_loss: 0.8991 - val_accuracy: 0.8080\n",
      "Epoch 477/500\n",
      "16/16 [==============================] - 0s 6ms/step - loss: 0.1730 - accuracy: 0.9316 - val_loss: 0.9239 - val_accuracy: 0.8000\n",
      "Epoch 478/500\n",
      "16/16 [==============================] - 0s 5ms/step - loss: 0.1752 - accuracy: 0.9215 - val_loss: 0.9279 - val_accuracy: 0.8160\n",
      "Epoch 479/500\n",
      "16/16 [==============================] - 0s 5ms/step - loss: 0.1734 - accuracy: 0.9276 - val_loss: 0.9485 - val_accuracy: 0.8000\n",
      "Epoch 480/500\n",
      "16/16 [==============================] - 0s 5ms/step - loss: 0.1753 - accuracy: 0.9276 - val_loss: 0.9341 - val_accuracy: 0.7920\n",
      "Epoch 481/500\n",
      "16/16 [==============================] - 0s 5ms/step - loss: 0.1733 - accuracy: 0.9276 - val_loss: 0.9458 - val_accuracy: 0.7920\n",
      "Epoch 482/500\n",
      "16/16 [==============================] - 0s 5ms/step - loss: 0.1715 - accuracy: 0.9296 - val_loss: 0.9974 - val_accuracy: 0.7840\n",
      "Epoch 483/500\n",
      "16/16 [==============================] - 0s 6ms/step - loss: 0.1730 - accuracy: 0.9316 - val_loss: 0.9538 - val_accuracy: 0.8160\n",
      "Epoch 484/500\n",
      "16/16 [==============================] - 0s 6ms/step - loss: 0.1755 - accuracy: 0.9276 - val_loss: 1.0110 - val_accuracy: 0.7920\n",
      "Epoch 485/500\n",
      "16/16 [==============================] - 0s 5ms/step - loss: 0.1757 - accuracy: 0.9296 - val_loss: 1.0275 - val_accuracy: 0.7920\n",
      "Epoch 486/500\n",
      "16/16 [==============================] - 0s 5ms/step - loss: 0.1723 - accuracy: 0.9336 - val_loss: 0.9879 - val_accuracy: 0.7920\n",
      "Epoch 487/500\n",
      "16/16 [==============================] - 0s 5ms/step - loss: 0.1733 - accuracy: 0.9296 - val_loss: 0.9620 - val_accuracy: 0.7920\n",
      "Epoch 488/500\n",
      "16/16 [==============================] - 0s 5ms/step - loss: 0.1743 - accuracy: 0.9256 - val_loss: 0.9888 - val_accuracy: 0.7920\n",
      "Epoch 489/500\n",
      "16/16 [==============================] - 0s 5ms/step - loss: 0.1712 - accuracy: 0.9276 - val_loss: 1.0375 - val_accuracy: 0.7920\n",
      "Epoch 490/500\n",
      "16/16 [==============================] - 0s 5ms/step - loss: 0.1719 - accuracy: 0.9296 - val_loss: 0.9269 - val_accuracy: 0.8080\n",
      "Epoch 491/500\n",
      "16/16 [==============================] - 0s 5ms/step - loss: 0.1712 - accuracy: 0.9195 - val_loss: 1.0101 - val_accuracy: 0.7840\n",
      "Epoch 492/500\n",
      "16/16 [==============================] - 0s 5ms/step - loss: 0.1737 - accuracy: 0.9296 - val_loss: 1.0495 - val_accuracy: 0.7760\n",
      "Epoch 493/500\n",
      "16/16 [==============================] - 0s 6ms/step - loss: 0.1726 - accuracy: 0.9256 - val_loss: 1.0226 - val_accuracy: 0.7840\n",
      "Epoch 494/500\n",
      "16/16 [==============================] - 0s 6ms/step - loss: 0.1706 - accuracy: 0.9316 - val_loss: 1.0839 - val_accuracy: 0.7840\n",
      "Epoch 495/500\n",
      "16/16 [==============================] - 0s 5ms/step - loss: 0.1742 - accuracy: 0.9316 - val_loss: 1.0527 - val_accuracy: 0.7840\n",
      "Epoch 496/500\n",
      "16/16 [==============================] - 0s 5ms/step - loss: 0.1711 - accuracy: 0.9256 - val_loss: 1.0017 - val_accuracy: 0.7920\n",
      "Epoch 497/500\n",
      "16/16 [==============================] - 0s 5ms/step - loss: 0.1712 - accuracy: 0.9256 - val_loss: 1.0491 - val_accuracy: 0.7840\n",
      "Epoch 498/500\n",
      "16/16 [==============================] - 0s 5ms/step - loss: 0.1716 - accuracy: 0.9276 - val_loss: 1.0633 - val_accuracy: 0.7760\n",
      "Epoch 499/500\n",
      "16/16 [==============================] - 0s 6ms/step - loss: 0.1713 - accuracy: 0.9235 - val_loss: 1.0399 - val_accuracy: 0.7680\n",
      "Epoch 500/500\n",
      "16/16 [==============================] - 0s 5ms/step - loss: 0.1711 - accuracy: 0.9235 - val_loss: 0.9497 - val_accuracy: 0.8000\n"
     ]
    }
   ],
   "source": [
    "keras_model = keras.models.Sequential([\n",
    "    \n",
    "    keras.layers.Input(shape=[12]),\n",
    "    keras.layers.Dense(32, activation=\"relu\"),     \n",
    "    keras.layers.Dense(16, activation=\"relu\"),\n",
    "    keras.layers.Dense(8, activation=\"relu\"),     \n",
    "    keras.layers.Dense(1, activation=\"sigmoid\")\n",
    "])\n",
    "\n",
    "keras_model.compile(\n",
    "        optimizer=tf.keras.optimizers.RMSprop(),\n",
    "        loss=\"binary_crossentropy\",\n",
    "        metrics=[\"accuracy\"]\n",
    "    )\n",
    "\n",
    "hist = keras_model.fit(X_train_s, y_train, \n",
    "                       validation_split=0.2,\n",
    "                       epochs=500)"
   ]
  },
  {
   "cell_type": "code",
   "execution_count": 39,
   "id": "50be1bac",
   "metadata": {
    "execution": {
     "iopub.execute_input": "2023-03-02T20:37:23.029274Z",
     "iopub.status.busy": "2023-03-02T20:37:23.028913Z",
     "iopub.status.idle": "2023-03-02T20:37:23.415854Z",
     "shell.execute_reply": "2023-03-02T20:37:23.414826Z"
    },
    "papermill": {
     "duration": 0.51639,
     "end_time": "2023-03-02T20:37:23.418686",
     "exception": false,
     "start_time": "2023-03-02T20:37:22.902296",
     "status": "completed"
    },
    "tags": []
   },
   "outputs": [
    {
     "data": {
      "text/plain": [
       "<AxesSubplot:>"
      ]
     },
     "execution_count": 39,
     "metadata": {},
     "output_type": "execute_result"
    },
    {
     "data": {
      "image/png": "[encoded data removed]",
      "text/plain": [
       "<Figure size 1200x600 with 1 Axes>"
      ]
     },
     "metadata": {},
     "output_type": "display_data"
    }
   ],
   "source": [
    "pd.DataFrame(hist.history).plot(figsize=PLOT_SIZE)"
   ]
  },
  {
   "cell_type": "markdown",
   "id": "70b4073d",
   "metadata": {
    "papermill": {
     "duration": 0.114518,
     "end_time": "2023-03-02T20:37:23.651925",
     "exception": false,
     "start_time": "2023-03-02T20:37:23.537407",
     "status": "completed"
    },
    "tags": []
   },
   "source": [
    "## Custom loss fucntion"
   ]
  },
  {
   "cell_type": "code",
   "execution_count": 40,
   "id": "5d0cd1ff",
   "metadata": {
    "execution": {
     "iopub.execute_input": "2023-03-02T20:37:23.881823Z",
     "iopub.status.busy": "2023-03-02T20:37:23.881040Z",
     "iopub.status.idle": "2023-03-02T20:37:23.892477Z",
     "shell.execute_reply": "2023-03-02T20:37:23.891596Z"
    },
    "papermill": {
     "duration": 0.129686,
     "end_time": "2023-03-02T20:37:23.894723",
     "exception": false,
     "start_time": "2023-03-02T20:37:23.765037",
     "status": "completed"
    },
    "tags": []
   },
   "outputs": [],
   "source": [
    "X_train_s = minmax_scaler.fit_transform(X_train)\n",
    "X_test_s = minmax_scaler.transform(X_test)"
   ]
  },
  {
   "cell_type": "markdown",
   "id": "1abe655c",
   "metadata": {
    "papermill": {
     "duration": 0.117049,
     "end_time": "2023-03-02T20:37:24.125361",
     "exception": false,
     "start_time": "2023-03-02T20:37:24.008312",
     "status": "completed"
    },
    "tags": []
   },
   "source": [
    "loss = -(y_true * log(y_pred) + (1-y_true) * log(1-y_pred))."
   ]
  },
  {
   "cell_type": "code",
   "execution_count": 41,
   "id": "e9c1b279",
   "metadata": {
    "execution": {
     "iopub.execute_input": "2023-03-02T20:37:24.370154Z",
     "iopub.status.busy": "2023-03-02T20:37:24.369564Z",
     "iopub.status.idle": "2023-03-02T20:37:24.387158Z",
     "shell.execute_reply": "2023-03-02T20:37:24.385759Z"
    },
    "papermill": {
     "duration": 0.150981,
     "end_time": "2023-03-02T20:37:24.390813",
     "exception": false,
     "start_time": "2023-03-02T20:37:24.239832",
     "status": "completed"
    },
    "tags": []
   },
   "outputs": [],
   "source": [
    "def calculate_binary_coef(y_true, y_pred):\n",
    "\n",
    "    y_true = tf.cast(y_true, tf.float32)\n",
    "    y_pred = tf.cast(y_pred, tf.float32)\n",
    "    \n",
    "    left = y_true * K.log(y_pred)\n",
    "    right = (1-y_true) *  K.log(1-y_pred)\n",
    "    return -(left + right)\n",
    "\n",
    "    #return -K.mean(K.sum(y_true* K.log(y_pred)))\n",
    "\n",
    "def custom_loss_binary():\n",
    "    def binary(y_true, y_pred):\n",
    "        return calculate_binary_coef(y_true, y_pred)\n",
    "    return binary\n",
    "\n",
    "\n",
    "def calculate_dice_coef(y_true, y_pred, smooth):\n",
    "    y_true = tf.cast(y_true, tf.float32)\n",
    "    y_pred = tf.cast(y_pred, tf.float32)\n",
    "    \n",
    "    y_true_f = K.flatten(y_true)\n",
    "    y_pred_f = K.flatten(y_pred)\n",
    "    intersection = K.sum(y_true_f * y_pred_f)\n",
    "    return (2. * intersection + smooth) / (K.sum(y_true_f) + K.sum(y_pred_f))\n",
    "\n",
    "def custom_loss_dice(smooth):\n",
    "    def dice(y_true, y_pred):\n",
    "        return -calculate_dice_coef(y_true, y_pred, smooth)\n",
    "    return dice\n",
    "\n"
   ]
  },
  {
   "cell_type": "code",
   "execution_count": 42,
   "id": "062be42a",
   "metadata": {
    "execution": {
     "iopub.execute_input": "2023-03-02T20:37:24.835990Z",
     "iopub.status.busy": "2023-03-02T20:37:24.835507Z",
     "iopub.status.idle": "2023-03-02T20:37:24.842649Z",
     "shell.execute_reply": "2023-03-02T20:37:24.841688Z"
    },
    "papermill": {
     "duration": 0.256375,
     "end_time": "2023-03-02T20:37:24.844941",
     "exception": false,
     "start_time": "2023-03-02T20:37:24.588566",
     "status": "completed"
    },
    "tags": []
   },
   "outputs": [],
   "source": [
    "model_binary = custom_loss_binary()\n",
    "model_dice = custom_loss_dice(smooth=1e-5)"
   ]
  },
  {
   "cell_type": "markdown",
   "id": "f8ac2ce7",
   "metadata": {
    "papermill": {
     "duration": 0.110315,
     "end_time": "2023-03-02T20:37:25.118137",
     "exception": false,
     "start_time": "2023-03-02T20:37:25.007822",
     "status": "completed"
    },
    "tags": []
   },
   "source": [
    "### custom_loss_binary"
   ]
  },
  {
   "cell_type": "code",
   "execution_count": 43,
   "id": "ff3d9240",
   "metadata": {
    "execution": {
     "iopub.execute_input": "2023-03-02T20:37:25.350849Z",
     "iopub.status.busy": "2023-03-02T20:37:25.350480Z",
     "iopub.status.idle": "2023-03-02T20:37:26.506236Z",
     "shell.execute_reply": "2023-03-02T20:37:26.504880Z"
    },
    "papermill": {
     "duration": 1.279336,
     "end_time": "2023-03-02T20:37:26.508950",
     "exception": false,
     "start_time": "2023-03-02T20:37:25.229614",
     "status": "completed"
    },
    "tags": []
   },
   "outputs": [
    {
     "name": "stdout",
     "output_type": "stream",
     "text": [
      "Epoch 1/4\n",
      "16/16 [==============================] - 1s 13ms/step - loss: 0.9112 - accuracy: 0.8008 - val_loss: 0.7055 - val_accuracy: 0.8240\n",
      "Epoch 2/4\n",
      "16/16 [==============================] - 0s 5ms/step - loss: 0.6026 - accuracy: 0.7928 - val_loss: 0.6820 - val_accuracy: 0.8080\n",
      "Epoch 3/4\n",
      "16/16 [==============================] - 0s 6ms/step - loss: 0.5063 - accuracy: 0.7968 - val_loss: 0.6464 - val_accuracy: 0.7840\n",
      "Epoch 4/4\n",
      "16/16 [==============================] - 0s 5ms/step - loss: 0.4603 - accuracy: 0.8229 - val_loss: 0.5769 - val_accuracy: 0.7920\n"
     ]
    }
   ],
   "source": [
    "keras_model.compile(\n",
    "        optimizer=tf.keras.optimizers.RMSprop(),\n",
    "        loss=model_binary,\n",
    "        metrics=[\"accuracy\"]\n",
    "    )\n",
    "\n",
    "hist = keras_model.fit(X_train_s, y_train, \n",
    "                       validation_split=0.2,\n",
    "                       epochs=4)"
   ]
  },
  {
   "cell_type": "code",
   "execution_count": 44,
   "id": "b1e8b5ba",
   "metadata": {
    "execution": {
     "iopub.execute_input": "2023-03-02T20:37:26.746886Z",
     "iopub.status.busy": "2023-03-02T20:37:26.745703Z",
     "iopub.status.idle": "2023-03-02T20:37:27.106987Z",
     "shell.execute_reply": "2023-03-02T20:37:27.105934Z"
    },
    "papermill": {
     "duration": 0.485045,
     "end_time": "2023-03-02T20:37:27.109607",
     "exception": false,
     "start_time": "2023-03-02T20:37:26.624562",
     "status": "completed"
    },
    "tags": []
   },
   "outputs": [
    {
     "data": {
      "text/plain": [
       "<AxesSubplot:>"
      ]
     },
     "execution_count": 44,
     "metadata": {},
     "output_type": "execute_result"
    },
    {
     "data": {
      "image/png": "[encoded data removed]",
      "text/plain": [
       "<Figure size 1200x600 with 1 Axes>"
      ]
     },
     "metadata": {},
     "output_type": "display_data"
    }
   ],
   "source": [
    "pd.DataFrame(hist.history).plot(figsize=PLOT_SIZE)"
   ]
  },
  {
   "cell_type": "markdown",
   "id": "1d97b228",
   "metadata": {
    "papermill": {
     "duration": 0.120465,
     "end_time": "2023-03-02T20:37:27.347974",
     "exception": false,
     "start_time": "2023-03-02T20:37:27.227509",
     "status": "completed"
    },
    "tags": []
   },
   "source": [
    "### custom_loss_dice"
   ]
  },
  {
   "cell_type": "code",
   "execution_count": 45,
   "id": "a9951643",
   "metadata": {
    "execution": {
     "iopub.execute_input": "2023-03-02T20:37:27.585398Z",
     "iopub.status.busy": "2023-03-02T20:37:27.585041Z",
     "iopub.status.idle": "2023-03-02T20:37:28.787144Z",
     "shell.execute_reply": "2023-03-02T20:37:28.786183Z"
    },
    "papermill": {
     "duration": 1.322125,
     "end_time": "2023-03-02T20:37:28.789201",
     "exception": false,
     "start_time": "2023-03-02T20:37:27.467076",
     "status": "completed"
    },
    "tags": []
   },
   "outputs": [
    {
     "name": "stdout",
     "output_type": "stream",
     "text": [
      "Epoch 1/4\n",
      "16/16 [==============================] - 1s 15ms/step - loss: -0.7195 - accuracy: 0.8169 - val_loss: -0.7198 - val_accuracy: 0.8160\n",
      "Epoch 2/4\n",
      "16/16 [==============================] - 0s 5ms/step - loss: -0.7366 - accuracy: 0.8270 - val_loss: -0.7302 - val_accuracy: 0.8000\n",
      "Epoch 3/4\n",
      "16/16 [==============================] - 0s 5ms/step - loss: -0.7583 - accuracy: 0.8370 - val_loss: -0.7319 - val_accuracy: 0.8000\n",
      "Epoch 4/4\n",
      "16/16 [==============================] - 0s 5ms/step - loss: -0.7638 - accuracy: 0.8330 - val_loss: -0.7344 - val_accuracy: 0.8000\n"
     ]
    }
   ],
   "source": [
    "keras_model.compile(\n",
    "        optimizer= tf.keras.optimizers.RMSprop(),\n",
    "        loss=model_dice,\n",
    "        metrics=[\"accuracy\"]\n",
    "    )\n",
    "\n",
    "hist = keras_model.fit(X_train_s, y_train, \n",
    "                       validation_split=0.2,\n",
    "                       epochs=4)"
   ]
  },
  {
   "cell_type": "code",
   "execution_count": 46,
   "id": "659be80c",
   "metadata": {
    "execution": {
     "iopub.execute_input": "2023-03-02T20:37:29.020090Z",
     "iopub.status.busy": "2023-03-02T20:37:29.019182Z",
     "iopub.status.idle": "2023-03-02T20:37:29.489107Z",
     "shell.execute_reply": "2023-03-02T20:37:29.488030Z"
    },
    "papermill": {
     "duration": 0.58758,
     "end_time": "2023-03-02T20:37:29.491945",
     "exception": false,
     "start_time": "2023-03-02T20:37:28.904365",
     "status": "completed"
    },
    "tags": []
   },
   "outputs": [
    {
     "data": {
      "text/plain": [
       "<AxesSubplot:>"
      ]
     },
     "execution_count": 46,
     "metadata": {},
     "output_type": "execute_result"
    },
    {
     "data": {
      "image/png": "[encoded data removed]",
      "text/plain": [
       "<Figure size 1200x600 with 1 Axes>"
      ]
     },
     "metadata": {},
     "output_type": "display_data"
    }
   ],
   "source": [
    "pd.DataFrame(hist.history).plot(figsize=PLOT_SIZE)"
   ]
  },
  {
   "cell_type": "code",
   "execution_count": 47,
   "id": "3232f01e",
   "metadata": {
    "execution": {
     "iopub.execute_input": "2023-03-02T20:37:29.838769Z",
     "iopub.status.busy": "2023-03-02T20:37:29.838039Z",
     "iopub.status.idle": "2023-03-02T20:37:29.845132Z",
     "shell.execute_reply": "2023-03-02T20:37:29.843816Z"
    },
    "papermill": {
     "duration": 0.184425,
     "end_time": "2023-03-02T20:37:29.851113",
     "exception": false,
     "start_time": "2023-03-02T20:37:29.666688",
     "status": "completed"
    },
    "tags": []
   },
   "outputs": [],
   "source": [
    "# Na osnovu zastupljenosti prezivelih i ne\n",
    "def my_loss(y_true, y_pred):\n",
    "            \n",
    "    loss = K.abs(float(y_pred) - float(y_true))\n",
    "    loss = loss *[0.38, 0.62]\n",
    "    loss = K.sum(loss, axis=1)   \n",
    "    return loss"
   ]
  },
  {
   "cell_type": "code",
   "execution_count": 48,
   "id": "7c51e63f",
   "metadata": {
    "execution": {
     "iopub.execute_input": "2023-03-02T20:37:30.204620Z",
     "iopub.status.busy": "2023-03-02T20:37:30.204190Z",
     "iopub.status.idle": "2023-03-02T20:37:31.562245Z",
     "shell.execute_reply": "2023-03-02T20:37:31.561237Z"
    },
    "papermill": {
     "duration": 1.537812,
     "end_time": "2023-03-02T20:37:31.564704",
     "exception": false,
     "start_time": "2023-03-02T20:37:30.026892",
     "status": "completed"
    },
    "tags": []
   },
   "outputs": [
    {
     "name": "stdout",
     "output_type": "stream",
     "text": [
      "Epoch 1/4\n",
      "16/16 [==============================] - 1s 13ms/step - loss: 0.1782 - accuracy: 0.8390 - val_loss: 0.1894 - val_accuracy: 0.8240\n",
      "Epoch 2/4\n",
      "16/16 [==============================] - 0s 5ms/step - loss: 0.1707 - accuracy: 0.8410 - val_loss: 0.1829 - val_accuracy: 0.8320\n",
      "Epoch 3/4\n",
      "16/16 [==============================] - 0s 6ms/step - loss: 0.1651 - accuracy: 0.8431 - val_loss: 0.1823 - val_accuracy: 0.8320\n",
      "Epoch 4/4\n",
      "16/16 [==============================] - 0s 6ms/step - loss: 0.1623 - accuracy: 0.8531 - val_loss: 0.1799 - val_accuracy: 0.8320\n"
     ]
    }
   ],
   "source": [
    "keras_model.compile(\n",
    "        optimizer= tf.keras.optimizers.RMSprop(),\n",
    "        loss=my_loss,\n",
    "        metrics=[\"accuracy\"]\n",
    "    )\n",
    "\n",
    "hist = keras_model.fit(X_train_s, y_train, \n",
    "                       validation_split=0.2,\n",
    "                       epochs=4)"
   ]
  },
  {
   "cell_type": "code",
   "execution_count": 49,
   "id": "27619cc3",
   "metadata": {
    "execution": {
     "iopub.execute_input": "2023-03-02T20:37:31.802181Z",
     "iopub.status.busy": "2023-03-02T20:37:31.801242Z",
     "iopub.status.idle": "2023-03-02T20:37:32.145178Z",
     "shell.execute_reply": "2023-03-02T20:37:32.144279Z"
    },
    "papermill": {
     "duration": 0.462027,
     "end_time": "2023-03-02T20:37:32.147371",
     "exception": false,
     "start_time": "2023-03-02T20:37:31.685344",
     "status": "completed"
    },
    "tags": []
   },
   "outputs": [
    {
     "data": {
      "text/plain": [
       "<AxesSubplot:>"
      ]
     },
     "execution_count": 49,
     "metadata": {},
     "output_type": "execute_result"
    },
    {
     "data": {
      "image/png": "[encoded data removed]",
      "text/plain": [
       "<Figure size 1200x600 with 1 Axes>"
      ]
     },
     "metadata": {},
     "output_type": "display_data"
    }
   ],
   "source": [
    "pd.DataFrame(hist.history).plot(figsize=PLOT_SIZE)"
   ]
  }
 ],
 "metadata": {
  "kernelspec": {
   "display_name": "Python 3",
   "language": "python",
   "name": "python3"
  },
  "language_info": {
   "codemirror_mode": {
    "name": "ipython",
    "version": 3
   },
   "file_extension": ".py",
   "mimetype": "text/x-python",
   "name": "python",
   "nbconvert_exporter": "python",
   "pygments_lexer": "ipython3",
   "version": "3.7.12"
  },
  "papermill": {
   "default_parameters": {},
   "duration": 142.527335,
   "end_time": "2023-03-02T20:37:36.137404",
   "environment_variables": {},
   "exception": null,
   "input_path": "__notebook__.ipynb",
   "output_path": "__notebook__.ipynb",
   "parameters": {},
   "start_time": "2023-03-02T20:35:13.610069",
   "version": "2.3.4"
  }
 },
 "nbformat": 4,
 "nbformat_minor": 5
}
